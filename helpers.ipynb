{
 "cells": [
  {
   "cell_type": "markdown",
   "id": "7bb7ae5c-3b09-47dd-9732-9c59a52824d7",
   "metadata": {},
   "source": [
    "# Summer school environment helpers\n",
    "- some hints for using the ENES summer school environment"
   ]
  },
  {
   "cell_type": "markdown",
   "id": "0a277cd2-d6cc-488f-bd28-0e783d601b2b",
   "metadata": {
    "tags": []
   },
   "source": [
    "## Get notebooks and slides\n",
    "- to get the notebooks please clone the [summer school github repo](https://github.com/IS-ENES-Data/summer-school-2022.git)\n",
    "- the slides are hosted at https://shorturl.at/loQWZ "
   ]
  },
  {
   "cell_type": "code",
   "execution_count": null,
   "id": "58e12fba-5bf3-4592-95ba-4df99983fcc2",
   "metadata": {},
   "outputs": [],
   "source": [
    "# clone repo\n",
    "!git clone https://github.com/IS-ENES-Data/summer-school-2022.git"
   ]
  },
  {
   "cell_type": "markdown",
   "id": "49a87be6-87a7-4da6-adec-6095137b085f",
   "metadata": {},
   "source": [
    "### copy the test data needed by some of the notebooks"
   ]
  },
  {
   "cell_type": "code",
   "execution_count": null,
   "id": "d4f0435a-473a-4414-9e38-8aaca787a92f",
   "metadata": {},
   "outputs": [],
   "source": [
    "!cd summer-school-2022\n",
    "!cp -r /work/bk1088/summer-school/data ."
   ]
  },
  {
   "cell_type": "markdown",
   "id": "1d8df58f-0710-4c19-ab60-b8cb182f1e72",
   "metadata": {},
   "source": [
    "## Conda python environments\n",
    "- most notebooks work with the default \"Python3\" kernel\n",
    "- info on creating own kernels is available at [DKRZ jupyter kernels](https://docs.dkrz.de/doc/software%26services/jupyterhub/kernels.html) "
   ]
  },
  {
   "cell_type": "markdown",
   "id": "1ebaa064-8815-48ab-bbd2-5f16e28734cc",
   "metadata": {},
   "source": [
    "- a pre configured environment is available, you can install it by following these steps:\n",
    "   - get source:  \n",
    "         - cd summer-school-2022\n",
    "   - init conda: \n",
    "         - conda init bash\n",
    "         - source ~/.bashrc\n",
    "   - create conda env: \n",
    "         - mamba env create\n",
    "         - conda activate summerschool_2022\n",
    "   - make kernel: \n",
    "         - python -m ipykernel install --user --name \"summerschool_2022\" --display-name=\"summerschool_2022\"\n",
    "   - open notebooks in jupyter and choose kernel \"summerschool_2022      "
   ]
  },
  {
   "cell_type": "markdown",
   "id": "70aa4d06-13b7-421d-ac0e-50f8033f008c",
   "metadata": {},
   "source": [
    "## Dask dashboard"
   ]
  },
  {
   "cell_type": "markdown",
   "id": "c9d13239-237d-4a29-8029-6dbe3878685e",
   "metadata": {},
   "source": [
    "- use the following cell to set the appropriate dask dashboard link\n",
    "- copy the generated proxy link into the jupyter-hub dask extension window"
   ]
  },
  {
   "cell_type": "code",
   "execution_count": null,
   "id": "4dca972b-261c-4875-8c1a-5c13f2fe6384",
   "metadata": {},
   "outputs": [],
   "source": [
    "# set the correct status link for dashboard\n",
    "import dask\n",
    "from dask.distributed import Client\n",
    "\n",
    "dask.config.config.get('distributed').get('dashboard').update({'link':'{JUPYTERHUB_SERVICE_PREFIX}/proxy/{port}/status'})"
   ]
  },
  {
   "cell_type": "markdown",
   "id": "090b3809-e70e-489f-94c6-b68a26a9d060",
   "metadata": {},
   "source": [
    "### show representation of dask graph\n",
    "- needs python-graphviz and graphviz executable on system Path"
   ]
  },
  {
   "cell_type": "code",
   "execution_count": null,
   "id": "87ca8c3e-43a6-4630-bdb3-36dafa9c71f2",
   "metadata": {},
   "outputs": [],
   "source": [
    "import dask.array as da\n",
    "x = da.ones((15, 15), chunks=(5, 5))\n",
    "\n",
    "y = x + x.T\n",
    "\n",
    "# visualize the low level Dask graph after optimizations\n",
    "y.visualize(filename=\"transpose_opt.svg\", optimize_graph=True)"
   ]
  },
  {
   "cell_type": "code",
   "execution_count": null,
   "id": "76d5c588-6c39-4c42-b34a-6f8b6adc63a1",
   "metadata": {},
   "outputs": [],
   "source": [
    "# make sure to modify path settings before (see below)\n",
    "import dask.array as da\n",
    "x = da.ones((15, 15), chunks=(5, 5))\n",
    "y = x + x.T\n",
    "\n",
    "# visualize the high level Dask graph\n",
    "y.dask.visualize(filename='transpose-hlg.svg')"
   ]
  },
  {
   "cell_type": "code",
   "execution_count": null,
   "id": "90547d20-9b20-4ab6-a467-07941d134501",
   "metadata": {},
   "outputs": [],
   "source": [
    "import dask.array as da\n",
    "x = da.ones((15, 15), chunks=(5, 5))\n",
    "y = x + x.T\n",
    "\n",
    "y.dask  # shows the HTML representation in a Jupyter notebook"
   ]
  },
  {
   "cell_type": "markdown",
   "id": "717ff273-8251-471c-a69b-32d406d60d09",
   "metadata": {},
   "source": [
    "## Modify PATH settings for juypter environment"
   ]
  },
  {
   "cell_type": "code",
   "execution_count": null,
   "id": "9e5963d8-ee34-4d3a-805d-3a1b7ade8724",
   "metadata": {},
   "outputs": [],
   "source": [
    "# Some necessary steps when using a custom conda environment with pyproj and CDO installed\n",
    "import conda, os\n",
    "conda_file_dir = conda.__file__\n",
    "conda_dir = conda_file_dir.split('lib')[0]\n",
    "proj_lib = os.path.join(os.path.join(conda_dir, 'share'), 'proj')\n",
    "os.environ[\"PROJ_LIB\"] = proj_lib\n",
    "os.environ['PATH'] += os.pathsep + os.path.join(conda_dir, 'bin')"
   ]
  },
  {
   "cell_type": "markdown",
   "id": "09321a4e-a07a-470d-ab9d-3213d3796580",
   "metadata": {},
   "source": [
    "## Some references\n",
    "\n",
    "DKRZ specific help:\n",
    "- DKRZ documentation: https://docs.dkrz.de/\n",
    "- tutorials and use cases: https://tutorials.dkrz.de/ \n",
    "\n",
    "recommended Git repositories to clone\n",
    "- summer school notebooks: https://github.com/IS-ENES-Data/summer-school-2022 \n",
    "- xarray tutorial:  https://github.com/xarray-contrib/xarray-tutorial \n",
    "- dask tutorial: https://github.com/dask/dask-tutorial \n",
    "- GFDL AWS cmip6 examples: https://github.com/aradhakrishnanGFDL/gfdl-aws-analysis.git \n",
    "- NCI cmip examples: https://github.com/NCI-data-analysis-platform/climate-cmip.git \n",
    "- Pangeo CMIP6 gallery examples: https://github.com/pangeo-gallery/cmip6.git \n",
    "\n",
    "\n",
    "Some general references worth looking at : \n",
    "\n",
    "- An introduction to earth and environmental science: https://earth-env-data-science.github.io/intro.html \n",
    "- University Oslo climate data tutorial:  https://metos-uio.github.io/GEO4962/\n",
    "- A community platform for Big Data geoscience: https://pangeo.io/ "
   ]
  },
  {
   "cell_type": "code",
   "execution_count": null,
   "id": "a2a3e69e-4362-45e1-8d2d-774822d6e66c",
   "metadata": {},
   "outputs": [],
   "source": []
  }
 ],
 "metadata": {
  "kernelspec": {
   "display_name": "Python 3 (based on the module python3/2022.01)",
   "language": "python",
   "name": "python3_2022_01"
  },
  "language_info": {
   "codemirror_mode": {
    "name": "ipython",
    "version": 3
   },
   "file_extension": ".py",
   "mimetype": "text/x-python",
   "name": "python",
   "nbconvert_exporter": "python",
   "pygments_lexer": "ipython3",
   "version": "3.9.9"
  }
 },
 "nbformat": 4,
 "nbformat_minor": 5
}
