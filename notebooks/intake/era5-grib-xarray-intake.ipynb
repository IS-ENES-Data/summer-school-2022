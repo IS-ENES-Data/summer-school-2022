{
 "cells": [
  {
   "cell_type": "markdown",
   "id": "c67369a7-a263-4131-83d0-4fb99c026627",
   "metadata": {},
   "source": [
    "# ERA5 data with intake and xarray"
   ]
  },
  {
   "cell_type": "code",
   "execution_count": null,
   "id": "6d95332e-482b-46a3-8984-0162f23799e8",
   "metadata": {},
   "outputs": [],
   "source": [
    "import intake \n",
    "import xarray as xr"
   ]
  },
  {
   "cell_type": "code",
   "execution_count": null,
   "id": "b7137229-5566-4b07-942e-59e6032b8182",
   "metadata": {},
   "outputs": [],
   "source": [
    "catalog = intake.open_esm_datastore(\"/pool/data/Catalogs/dkrz_era5_disk.json\")\n",
    "\n",
    "query = {'level_type':'surface',\n",
    "         'frequency':'hourly',\n",
    "         'code':167,\n",
    "        }"
   ]
  },
  {
   "cell_type": "code",
   "execution_count": null,
   "id": "6c55e515-8c45-4d88-99a8-0d86765704dc",
   "metadata": {},
   "outputs": [],
   "source": [
    "cat =  catalog.search(**query)"
   ]
  },
  {
   "cell_type": "code",
   "execution_count": null,
   "id": "264001bf-bd3b-4883-9197-542d52341358",
   "metadata": {},
   "outputs": [],
   "source": [
    "cat\n"
   ]
  },
  {
   "cell_type": "code",
   "execution_count": null,
   "id": "72d141bf-cb0b-4fbb-89a9-0cc9b83792b1",
   "metadata": {},
   "outputs": [],
   "source": [
    "cat.df.head()"
   ]
  },
  {
   "cell_type": "code",
   "execution_count": null,
   "id": "31a7d584-a3ef-40d7-b234-8bc30b2a6368",
   "metadata": {},
   "outputs": [],
   "source": [
    "[print(cat.df['path'].iloc[i]) for i in range(0,cat.df['path'].size, cat.df['path'].size//10) ]\n"
   ]
  },
  {
   "cell_type": "code",
   "execution_count": null,
   "id": "12c3a4ac-ec9e-412a-9a60-52c328e09bd6",
   "metadata": {},
   "outputs": [],
   "source": [
    "path1 = cat.df['path'].iloc[1]\n",
    "path1"
   ]
  },
  {
   "cell_type": "markdown",
   "id": "a2640382-a6b4-481d-a2ff-a0361d3ec684",
   "metadata": {},
   "source": [
    "## open grib data with xarray\n",
    "- see xarray documentation: https://docs.xarray.dev/en/stable/examples/ERA5-GRIB-example.html"
   ]
  },
  {
   "cell_type": "code",
   "execution_count": null,
   "id": "193314c1-9520-4910-9937-5999f822a568",
   "metadata": {},
   "outputs": [],
   "source": [
    "with xr.open_dataset(path1,engine='cfgrib',backend_kwargs= {'indexpath':''}) as fobj:\n",
    "    print(fobj.variables)"
   ]
  },
  {
   "cell_type": "code",
   "execution_count": null,
   "id": "4abd14f6-691e-4e1d-9c2c-9426db734438",
   "metadata": {},
   "outputs": [],
   "source": [
    "wds = xr.load_dataset(path1,engine='cfgrib',backend_kwargs= {'indexpath':''})\n",
    "wds"
   ]
  },
  {
   "cell_type": "markdown",
   "id": "2825f450-72c1-42ee-abf9-5a1580c5f290",
   "metadata": {},
   "source": [
    "### grib and CF\n",
    "- ECMWF cfgrib python interface to map GRIB files to the NetCDF Common Data Model following the CF convention: https://github.com/ecmwf/cfgrib\n",
    "- enables the engine='cfgrib' option to read GRIB files with xarray"
   ]
  },
  {
   "cell_type": "markdown",
   "id": "00dc427e-1476-462d-a7ac-4a950eb8a3de",
   "metadata": {},
   "source": [
    "## load a large set of files directly from the catalog "
   ]
  },
  {
   "cell_type": "code",
   "execution_count": null,
   "id": "730adc48-33cd-4456-b109-6f8849a22fe0",
   "metadata": {},
   "outputs": [],
   "source": [
    "dts = cat.to_dataset_dict(cdf_kwargs={\"chunks\": {\"time\": 36},\"engine\":'cfgrib',\"backend_kwargs\": {'indexpath':''}}) \n",
    "dts"
   ]
  },
  {
   "cell_type": "code",
   "execution_count": null,
   "id": "ca0a9e0d-1adf-4e3e-bb3b-e0b04965449c",
   "metadata": {},
   "outputs": [],
   "source": [
    "xr_dset = dts['128.0.instant.surface.hourly']\n",
    "xr_dset"
   ]
  },
  {
   "cell_type": "code",
   "execution_count": null,
   "id": "a70eec52-748a-4e78-a28b-a8d7c6d7f703",
   "metadata": {},
   "outputs": [],
   "source": [
    "xr_dset['t2m']"
   ]
  },
  {
   "cell_type": "code",
   "execution_count": null,
   "id": "b14450ff-6290-4df1-a661-aa4c4a8e4872",
   "metadata": {},
   "outputs": [],
   "source": []
  }
 ],
 "metadata": {
  "kernelspec": {
   "display_name": "Python 3 (based on the module python3/2022.01)",
   "language": "python",
   "name": "python3_2022_01"
  },
  "language_info": {
   "codemirror_mode": {
    "name": "ipython",
    "version": 3
   },
   "file_extension": ".py",
   "mimetype": "text/x-python",
   "name": "python",
   "nbconvert_exporter": "python",
   "pygments_lexer": "ipython3",
   "version": "3.9.9"
  }
 },
 "nbformat": 4,
 "nbformat_minor": 5
}
