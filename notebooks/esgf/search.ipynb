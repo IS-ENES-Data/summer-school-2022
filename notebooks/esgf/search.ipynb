{
 "cells": [
  {
   "cell_type": "markdown",
   "metadata": {},
   "source": [
    "## Examples of pyesgf.search usage"
   ]
  },
  {
   "cell_type": "markdown",
   "metadata": {},
   "source": [
    "Prelude:"
   ]
  },
  {
   "cell_type": "code",
   "execution_count": 1,
   "metadata": {},
   "outputs": [],
   "source": [
    "from pyesgf.search import SearchConnection\n",
    "conn = SearchConnection('http://esgf-data.dkrz.de/esg-search', \n",
    "                        distrib=True)"
   ]
  },
  {
   "cell_type": "markdown",
   "metadata": {},
   "source": [
    "**Warning**: don't use default search with `facets=*`.\n",
    "\n",
    "This behavior is kept for backward-compatibility, but ESGF indexes might not\n",
    "successfully perform a distributed search when this option is used, so some\n",
    "results may be missing.  For full results, it is recommended to pass a list of\n",
    "facets of interest when instantiating a context object. For example,\n",
    "\n",
    "      ctx = conn.new_context(facets='project,experiment_id')\n",
    "\n",
    "Only the facets that you specify will be present in the `facets_counts` dictionary.\n",
    "\n",
    "This warning is displayed when a distributed search is performed while using the\n",
    "`facets=*` default, a maximum of once per context object.  To suppress this warning,\n",
    "set the environment variable `ESGF_PYCLIENT_NO_FACETS_STAR_WARNING` to any value\n",
    "or explicitly use `conn.new_context(facets='*')`"
   ]
  },
  {
   "cell_type": "code",
   "execution_count": 2,
   "metadata": {},
   "outputs": [],
   "source": [
    "facets='project,experiment_family'"
   ]
  },
  {
   "cell_type": "markdown",
   "metadata": {},
   "source": [
    "Find how many datasets containing *humidity* in a given experiment family:"
   ]
  },
  {
   "cell_type": "code",
   "execution_count": 3,
   "metadata": {},
   "outputs": [
    {
     "data": {
      "text/plain": [
       "30637"
      ]
     },
     "execution_count": 3,
     "metadata": {},
     "output_type": "execute_result"
    }
   ],
   "source": [
    "ctx = conn.new_context(project='CMIP5', query='humidity', facets=facets)\n",
    "ctx.hit_count"
   ]
  },
  {
   "cell_type": "code",
   "execution_count": 4,
   "metadata": {},
   "outputs": [
    {
     "data": {
      "text/plain": [
       "{'RCP': 2841,\n",
       " 'Paleo': 213,\n",
       " 'Idealized': 1318,\n",
       " 'Historical': 4501,\n",
       " 'ESM': 506,\n",
       " 'Decadal': 18731,\n",
       " 'Control': 709,\n",
       " 'Atmos-only': 2372,\n",
       " 'All': 30637}"
      ]
     },
     "execution_count": 4,
     "metadata": {},
     "output_type": "execute_result"
    }
   ],
   "source": [
    "ctx.facet_counts['experiment_family']"
   ]
  },
  {
   "cell_type": "markdown",
   "metadata": {},
   "source": [
    "Search using a partial ESGF dataset ID (and get first download URL):"
   ]
  },
  {
   "cell_type": "code",
   "execution_count": 5,
   "metadata": {},
   "outputs": [
    {
     "data": {
      "text/plain": [
       "3"
      ]
     },
     "execution_count": 5,
     "metadata": {},
     "output_type": "execute_result"
    }
   ],
   "source": [
    "conn = SearchConnection('http://esgf-index1.ceda.ac.uk/esg-search', distrib=False)\n",
    "ctx = conn.new_context(facets=facets)\n",
    "dataset_id_pattern = \"cmip5.output1.MOHC.HadGEM2-CC.historical.mon.atmos.Amon.*\"\n",
    "results = ctx.search(query=\"id:%s\" % dataset_id_pattern)\n",
    "len(results)"
   ]
  },
  {
   "cell_type": "code",
   "execution_count": 6,
   "metadata": {},
   "outputs": [
    {
     "data": {
      "text/plain": [
       "282"
      ]
     },
     "execution_count": 6,
     "metadata": {},
     "output_type": "execute_result"
    }
   ],
   "source": [
    "files = results[0].file_context().search()\n",
    "len(files)"
   ]
  },
  {
   "cell_type": "code",
   "execution_count": 7,
   "metadata": {},
   "outputs": [
    {
     "name": "stdout",
     "output_type": "stream",
     "text": [
      "http://esgf-data1.ceda.ac.uk/thredds/fileServer/esg_dataroot/cmip5/output1/MOHC/HadGEM2-CC/historical/mon/atmos/Amon/r1i1p1/v20110927/cl/cl_Amon_HadGEM2-CC_historical_r1i1p1_185912-188411.nc\n"
     ]
    }
   ],
   "source": [
    "download_url = files[0].download_url\n",
    "print(download_url)"
   ]
  },
  {
   "cell_type": "markdown",
   "metadata": {},
   "source": [
    "Find the OpenDAP URL for an aggregated dataset:"
   ]
  },
  {
   "cell_type": "code",
   "execution_count": 8,
   "metadata": {},
   "outputs": [
    {
     "name": "stdout",
     "output_type": "stream",
     "text": [
      "Hits: 20, Realms: {'ocean': 10, 'atmos': 10}, Ensembles: {'r9i1p1': 2, 'r8i1p1': 2, 'r7i1p1': 2, 'r6i1p1': 2, 'r5i1p1': 2, 'r4i1p1': 2, 'r3i1p1': 2, 'r2i1p1': 2, 'r1i1p1': 2, 'r10i1p1': 2}\n"
     ]
    }
   ],
   "source": [
    "conn = SearchConnection('http://esgf-data.dkrz.de/esg-search', distrib=False)\n",
    "ctx = conn.new_context(project='CMIP5', model='MPI-ESM-LR', experiment='decadal2000', time_frequency='day')\n",
    "print('Hits: {}, Realms: {}, Ensembles: {}'.format(\n",
    "    ctx.hit_count, \n",
    "    ctx.facet_counts['realm'], \n",
    "    ctx.facet_counts['ensemble']))"
   ]
  },
  {
   "cell_type": "code",
   "execution_count": 9,
   "metadata": {},
   "outputs": [
    {
     "data": {
      "text/plain": [
       "1"
      ]
     },
     "execution_count": 9,
     "metadata": {},
     "output_type": "execute_result"
    }
   ],
   "source": [
    "ctx = ctx.constrain(realm='atmos', ensemble='r1i1p1')\n",
    "ctx.hit_count"
   ]
  },
  {
   "cell_type": "code",
   "execution_count": 10,
   "metadata": {},
   "outputs": [
    {
     "name": "stdout",
     "output_type": "stream",
     "text": [
      "http://esgf1.dkrz.de/thredds/dodsC/cmip5.output1.MPI-M.MPI-ESM-LR.decadal2000.day.atmos.day.r1i1p1.tasmax.20111122.aggregation\n"
     ]
    }
   ],
   "source": [
    "result = ctx.search()[0]\n",
    "agg_ctx = result.aggregation_context()\n",
    "agg = agg_ctx.search()[0]\n",
    "print(agg.opendap_url)\n"
   ]
  },
  {
   "cell_type": "markdown",
   "metadata": {},
   "source": [
    "Find download URLs for all files in a dataset:"
   ]
  },
  {
   "cell_type": "code",
   "execution_count": 11,
   "metadata": {},
   "outputs": [
    {
     "data": {
      "text/plain": [
       "2"
      ]
     },
     "execution_count": 11,
     "metadata": {},
     "output_type": "execute_result"
    }
   ],
   "source": [
    "conn = SearchConnection('http://esgf-data.dkrz.de/esg-search', distrib=False)\n",
    "ctx = conn.new_context(project='obs4MIPs')\n",
    "ctx.hit_count\n"
   ]
  },
  {
   "cell_type": "code",
   "execution_count": 12,
   "metadata": {},
   "outputs": [
    {
     "data": {
      "text/plain": [
       "1"
      ]
     },
     "execution_count": 12,
     "metadata": {},
     "output_type": "execute_result"
    }
   ],
   "source": [
    "ds = ctx.search()[0]\n",
    "files = ds.file_context().search()\n",
    "len(files)"
   ]
  },
  {
   "cell_type": "code",
   "execution_count": 13,
   "metadata": {},
   "outputs": [
    {
     "name": "stdout",
     "output_type": "stream",
     "text": [
      "http://eridanus.eoc.dlr.de/thredds/fileServer/esg_dataroot/obs4MIPs/observations/atmos/od550aer/mon/grid/SU/ATSR2-AATSR/v20160922/AOD550mean_Amon_ESA-CCI-Aerosol-AOD-SU_historical_r1i1p1_199607-201203.nc\n"
     ]
    }
   ],
   "source": [
    "for f in files:\n",
    "    print(f.download_url)\n"
   ]
  },
  {
   "cell_type": "markdown",
   "metadata": {},
   "source": [
    "Define a search for datasets that includes a temporal range:"
   ]
  },
  {
   "cell_type": "code",
   "execution_count": 14,
   "metadata": {},
   "outputs": [
    {
     "data": {
      "text/plain": [
       "3"
      ]
     },
     "execution_count": 14,
     "metadata": {},
     "output_type": "execute_result"
    }
   ],
   "source": [
    "conn = SearchConnection('http://esgf-index1.ceda.ac.uk/esg-search', distrib=False)\n",
    "ctx = conn.new_context(\n",
    "    project=\"CMIP5\", model=\"HadGEM2-ES\",\n",
    "    time_frequency=\"mon\", realm=\"atmos\", ensemble=\"r1i1p1\", latest=True,\n",
    "    from_timestamp=\"2100-12-30T23:23:59Z\", to_timestamp=\"2200-01-01T00:00:00Z\")\n",
    "ctx.hit_count"
   ]
  },
  {
   "cell_type": "markdown",
   "metadata": {},
   "source": [
    "Or do the same thing by searching without temporal constraints and then applying the constraint:"
   ]
  },
  {
   "cell_type": "code",
   "execution_count": 15,
   "metadata": {},
   "outputs": [
    {
     "data": {
      "text/plain": [
       "22"
      ]
     },
     "execution_count": 15,
     "metadata": {},
     "output_type": "execute_result"
    }
   ],
   "source": [
    "ctx = conn.new_context(\n",
    "    project=\"CMIP5\", model=\"HadGEM2-ES\",\n",
    "    time_frequency=\"mon\", realm=\"atmos\", ensemble=\"r1i1p1\", latest=True)\n",
    "ctx.hit_count"
   ]
  },
  {
   "cell_type": "code",
   "execution_count": 16,
   "metadata": {},
   "outputs": [
    {
     "data": {
      "text/plain": [
       "3"
      ]
     },
     "execution_count": 16,
     "metadata": {},
     "output_type": "execute_result"
    }
   ],
   "source": [
    "ctx = ctx.constrain(from_timestamp = \"2100-12-30T23:23:59Z\", to_timestamp = \"2200-01-01T00:00:00Z\")\n",
    "ctx.hit_count"
   ]
  },
  {
   "cell_type": "code",
   "execution_count": null,
   "metadata": {},
   "outputs": [],
   "source": []
  }
 ],
 "metadata": {
  "kernelspec": {
   "display_name": "sschool",
   "language": "python",
   "name": "sschool"
  },
  "language_info": {
   "codemirror_mode": {
    "name": "ipython",
    "version": 3
   },
   "file_extension": ".py",
   "mimetype": "text/x-python",
   "name": "python",
   "nbconvert_exporter": "python",
   "pygments_lexer": "ipython3",
   "version": "3.10.5"
  },
  "nbTranslate": {
   "displayLangs": [
    "*"
   ],
   "hotkey": "alt-t",
   "langInMainMenu": true,
   "sourceLang": "en",
   "targetLang": "fr",
   "useGoogleTranslate": true
  }
 },
 "nbformat": 4,
 "nbformat_minor": 4
}
