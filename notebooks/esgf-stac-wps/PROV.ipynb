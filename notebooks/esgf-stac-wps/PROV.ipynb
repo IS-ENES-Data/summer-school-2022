{
 "cells": [
  {
   "cell_type": "markdown",
   "metadata": {},
   "source": [
    "# Provenance Demo\n",
    "\n",
    "* https://pypi.org/project/prov/\n",
    "* https://github.com/cehbrecht/provenance-demo\n",
    "\n",
    "\n",
    "Python PROV libray:\n",
    "* https://prov.readthedocs.io/en/latest/index.html\n",
    "* https://openprovenance.org/store/\n",
    "* https://trungdong.github.io/prov-python-short-tutorial.html\n",
    "* https://nbviewer.ipython.org/github/trungdong/notebooks/blob/master/PROV%20Tutorial.ipynb\n",
    "* https://github.com/trungdong/prov/blob/master/src/prov/tests/examples.py\n",
    "\n",
    "ESMValTool Provenance:\n",
    "* https://github.com/ESMValGroup/ESMValCore/blob/master/esmvalcore/_provenance.py\n",
    "* https://docs.esmvaltool.org/en/latest/community/diagnostic.html?highlight=provenance#recording-provenance\n",
    "* https://esmvaltool.cloud.dkrz.de/shared/esmvaltool/v2.0.0/"
   ]
  },
  {
   "cell_type": "code",
   "execution_count": 1,
   "metadata": {},
   "outputs": [],
   "source": [
    "from prov.model import ProvDocument"
   ]
  },
  {
   "cell_type": "code",
   "execution_count": 2,
   "metadata": {},
   "outputs": [],
   "source": [
    "# Create a new provenance document\n",
    "doc = ProvDocument()"
   ]
  },
  {
   "cell_type": "markdown",
   "metadata": {},
   "source": [
    "## Namespaces"
   ]
  },
  {
   "cell_type": "code",
   "execution_count": 3,
   "metadata": {},
   "outputs": [
    {
     "data": {
      "text/plain": [
       "<Namespace: attribute {https://roocs.org/attribute}>"
      ]
     },
     "execution_count": 3,
     "metadata": {},
     "output_type": "execute_result"
    }
   ],
   "source": [
    "# Declaring namespaces for various prefixes used in the example\n",
    "ROOCS_URI_PREFIX = 'https://roocs.org/'\n",
    "doc.add_namespace('software', uri=ROOCS_URI_PREFIX + 'software')\n",
    "doc.add_namespace('project', ROOCS_URI_PREFIX + 'project')  # copernicus, roocs\n",
    "doc.add_namespace('workflow', ROOCS_URI_PREFIX + 'workflow')  # workflow description\n",
    "doc.add_namespace('operator', ROOCS_URI_PREFIX + 'operator')  # task, job, calculation, algorithm\n",
    "doc.add_namespace('parameter', ROOCS_URI_PREFIX + 'parameter') # operator parameter, option\n",
    "doc.add_namespace('file', ROOCS_URI_PREFIX + 'file')  # netcdf, plots\n",
    "doc.add_namespace('attribute', ROOCS_URI_PREFIX + 'attribute')  # netcdf attributes, headers variables"
   ]
  },
  {
   "cell_type": "markdown",
   "metadata": {},
   "source": [
    "## Software"
   ]
  },
  {
   "cell_type": "code",
   "execution_count": 4,
   "metadata": {},
   "outputs": [],
   "source": [
    "daops = doc.activity('software:daops==v0.2.0')"
   ]
  },
  {
   "cell_type": "markdown",
   "metadata": {},
   "source": [
    "## Project"
   ]
  },
  {
   "cell_type": "code",
   "execution_count": 5,
   "metadata": {},
   "outputs": [],
   "source": [
    "project_cds = doc.agent('project:Copernicus Climate Data Store')"
   ]
  },
  {
   "cell_type": "markdown",
   "metadata": {},
   "source": [
    "## Datasets"
   ]
  },
  {
   "cell_type": "code",
   "execution_count": 6,
   "metadata": {},
   "outputs": [],
   "source": [
    "attributes = {'attribute:variable': 'tas'}\n",
    "ds_mpi = doc.entity('file:/data/cmip6/mpi_tas_2000-2010.nc', attributes)\n",
    "ds_ipsl = doc.entity('file:/data/cmip6/ipsl_tas_2000-2010.nc', attributes)"
   ]
  },
  {
   "cell_type": "markdown",
   "metadata": {},
   "source": [
    "## Operators"
   ]
  },
  {
   "cell_type": "code",
   "execution_count": 7,
   "metadata": {},
   "outputs": [],
   "source": [
    "op_subset = doc.activity('operator:subset', other_attributes={'parameter:time': '2005'})\n",
    "op_diff = doc.activity('operator:diff')"
   ]
  },
  {
   "cell_type": "markdown",
   "metadata": {},
   "source": [
    "## Workflow"
   ]
  },
  {
   "cell_type": "code",
   "execution_count": 8,
   "metadata": {},
   "outputs": [
    {
     "data": {
      "text/plain": [
       "<ProvAttribution: (workflow:diff.json, project:Copernicus Climate Data Store)>"
      ]
     },
     "execution_count": 8,
     "metadata": {},
     "output_type": "execute_result"
    }
   ],
   "source": [
    "# Create workflow\n",
    "wf_diff = doc.entity('workflow:diff.json')\n",
    "\n",
    "# Relate workflow to project\n",
    "doc.wasAttributedTo(wf_diff, project_cds)"
   ]
  },
  {
   "cell_type": "markdown",
   "metadata": {},
   "source": [
    "## Run Subset Operator"
   ]
  },
  {
   "cell_type": "code",
   "execution_count": 9,
   "metadata": {},
   "outputs": [
    {
     "data": {
      "text/plain": [
       "<ProvStart: (operator:subset, workflow:diff.json)>"
      ]
     },
     "execution_count": 9,
     "metadata": {},
     "output_type": "execute_result"
    }
   ],
   "source": [
    "# subset started by daops\n",
    "doc.start(op_subset, starter=daops, trigger=wf_diff)"
   ]
  },
  {
   "cell_type": "code",
   "execution_count": 10,
   "metadata": {},
   "outputs": [
    {
     "data": {
      "text/plain": [
       "<ProvDerivation: (file:mpi_tas_2005.nc, file:/data/cmip6/mpi_tas_2000-2010.nc)>"
      ]
     },
     "execution_count": 10,
     "metadata": {},
     "output_type": "execute_result"
    }
   ],
   "source": [
    "# Generated output file for mpi dataet\n",
    "output1 = doc.entity('file:mpi_tas_2005.nc', attributes)\n",
    "doc.wasDerivedFrom(output1, ds_mpi, activity=op_subset)"
   ]
  },
  {
   "cell_type": "code",
   "execution_count": 11,
   "metadata": {},
   "outputs": [
    {
     "data": {
      "text/plain": [
       "<ProvDerivation: (file:ipsl_tas_2005.nc, file:/data/cmip6/ipsl_tas_2000-2010.nc)>"
      ]
     },
     "execution_count": 11,
     "metadata": {},
     "output_type": "execute_result"
    }
   ],
   "source": [
    "# Generated output file for ipsl dataset\n",
    "output2 = doc.entity('file:ipsl_tas_2005.nc', attributes)\n",
    "doc.wasDerivedFrom(output2, ds_ipsl, activity=op_subset)"
   ]
  },
  {
   "cell_type": "markdown",
   "metadata": {},
   "source": [
    "## Run Diff Operator"
   ]
  },
  {
   "cell_type": "code",
   "execution_count": 12,
   "metadata": {},
   "outputs": [
    {
     "data": {
      "text/plain": [
       "<ProvStart: (operator:diff, workflow:diff.json)>"
      ]
     },
     "execution_count": 12,
     "metadata": {},
     "output_type": "execute_result"
    }
   ],
   "source": [
    "# diff started by daops\n",
    "doc.start(op_diff, starter=daops, trigger=wf_diff)"
   ]
  },
  {
   "cell_type": "code",
   "execution_count": 13,
   "metadata": {},
   "outputs": [
    {
     "data": {
      "text/plain": [
       "<ProvDerivation: (file:diff_tas_2005.nc, file:ipsl_tas_2005.nc)>"
      ]
     },
     "execution_count": 13,
     "metadata": {},
     "output_type": "execute_result"
    }
   ],
   "source": [
    "# Generated output\n",
    "output_diff = doc.entity('file:diff_tas_2005.nc', attributes)\n",
    "doc.wasDerivedFrom(output_diff, output1, activity=op_diff)\n",
    "doc.wasDerivedFrom(output_diff, output2, activity=op_diff)"
   ]
  },
  {
   "cell_type": "markdown",
   "metadata": {},
   "source": [
    "## Show Provenance"
   ]
  },
  {
   "cell_type": "code",
   "execution_count": 14,
   "metadata": {},
   "outputs": [
    {
     "name": "stdout",
     "output_type": "stream",
     "text": [
      "document\n",
      "  prefix software <https://roocs.org/software>\n",
      "  prefix project <https://roocs.org/project>\n",
      "  prefix workflow <https://roocs.org/workflow>\n",
      "  prefix operator <https://roocs.org/operator>\n",
      "  prefix parameter <https://roocs.org/parameter>\n",
      "  prefix file <https://roocs.org/file>\n",
      "  prefix attribute <https://roocs.org/attribute>\n",
      "  \n",
      "  activity(software:daops==v0.2.0, -, -)\n",
      "  agent(project:Copernicus Climate Data Store)\n",
      "  entity(file:/data/cmip6/mpi_tas_2000-2010.nc, [attribute:variable=\"tas\"])\n",
      "  entity(file:/data/cmip6/ipsl_tas_2000-2010.nc, [attribute:variable=\"tas\"])\n",
      "  activity(operator:subset, -, -, [parameter:time=\"2005\"])\n",
      "  activity(operator:diff, -, -)\n",
      "  entity(workflow:diff.json)\n",
      "  wasAttributedTo(workflow:diff.json, project:Copernicus Climate Data Store)\n",
      "  wasStartedBy(operator:subset, workflow:diff.json, software:daops==v0.2.0, -)\n",
      "  entity(file:mpi_tas_2005.nc, [attribute:variable=\"tas\"])\n",
      "  wasDerivedFrom(file:mpi_tas_2005.nc, file:/data/cmip6/mpi_tas_2000-2010.nc, operator:subset, -, -)\n",
      "  entity(file:ipsl_tas_2005.nc, [attribute:variable=\"tas\"])\n",
      "  wasDerivedFrom(file:ipsl_tas_2005.nc, file:/data/cmip6/ipsl_tas_2000-2010.nc, operator:subset, -, -)\n",
      "  wasStartedBy(operator:diff, workflow:diff.json, software:daops==v0.2.0, -)\n",
      "  entity(file:diff_tas_2005.nc, [attribute:variable=\"tas\"])\n",
      "  wasDerivedFrom(file:diff_tas_2005.nc, file:mpi_tas_2005.nc, operator:diff, -, -)\n",
      "  wasDerivedFrom(file:diff_tas_2005.nc, file:ipsl_tas_2005.nc, operator:diff, -, -)\n",
      "endDocument\n"
     ]
    }
   ],
   "source": [
    "print(doc.get_provn())"
   ]
  },
  {
   "cell_type": "code",
   "execution_count": 15,
   "metadata": {},
   "outputs": [],
   "source": [
    "from prov.dot import prov_to_dot\n",
    "dot = prov_to_dot(doc)\n",
    "dot.write_png('prov.png')"
   ]
  },
  {
   "cell_type": "code",
   "execution_count": null,
   "metadata": {},
   "outputs": [],
   "source": []
  }
 ],
 "metadata": {
  "kernelspec": {
   "display_name": "Python 3 (based on the module python3/2022.01)",
   "language": "python",
   "name": "python3_2022_01"
  },
  "language_info": {
   "codemirror_mode": {
    "name": "ipython",
    "version": 3
   },
   "file_extension": ".py",
   "mimetype": "text/x-python",
   "name": "python",
   "nbconvert_exporter": "python",
   "pygments_lexer": "ipython3",
   "version": "3.9.9"
  }
 },
 "nbformat": 4,
 "nbformat_minor": 4
}
