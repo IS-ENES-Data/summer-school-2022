{
 "cells": [
  {
   "cell_type": "markdown",
   "id": "31690744",
   "metadata": {
    "tags": []
   },
   "source": [
    "# CDS Demo: Use Rooki to access CMIP6 data\n",
    "\n",
    "[Rooki](https://github.com/roocs/rooki) is a Python client to interact with [Rook](https://github.com/roocs/rook) data subsetting service for climate model data. This service is used in the backend by the [Climate Data Store](https://cds.climate.copernicus.eu) to access the CMIP6 data pool. The Rook service is deployed for load-balancing at CEDA (UK), IPSL (FR) and DKRZ (DE). The CMIP6 data pool is shared with ESGF. The provided CMIP6 subset for Copernicus is synchronized at all three sites. \n",
    "\n",
    "*Rook* provides provides operators for *subsetting*, *averaging* and *regridding* to retrieve a subset of the CMIP6 data pool. These operators are implemented in Python based on the [xarray](https://pypi.org/project/xarray/) library. These operators can be called remotly using the [OGC Web Processing Service](https://ogcapi.ogc.org/processes/) (WPS) standard.\n",
    "\n",
    "**ROOK**: **R**emote **O**perations **O**n **K**limadaten\n",
    "\n",
    "* Rooki: https://github.com/roocs/rooki\n",
    "* Rook Presentation: https://github.com/cehbrecht/cordex-workshop-talk-rook-4cds/blob/main/Rook.pdf"
   ]
  },
  {
   "cell_type": "markdown",
   "id": "dd77c5b2",
   "metadata": {
    "jp-MarkdownHeadingCollapsed": true,
    "tags": []
   },
   "source": [
    "## Overview\n",
    "\n",
    "![rook 4 cds](rook.png)"
   ]
  },
  {
   "cell_type": "markdown",
   "id": "288086a4",
   "metadata": {},
   "source": [
    "## Init Rooki"
   ]
  },
  {
   "cell_type": "code",
   "execution_count": null,
   "id": "a2339b90",
   "metadata": {},
   "outputs": [],
   "source": [
    "import os\n",
    "os.environ['ROOK_URL'] = 'http://rook.dkrz.de/wps'\n",
    "\n",
    "from rooki import rooki"
   ]
  },
  {
   "cell_type": "markdown",
   "id": "d6ed87c2",
   "metadata": {},
   "source": [
    "## Retrieve subset of CMIP6 data"
   ]
  },
  {
   "cell_type": "code",
   "execution_count": null,
   "id": "6e071b15",
   "metadata": {},
   "outputs": [],
   "source": [
    "resp = rooki.subset(\n",
    "    collection='c3s-cmip6.CMIP.MPI-M.MPI-ESM1-2-HR.historical.r1i1p1f1.Amon.tas.gn.v20190710',\n",
    "    time='2000-01-01/2000-01-31',\n",
    "    area='-40,-40,70,70',\n",
    ")\n",
    "resp.ok"
   ]
  },
  {
   "cell_type": "markdown",
   "id": "f822b3c8",
   "metadata": {},
   "source": [
    "## Open Dataset with xarray"
   ]
  },
  {
   "cell_type": "code",
   "execution_count": null,
   "id": "eacbecbd",
   "metadata": {},
   "outputs": [],
   "source": [
    "ds = resp.datasets()[0]\n",
    "ds"
   ]
  },
  {
   "cell_type": "markdown",
   "id": "46301d38",
   "metadata": {},
   "source": [
    "## Plot CMIP6 Dataset"
   ]
  },
  {
   "cell_type": "code",
   "execution_count": null,
   "id": "05482a1d",
   "metadata": {},
   "outputs": [],
   "source": [
    "ds.tas.isel(time=0).plot()"
   ]
  },
  {
   "cell_type": "markdown",
   "id": "94409343",
   "metadata": {},
   "source": [
    "## Show Provenance"
   ]
  },
  {
   "cell_type": "code",
   "execution_count": null,
   "id": "11af235a",
   "metadata": {},
   "outputs": [],
   "source": [
    "from IPython.display import Image\n",
    "Image(resp.provenance_image())"
   ]
  },
  {
   "cell_type": "code",
   "execution_count": null,
   "id": "55215366-11b5-46c6-8af7-900956b96c34",
   "metadata": {},
   "outputs": [],
   "source": []
  }
 ],
 "metadata": {
  "kernelspec": {
   "display_name": "sschool",
   "language": "python",
   "name": "sschool"
  },
  "language_info": {
   "codemirror_mode": {
    "name": "ipython",
    "version": 3
   },
   "file_extension": ".py",
   "mimetype": "text/x-python",
   "name": "python",
   "nbconvert_exporter": "python",
   "pygments_lexer": "ipython3",
   "version": "3.10.5"
  }
 },
 "nbformat": 4,
 "nbformat_minor": 5
}
