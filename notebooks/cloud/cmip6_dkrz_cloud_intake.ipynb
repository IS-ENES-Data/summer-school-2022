{
 "cells": [
  {
   "cell_type": "markdown",
   "id": "1d670020-8e2f-43d2-b94c-e04450f4ff87",
   "metadata": {},
   "source": [
    "# Use DKRZ cloud (swift) catalog"
   ]
  },
  {
   "cell_type": "code",
   "execution_count": null,
   "id": "bfa6c4e3-d26f-4258-ae09-d3bd0a8da70c",
   "metadata": {},
   "outputs": [],
   "source": [
    "# direct link to catalog files, but let us use the master catalog and navigate to the cloud catalog\n",
    "cat_file_public = \"https://gitlab.dkrz.de/data-infrastructure-services/intake-esm/-/raw/master/esm-collections/cloud-access/dkrz_cmip6_cloud.json\"\n",
    "cat_file_dkrz = \"/pool/data/Catalogs/dkrz_cmip6_cloud.json\""
   ]
  },
  {
   "cell_type": "code",
   "execution_count": null,
   "id": "e8fe79e0-d27d-462f-baa4-426a6cc81800",
   "metadata": {},
   "outputs": [],
   "source": [
    "import numpy as np                    # fundamental package for scientific computing\n",
    "import pandas as pd                   # data analysis and manipulation tool\n",
    "import xarray as xr                   # handling labelled multi-dimensional arrays\n",
    "import intake                         # to find data in a catalog, this notebook explains how it works"
   ]
  },
  {
   "cell_type": "markdown",
   "id": "0ca9872b-8fb1-4e57-84b1-2f6eb32c1f11",
   "metadata": {},
   "source": [
    "## Open DKRZ master catalog"
   ]
  },
  {
   "cell_type": "code",
   "execution_count": null,
   "id": "47210a94-4478-4ec6-a5e4-91c8729d1b65",
   "metadata": {},
   "outputs": [],
   "source": [
    "dkrz_catalog=intake.open_catalog(\"/pool/data/Catalogs/dkrz_catalog.yaml\")\n",
    "list(dkrz_catalog)"
   ]
  },
  {
   "cell_type": "markdown",
   "id": "a0f60c7e-0f3e-4cd2-9d7e-d200112e6624",
   "metadata": {},
   "source": [
    "### Navigate to cloud catalog"
   ]
  },
  {
   "cell_type": "code",
   "execution_count": null,
   "id": "c4f14cbd-ed75-4554-a92e-ac65474502f5",
   "metadata": {},
   "outputs": [],
   "source": [
    "dkrz_cloud = dkrz_catalog.dkrz_cmip6_cloud\n",
    "print(dkrz_cloud)"
   ]
  },
  {
   "cell_type": "code",
   "execution_count": null,
   "id": "aa32ec81-a72f-4464-9ba7-6ad4a07c56b6",
   "metadata": {},
   "outputs": [],
   "source": [
    "dkrz_cloud.df.head()"
   ]
  },
  {
   "cell_type": "markdown",
   "id": "cdaf726e-a3aa-42a5-a5e1-9339c45a053a",
   "metadata": {},
   "source": [
    "### Query the cloud catalog"
   ]
  },
  {
   "cell_type": "code",
   "execution_count": null,
   "id": "5e3389a1-a364-4f60-942a-cc7840759391",
   "metadata": {},
   "outputs": [],
   "source": [
    "query = dict(\n",
    "    source_id      = 'MPI-ESM1-2-HR', # the model \n",
    "    variable_id    = \"pr\", \n",
    "    table_id       = \"day\", \n",
    "    experiment_id  = 'historical' \n",
    ")\n",
    "\n",
    "# Intake looks for the query we just defined in the catalog of the CMIP6 data pool at DKRZ\n",
    "\n",
    "cat = dkrz_cloud.search(**query)\n",
    "\n",
    "# good practice to delete the memory consuming catalog if no longer needed\n",
    "#del dkrz_cloud\n",
    "\n",
    "# Show query results\n",
    "cat.df"
   ]
  },
  {
   "cell_type": "markdown",
   "id": "a0b7c109-f266-43bc-9a21-490455f1063a",
   "metadata": {},
   "source": [
    "## Access the data"
   ]
  },
  {
   "cell_type": "code",
   "execution_count": null,
   "id": "f1018915-a41e-4cee-8e7e-fc6550c4b67d",
   "metadata": {},
   "outputs": [],
   "source": [
    "xr_dict = cat.to_dataset_dict(cdf_kwargs=dict(chunks=dict(time=1)),\n",
    "                             zarr_kwargs=dict(consolidated=True)\n",
    "                                              #decode_times=True,\n",
    "                                              #use_cftime=True)\n",
    "                             )\n",
    "xr_dict"
   ]
  },
  {
   "cell_type": "code",
   "execution_count": null,
   "id": "afb3b033-71fa-4f5b-a9a4-6ff231a4caa2",
   "metadata": {},
   "outputs": [],
   "source": [
    "xr_dset = xr_dict.popitem()[1]\n",
    "xr_dset"
   ]
  },
  {
   "cell_type": "code",
   "execution_count": null,
   "id": "2eb1c708-5c49-447e-81b6-d68dffd67c78",
   "metadata": {},
   "outputs": [],
   "source": [
    "xr_dset.pr.isel(time=0).plot()"
   ]
  },
  {
   "cell_type": "code",
   "execution_count": null,
   "id": "84d3b774-1dd6-4094-b3d7-943df1d76317",
   "metadata": {},
   "outputs": [],
   "source": []
  }
 ],
 "metadata": {
  "kernelspec": {
   "display_name": "Python 3 (based on the module python3/2022.01)",
   "language": "python",
   "name": "python3_2022_01"
  },
  "language_info": {
   "codemirror_mode": {
    "name": "ipython",
    "version": 3
   },
   "file_extension": ".py",
   "mimetype": "text/x-python",
   "name": "python",
   "nbconvert_exporter": "python",
   "pygments_lexer": "ipython3",
   "version": "3.9.9"
  }
 },
 "nbformat": 4,
 "nbformat_minor": 5
}
