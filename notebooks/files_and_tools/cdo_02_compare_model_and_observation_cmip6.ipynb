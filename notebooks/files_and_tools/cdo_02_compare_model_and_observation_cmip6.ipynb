{
 "cells": [
  {
   "cell_type": "markdown",
   "metadata": {},
   "source": [
    "# Use CDO to Compare Model and Observation Data\n",
    "\n",
    "\n",
    "In this notebook we demostrate how to compare model and observation data:\n",
    "\n",
    "- Look at the data contained in our example file\n",
    "- Concatenate multiple files\n",
    "- Data remapping\n",
    "- Compare model and observation data \n",
    "\n",
    "This example uses the Coupled Model Intercomparison Project (CMIP6) collections.(http://dx.doi.org/10.25914/5b98afc88531e).\n",
    "\n",
    "---\n",
    "inspired by the notebook in  https://github.com/NCI-data-analysis-platform/climate-cmip.git\n",
    "- Authors: NCI Virtual Research Environment Team\n",
    "- Keywords: CMIP, CDO, concatenate data, data remapping\n",
    "- Create Date: 2019-Oct; Update Date: 2021-Feb\n",
    "---\n",
    "Adapted to DKRZ env: S. Kindermann, August 2022\n",
    "\n",
    "This notebook is licenced under the [Creative Commons Attribution 4.0 International license](https://creativecommons.org/licenses/by/4.0/)\n"
   ]
  },
  {
   "cell_type": "markdown",
   "metadata": {},
   "source": [
    "### Load CDO module\n",
    "\n",
    "To load the CDO module on the VDI, run:\n",
    "\n",
    "``` $ module load cdo```"
   ]
  },
  {
   "cell_type": "markdown",
   "metadata": {},
   "source": [
    "### Check our data\n",
    "\n",
    "Let's look at the near surface temperature from the 20th century all-forcing historical simulation based on the CESM2.0 model of NCAR:"
   ]
  },
  {
   "cell_type": "code",
   "execution_count": 1,
   "metadata": {},
   "outputs": [
    {
     "name": "stdout",
     "output_type": "stream",
     "text": [
      "/pool/data/CMIP6/data/CMIP/NCAR/CESM2/historical/r1i1p1f1/Amon/tas/gn/v20190308/tas_Amon_CESM2_historical_r1i1p1f1_gn_185001-201412.nc\n"
     ]
    }
   ],
   "source": [
    "!ls /pool/data/CMIP6/data/CMIP/NCAR/CESM2/historical/r1i1p1f1/Amon/tas/gn/v20190308/tas_Amon_CESM2_historical_r1i1p1f1_gn_185001-201412.nc"
   ]
  },
  {
   "cell_type": "markdown",
   "metadata": {},
   "source": [
    "### Have a look at the data file using cdo info\n",
    "\n",
    "**Basic usage:**  \n",
    "```\n",
    "cdo info <filename> | less\n",
    "```\n",
    "**less** display only one page at a time in the termial. You can move forwards and backwards to see more. Press **q** to quit the view."
   ]
  },
  {
   "cell_type": "markdown",
   "metadata": {},
   "source": [
    "### Let's see which years this file includes\n",
    "\n",
    "We use the function `showyear` to display all the years in this file:"
   ]
  },
  {
   "cell_type": "code",
   "execution_count": 2,
   "metadata": {},
   "outputs": [
    {
     "name": "stdout",
     "output_type": "stream",
     "text": [
      " 1850 1851 1852 1853 1854 1855 1856 1857 1858 1859 1860 1861 1862 1863 1864 1865 1866 1867 1868 1869\n",
      " 1870 1871 1872 1873 1874 1875 1876 1877 1878 1879 1880 1881 1882 1883 1884 1885 1886 1887 1888 1889\n",
      " 1890 1891 1892 1893 1894 1895 1896 1897 1898 1899 1900 1901 1902 1903 1904 1905 1906 1907 1908 1909\n",
      " 1910 1911 1912 1913 1914 1915 1916 1917 1918 1919 1920 1921 1922 1923 1924 1925 1926 1927 1928 1929\n",
      " 1930 1931 1932 1933 1934 1935 1936 1937 1938 1939 1940 1941 1942 1943 1944 1945 1946 1947 1948 1949\n",
      " 1950 1951 1952 1953 1954 1955 1956 1957 1958 1959 1960 1961 1962 1963 1964 1965 1966 1967 1968 1969\n",
      " 1970 1971 1972 1973 1974 1975 1976 1977 1978 1979 1980 1981 1982 1983 1984 1985 1986 1987 1988 1989\n",
      " 1990 1991 1992 1993 1994 1995 1996 1997 1998 1999 2000 2001 2002 2003 2004 2005 2006 2007 2008 2009\n",
      " 2010 2011 2012 2013 2014\n",
      "\u001b[32mcdo    showyear: \u001b[0mProcessed 1 variable over 1980 timesteps [0.28s 50MB].\n"
     ]
    }
   ],
   "source": [
    "!cdo showyear /pool/data/CMIP6/data/CMIP/NCAR/CESM2/historical/r1i1p1f1/Amon/tas/gn/v20190308/tas_Amon_CESM2_historical_r1i1p1f1_gn_185001-201412.nc"
   ]
  },
  {
   "cell_type": "markdown",
   "metadata": {},
   "source": [
    "### Select only 10 years pf data from the original model file\n",
    "\n",
    "**basic usage**:\n",
    "```\n",
    "cdo selyear, stratyear/endyear <input.nc> <output.nc>\n",
    "```"
   ]
  },
  {
   "cell_type": "code",
   "execution_count": 3,
   "metadata": {},
   "outputs": [
    {
     "name": "stdout",
     "output_type": "stream",
     "text": [
      "\u001b[32mcdo    selyear: \u001b[0mProcessed 6635520 values from 1 variable over 1980 timesteps [0.27s 60MB].\n"
     ]
    }
   ],
   "source": [
    "### create output directory if it doesn't already exist\n",
    "import os\n",
    "outdir = './output'\n",
    "if not os.path.exists(outdir):\n",
    "    os.mkdir(outdir)\n",
    "\n",
    "!cdo selyear,1991/2000 /pool/data/CMIP6/data/CMIP/NCAR/CESM2/historical/r1i1p1f1/Amon/tas/gn/v20190308/tas_Amon_CESM2_historical_r1i1p1f1_gn_185001-201412.nc  ./output/tas_Amon_CESM2_historical_r1i1p1f1_gn_199101-200012.nc"
   ]
  },
  {
   "cell_type": "markdown",
   "metadata": {},
   "source": [
    "### show the attributes of the data"
   ]
  },
  {
   "cell_type": "code",
   "execution_count": 4,
   "metadata": {
    "scrolled": true
   },
   "outputs": [
    {
     "name": "stdout",
     "output_type": "stream",
     "text": [
      "tas:\n",
      "   standard_name = \"air_temperature\"\n",
      "   long_name = \"Near-Surface Air Temperature\"\n",
      "   units = \"K\"\n",
      "   missing_value = 1e+20\n",
      "   cell_measures = \"area: areacella\"\n",
      "   cell_methods = \"area: time: mean\"\n",
      "   comment = \"near-surface (usually, 2 meter) air temperature\"\n",
      "   description = \"near-surface (usually, 2 meter) air temperature\"\n",
      "   frequency = \"mon\"\n",
      "   id = \"tas\"\n",
      "   mipTable = \"Amon\"\n",
      "   out_name = \"tas\"\n",
      "   prov = \"Amon ((isd.003))\"\n",
      "   realm = \"atmos\"\n",
      "   time = \"time\"\n",
      "   time_label = \"time-mean\"\n",
      "   time_title = \"Temporal mean\"\n",
      "   title = \"Near-Surface Air Temperature\"\n",
      "   type = \"real\"\n",
      "   variable_id = \"tas\"\n",
      "Global:\n",
      "   Conventions = \"CF-1.7 CMIP-6.2\"\n",
      "   activity_id = \"CMIP\"\n",
      "   case_id = \"15\"\n",
      "   cesm_casename = \"b.e21.BHIST.f09_g17.CMIP6-historical.001\"\n",
      "   contact = \"cesm_cmip6@ucar.edu\"\n",
      "   creation_date = \"2019-01-16T23:34:05Z\"\n",
      "   data_specs_version = \"01.00.29\"\n",
      "   experiment = \"all-forcing simulation of the recent past\"\n",
      "   experiment_id = \"historical\"\n",
      "   external_variables = \"areacella\"\n",
      "   frequency = \"mon\"\n",
      "   grid = \"native 0.9x1.25 finite volume grid (192x288 latxlon)\"\n",
      "   grid_label = \"gn\"\n",
      "   institution_id = \"NCAR\"\n",
      "   license = \"CMIP6 model data produced by <The National Center for Atmospheric Research> is licensed under a Creative Commons Attribution-[]ShareAlike 4.0 International License (https://creativecommons.org/licenses/). Consult https://pcmdi.llnl.gov/CMIP6/TermsOfUse for terms of use governing CMIP6 output, including citation requirements and proper acknowledgment. Further information about this data, including some limitations, can be found via the further_info_url (recorded as a global attribute in this file)[]. The data producers and data providers make no warranty, either express or implied, including, but not limited to, warranties of merchantability and fitness for a particular purpose. All liabilities arising from the supply of the information (including any liability arising in negligence) are excluded to the fullest extent permitted by law.\"\n",
      "   mip_era = \"CMIP6\"\n",
      "   model_doi_url = \"https://doi.org/10.5065/D67H1H0V\"\n",
      "   nominal_resolution = \"100 km\"\n",
      "   parent_activity_id = \"CMIP\"\n",
      "   parent_experiment_id = \"piControl\"\n",
      "   parent_mip_era = \"CMIP6\"\n",
      "   parent_source_id = \"CESM2\"\n",
      "   parent_time_units = \"days since 0001-01-01 00:00:00\"\n",
      "   parent_variant_label = \"r1i1p1f1\"\n",
      "   product = \"model-output\"\n",
      "   realm = \"atmos\"\n",
      "   source_id = \"CESM2\"\n",
      "   source_type = \"AOGCM BGC\"\n",
      "   table_id = \"Amon\"\n",
      "   tracking_id = \"hdl:21.14100/d9a7225a-49c3-4470-b7ab-a8180926f839\"\n",
      "   variable_id = \"tas\"\n",
      "\\n\"variant_info = \"CMIP6 20th century experiments (1850-2014) with CAM6, interactive land (CLM5), coupled ocean (POP2) with biogeochemistry (MARBL), interactive sea ice (CICE5.1), and non-evolving land ice (CISM2.1)\n",
      "   variant_label = \"r1i1p1f1\"\n",
      "   sub_experiment = \"none\"\n",
      "   sub_experiment_id = \"none\"\n",
      "   branch_time_in_parent = 219000.\n",
      "   branch_time_in_child = 674885.\n",
      "   branch_method = \"standard\"\n",
      "   further_info_url = \"https://furtherinfo.es-doc.org/CMIP6.NCAR.CESM2.historical.none.r1i1p1f1\"\n",
      "   history = \"Thu Aug 11 17:37:12 2022: cdo selyear,1991/2000 /pool/data/CMIP6/data/CMIP/NCAR/CESM2/historical/r1i1p1f1/Amon/tas/gn/v20190308/tas_Amon_CESM2_historical_r1i1p1f1_gn_185001-201412.nc ./output/tas_Amon_CESM2_historical_r1i1p1f1_gn_199101-200012.nc\"\n",
      "free(): invalid pointer\n"
     ]
    }
   ],
   "source": [
    "!cdo showatts ./output/tas_Amon_CESM2_historical_r1i1p1f1_gn_199101-200012.nc "
   ]
  },
  {
   "cell_type": "markdown",
   "metadata": {},
   "source": [
    "The unit of Near-Surface Air Temperature is 'K'--Kelvin. We can convert Kelvin to Celsius in order to be consistent with observation data. First we will substract 273.15 from our Near-Surface Air Temperature data values and second, we will need to change the attribution units:"
   ]
  },
  {
   "cell_type": "code",
   "execution_count": 5,
   "metadata": {},
   "outputs": [
    {
     "name": "stdout",
     "output_type": "stream",
     "text": [
      "\u001b[32mcdo(1) subc: \u001b[0mProcess started\n",
      "\u001b[32mcdo(1) subc: \u001b[0mProcessed 6635520 values from 1 variable over 120 timesteps.\n",
      "\u001b[32mcdo    setattribute: \u001b[0mProcessed 6635520 values from 1 variable over 120 timesteps [0.08s 57MB].\n"
     ]
    }
   ],
   "source": [
    "!cdo setattribute,tas@units=degC -subc,273.15 ./output/tas_Amon_CESM2_historical_r1i1p1f1_gn_199101-200012.nc ./output/tas_Amon_CESM2_historical_r1i1p1f1_gn_199101-200012_unitC.nc "
   ]
  },
  {
   "cell_type": "markdown",
   "metadata": {},
   "source": [
    "### Find observational temperature data and select year 1991-2000\n",
    "\n",
    "The observational temperature data used below has been downloaded from the NOAA website: https://psl.noaa.gov/repository/entry/show?entryid=synth:e570c8f9-ec09-4e89-93b4-babd5651e7a9:L3VkZWwuYWlydC5wcmVjaXAvYWlyLm1vbi5tZWFuLnY1MDEubmM=. This file is the monthly mean of surface temperature reanalysis data."
   ]
  },
  {
   "cell_type": "code",
   "execution_count": 6,
   "metadata": {},
   "outputs": [
    {
     "name": "stdout",
     "output_type": "stream",
     "text": [
      "../../data/air.mon.mean.v501.nc\n"
     ]
    }
   ],
   "source": [
    "!ls ../../data/air.mon.mean.v501.nc"
   ]
  },
  {
   "cell_type": "code",
   "execution_count": 7,
   "metadata": {},
   "outputs": [
    {
     "name": "stdout",
     "output_type": "stream",
     "text": [
      "\u001b[32mcdo    selyear: \u001b[0mProcessed 31104000 values from 1 variable over 1416 timesteps [0.56s 67MB].\n"
     ]
    }
   ],
   "source": [
    "!cdo selyear,1991/2000 ../../data/air.mon.mean.v501.nc  ./output/air.mon.mean.v501.199101-200012.nc"
   ]
  },
  {
   "cell_type": "markdown",
   "metadata": {},
   "source": [
    "### To see the difference between the model data and observation data"
   ]
  },
  {
   "cell_type": "markdown",
   "metadata": {},
   "source": [
    "**Basic usage:**  \n",
    "```\n",
    "cdo sub <input1.nc> <input2.nc> <output.nc> \n",
    "\n",
    "```\n",
    "This operation will substract input2.nc from input1.nc with the results being written to output.nc"
   ]
  },
  {
   "cell_type": "code",
   "execution_count": 8,
   "metadata": {},
   "outputs": [
    {
     "name": "stdout",
     "output_type": "stream",
     "text": [
      "\u001b[31m\n",
      "cdo    sub (Abort): \u001b[0mGrid size of the input parameter tas do not match!\n"
     ]
    }
   ],
   "source": [
    "!cdo sub ./output/tas_Amon_CESM2_historical_r1i1p1f1_gn_199101-200012.nc ./output/air.mon.mean.v501.199101-200012.nc ./output/CESM2_HADCRU_dif.nc"
   ]
  },
  {
   "cell_type": "markdown",
   "metadata": {},
   "source": [
    "Hopever, the operation above runs into the following error:\n",
    "\n",
    "**cdo sub(Abort): Grid size of the input parameter tas do not match!**"
   ]
  },
  {
   "cell_type": "markdown",
   "metadata": {},
   "source": [
    "This is because the resolution of the model data is different from that of the observation data. CDO provides several ways of data interpolation, one of which is `cdo remapcon`.\n",
    "\n",
    "**basic usage:**\n",
    "```\n",
    "cdo remapcon, <input1.nc> <input2.nc> <output.nc>\n",
    "```\n",
    "Here input1.nc is the file that we want the resolution to be consistent with.\n",
    "So, let's do remapping first and then subtraction."
   ]
  },
  {
   "cell_type": "code",
   "execution_count": 9,
   "metadata": {},
   "outputs": [
    {
     "name": "stdout",
     "output_type": "stream",
     "text": [
      "\u001b[32mcdo(1) remapcon: \u001b[0mProcess started\n",
      "\u001b[32mcdo(1) remapcon: \u001b[0mYAC first order conservative weights from lonlat (288x192) to lonlat (720x360) grid\n",
      "cdo(1) remapcon:                        1 1 1 1 1 1 1 1 1 1 2 2 2 2 2 2 2 2 2 2 3 3 3 3 3 3 3 3 3 3 4 4 4 4 4 4 4 4 4 4 5 5 5 5 5 5 5 5 5 5 6 6 6 6 6 6 6 6 6 6 7 7 7 7 7 7 7 7 7 7 8 8 8 8 8 8 8 8 8 8 9 9 9 9 9 9 9 9 9 91\u001b[32mcdo(1) remapcon: \u001b[0mProcessed 6635520 values from 1 variable over 120 timesteps.\n",
      "\u001b[32mcdo    sub: \u001b[0mProcessed 62208000 values from 2 variables over 240 timesteps [1.79s 104MB].\n"
     ]
    }
   ],
   "source": [
    "!cdo sub -remapcon,./output/air.mon.mean.v501.199101-200012.nc ./output/tas_Amon_CESM2_historical_r1i1p1f1_gn_199101-200012_unitC.nc ./output/air.mon.mean.v501.199101-200012.nc ./output/CESM2_DelawareT_dif.nc"
   ]
  },
  {
   "cell_type": "markdown",
   "metadata": {},
   "source": [
    "### Calculate average difference and show it in ncview"
   ]
  },
  {
   "cell_type": "code",
   "execution_count": 10,
   "metadata": {},
   "outputs": [
    {
     "name": "stdout",
     "output_type": "stream",
     "text": [
      "cdo    timavg:                        1 1 1 1 1 1 1 1 1 1 2 2 2 2 2 2 2 2 2 2 3 3 3 3 3 3 3 3 3 3 4 4 4 4 4 4 4 4 4 4 5 5 5 5 5 5 5 5 5 5 6 6 6 6 6 6 6 6 6 6 7 7 7 7 7 7 7 7 7 7 8 8 8 8 8 8 8 8 8 8 9 9 9 9 9 9 9 9 9 91\u001b[32mcdo    timavg: \u001b[0mProcessed 31104000 values from 1 variable over 120 timesteps [0.18s 50MB].\n"
     ]
    }
   ],
   "source": [
    "!cdo timavg ./output/CESM2_DelawareT_dif.nc ./output/CESM2_DelawareT_dif_avg.nc"
   ]
  },
  {
   "cell_type": "code",
   "execution_count": 12,
   "metadata": {},
   "outputs": [
    {
     "name": "stdout",
     "output_type": "stream",
     "text": [
      "./output/CESM2_DelawareT_dif_avg.nc\n"
     ]
    }
   ],
   "source": [
    "!ls ./output/CESM2_DelawareT_dif_avg.nc"
   ]
  },
  {
   "cell_type": "code",
   "execution_count": 13,
   "metadata": {},
   "outputs": [
    {
     "data": {
      "text/plain": [
       "<matplotlib.collections.QuadMesh at 0x7fffab9d55b0>"
      ]
     },
     "execution_count": 13,
     "metadata": {},
     "output_type": "execute_result"
    },
    {
     "data": {
      "image/png": "[encoded data removed]",
      "text/plain": [
       "<Figure size 432x288 with 2 Axes>"
      ]
     },
     "metadata": {
      "needs_background": "light"
     },
     "output_type": "display_data"
    }
   ],
   "source": [
    "import xarray as xr\n",
    "file=xr.open_dataset(\"./output/CESM2_DelawareT_dif_avg.nc\")\n",
    "file.tas.plot()\n",
    "\n",
    "#!ncview ./output/CESM2_DelawareT_dif_avg.nc"
   ]
  },
  {
   "cell_type": "markdown",
   "metadata": {},
   "source": [
    "<div class=\"alert alert-info\">\n",
    "<b>Tip: </b> In CDO, an artificial distinction is made between the notions mean (e.g.timmean) and average (e.g. timavg). The mean is regarded as a statistical function, whereas the average is found simply by adding the sample members and dividing the result by the sample size. For example, the mean of 1, 2, miss and 3 is (1 + 2 + 3)/3 = 2, whereas the average is (1 + 2 + miss + 3)/4. If there are no missing values in the sample, the average and mean are identical.\n",
    "</div>\n",
    "\n",
    "![ ](output/cdo_comp3.png)\n",
    "\n",
    "We can see that in some areas the model simulated temperature is higher than the observation data, whereas other areas are lower than the observation, and the difference seems to be greater at the higher latitude areas."
   ]
  },
  {
   "cell_type": "markdown",
   "metadata": {},
   "source": [
    "### Summary\n",
    "\n",
    "In this example, we show how to use cdo to concatenate data files and remap data in order to change its resolution.\n",
    "\n",
    "## Reference\n",
    "\n",
    "https://code.mpimet.mpg.de/projects/cdo/embedded/cdo.pdf\n"
   ]
  }
 ],
 "metadata": {
  "kernelspec": {
   "display_name": "Python 3 (based on the module python3/2022.01)",
   "language": "python",
   "name": "python3_2022_01"
  },
  "language_info": {
   "codemirror_mode": {
    "name": "ipython",
    "version": 3
   },
   "file_extension": ".py",
   "mimetype": "text/x-python",
   "name": "python",
   "nbconvert_exporter": "python",
   "pygments_lexer": "ipython3",
   "version": "3.9.9"
  }
 },
 "nbformat": 4,
 "nbformat_minor": 4
}
