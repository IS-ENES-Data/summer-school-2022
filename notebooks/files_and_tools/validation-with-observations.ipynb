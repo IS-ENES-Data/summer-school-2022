{
 "cells": [
  {
   "cell_type": "markdown",
   "metadata": {},
   "source": [
    "# Use CMIP6 models together with observational data\n",
    "This example demonstrates how to combine CMIP6 models with observational data from the Copernicus Climate Data Store (CDS). We have chosen Surface Downwelling Longwave Radiation (rlds variable) here. We will load the data, regrid the observational dataset and use it to validate the model. First, load all nesessary libraries."
   ]
  },
  {
   "cell_type": "code",
   "execution_count": null,
   "metadata": {},
   "outputs": [],
   "source": [
    "import intake\n",
    "import xarray as xr\n",
    "import cartopy.crs as ccrs\n",
    "import matplotlib.pyplot as plt\n",
    "import numpy as np\n",
    "import xesmf as xe\n",
    "import cf_xarray as cfxr\n",
    "import ESMF\n",
    "\n",
    "%matplotlib inline\n",
    "print(\"Using xESMF in version %s\" % xe.__version__)"
   ]
  },
  {
   "cell_type": "markdown",
   "metadata": {},
   "source": [
    "# 1. Load the model\n",
    "We then load one of the historical monthly CMIP6 models for December 2014 from Mistral, look at its metadata, and plot it."
   ]
  },
  {
   "cell_type": "code",
   "execution_count": null,
   "metadata": {
    "scrolled": true
   },
   "outputs": [],
   "source": [
    "col = intake.open_esm_datastore(\"/pool/data/Catalogs/dkrz_cmip6_disk.json\")\n",
    "cat = col.search(variable_id = \"rlds\",\n",
    "                 table_id = \"Amon\",\n",
    "                 activity_id = \"CMIP\",\n",
    "                 experiment_id = \"historical\",\n",
    "                source_id = \"MPI-ESM1-2-HR\",\n",
    "                member_id = \"r1i1p1f1\")\n",
    "xr_dict = cat.to_dataset_dict()\n",
    "dset = xr_dict[list(xr_dict.keys())[0]]\n",
    "dset['rlds']"
   ]
  },
  {
   "cell_type": "code",
   "execution_count": null,
   "metadata": {},
   "outputs": [],
   "source": [
    "fig = plt.figure(figsize = (25, 10))\n",
    "ax = fig.add_subplot(1, 1, 1, projection = ccrs.Mollweide())\n",
    "\n",
    "plt.contourf(dset['rlds'].sel(time = '2014-12-16T12:00:00')[0].lon,\n",
    "            dset['rlds'].sel(time = '2014-12-16T12:00:00')[0].lat,\n",
    "            dset['rlds'].sel(time = '2014-12-16T12:00:00')[0], 60,\n",
    "            transform = ccrs.PlateCarree(0),\n",
    "            cmap = 'coolwarm')\n",
    "ax.coastlines()\n",
    "ax.set_global()\n",
    "\n",
    "# Add a color bar\n",
    "plt.colorbar(ax = ax)\n",
    "plt.title('Surface Downwelling Longwave Radiation in Dec 2014 (CMIP6), W m-2', \n",
    "          fontdict = {'fontsize' : '24', 'fontweight' : 'bold'} )\n",
    "plt.show()"
   ]
  },
  {
   "cell_type": "markdown",
   "metadata": {},
   "source": [
    "## 2. Load the observational data\n",
    "As an observational dataset we chose the Surface Downwelling Longwave Radiation derived from AHVRR satellite. We download it from the Climate Data Store.\n",
    "https://cds.climate.copernicus.eu/cdsapp#!/dataset/satellite-surface-radiation-budget?tab=form\n",
    "\n",
    "### In sections 2.0 - 2.1 we describe how to retrive the observational dataset from CDS. For the purpose of this workshop, however, we have already prepared this dataset, so you can directly load it in section 2.2.\n",
    "\n",
    "### 2.0 CDS API\n",
    "In order to do so we used CDS API which we need to set up first. Please refer to the source git repository for the details on the installation and use of this package.\n",
    "https://github.com/ecmwf/cdsapi\n",
    "\n",
    "You would need to enter your UID and your API Key to use CDS."
   ]
  },
  {
   "cell_type": "code",
   "execution_count": null,
   "metadata": {
    "scrolled": true
   },
   "outputs": [],
   "source": [
    "#!pip install cdsapi\n",
    "# cat > ~/.cdsapirc\n",
    "# url: https://cds.climate.copernicus.eu/api/v2\n",
    "# key: <your UID>:<your API Key>\n",
    "# verify: 0\n",
    "#pip install cfgrib"
   ]
  },
  {
   "cell_type": "code",
   "execution_count": null,
   "metadata": {},
   "outputs": [],
   "source": [
    "# import cdsapi\n",
    "# import cfgrib\n",
    "# cds = cdsapi.Client()"
   ]
  },
  {
   "cell_type": "markdown",
   "metadata": {},
   "source": [
    "### 2.1 Downlod the data from the CDS\n",
    "We download the dataset for the same month as our modeling daset, unzip it, load it to the notebook, check its metadata, and finally plot it."
   ]
  },
  {
   "cell_type": "code",
   "execution_count": null,
   "metadata": {
    "scrolled": true
   },
   "outputs": [],
   "source": [
    "# cds.retrieve(\n",
    "#     'satellite-surface-radiation-budget',\n",
    "#     {\n",
    "#         'format': 'tgz',\n",
    "#         'product_family': 'clara',\n",
    "#         'origin': 'eumetsat',\n",
    "#         'variable': 'surface_downwelling_longwave_flux',\n",
    "#         'time_aggregation': 'monthly_mean',\n",
    "#         'climate_data_record_type': 'thematic_climate_data_record',\n",
    "#         'year': '2014',\n",
    "#         'month': '12',\n",
    "#         'version': 'v2_0',\n",
    "#         'sensor_on_satellite': 'avhrr_on_multiple_satellites',\n",
    "#     },\n",
    "#     'download.tar.gz')"
   ]
  },
  {
   "cell_type": "code",
   "execution_count": null,
   "metadata": {
    "scrolled": true
   },
   "outputs": [],
   "source": [
    "#!tar -xvf download.tar.gz SDLmm20141201000000219AVPOS01GL.nc -C /obs/"
   ]
  },
  {
   "cell_type": "code",
   "execution_count": null,
   "metadata": {
    "scrolled": true
   },
   "outputs": [],
   "source": [
    "obs = xr.open_dataset(\"../../data/SDLmm20141201000000219AVPOS01GL.nc\").isel(time = 0)\n",
    "obs"
   ]
  },
  {
   "cell_type": "code",
   "execution_count": null,
   "metadata": {},
   "outputs": [],
   "source": [
    "fig = plt.figure(figsize = (25, 10))\n",
    "ax = fig.add_subplot(1, 1, 1, projection = ccrs.Mollweide())\n",
    "\n",
    "plt.contourf(obs['SDL'].lon, obs['SDL'].lat, obs['SDL'], 60,\n",
    "            transform = ccrs.PlateCarree(),\n",
    "            cmap = 'coolwarm')\n",
    "ax.coastlines()\n",
    "ax.set_global()\n",
    "\n",
    "# Add a color bar\n",
    "plt.colorbar(ax = ax)\n",
    "plt.title('Surface Downwelling Longwave Radiation in Dec 2014 (AVHRR), W m-2', \n",
    "          fontdict = {'fontsize' : '24', 'fontweight' : 'bold'} )\n",
    "plt.show()"
   ]
  },
  {
   "cell_type": "markdown",
   "metadata": {},
   "source": [
    "## 3. Regridding\n",
    "As we could find out from the metadata of both datasets, their dimesions are different. We therefore need to regrid one of the datasets before we could spatially overlay them. We will use xESMF and ESMF libraries for this purpose. Please refer to the respective documentation to see the details and parameters of the functions from these packages (https://xesmf.readthedocs.io/en/latest/index.html, https://github.com/esmf-org/esmf)."
   ]
  },
  {
   "cell_type": "code",
   "execution_count": null,
   "metadata": {},
   "outputs": [],
   "source": [
    "# In case of problems, activate ESMF verbose mode\n",
    "ESMF.Manager(debug = True)\n",
    "\n",
    "# Regridding methods\n",
    "method_list = ['bilinear','nearest_s2d', 'conservative', 'conservative_normed', 'patch']\n",
    "\n",
    "# Function to generate the weights\n",
    "# If grids have problems of degenerated cells near the poles there is the ignore_degenerate option\n",
    "def regrid(ds_in, ds_out, method, periodic, unmapped_to_nan = True, ignore_degenerate = None):\n",
    "    \"\"\"Convenience function for calculating regridding weights\"\"\"\n",
    "    return xe.Regridder(ds_in, ds_out, method, periodic = periodic, \n",
    "                        unmapped_to_nan = unmapped_to_nan, \n",
    "                        ignore_degenerate = ignore_degenerate)"
   ]
  },
  {
   "cell_type": "markdown",
   "metadata": {},
   "source": [
    "Create a regridder for converting the observational dataset to match the model grid."
   ]
  },
  {
   "cell_type": "code",
   "execution_count": null,
   "metadata": {},
   "outputs": [],
   "source": [
    "regridder = regrid(obs, dset, \"bilinear\", periodic = True, unmapped_to_nan = True, ignore_degenerate = None) \n",
    "regridder"
   ]
  },
  {
   "cell_type": "code",
   "execution_count": null,
   "metadata": {},
   "outputs": [],
   "source": [
    "#Regrid the observational dataset and write write it to the xarray with the modeling dataset.\n",
    "dset[\"AVHRR\"] = regridder(obs.SDL, keep_attrs = True, skipna = True, na_thres = 1.0)\n",
    "dset"
   ]
  },
  {
   "cell_type": "markdown",
   "metadata": {},
   "source": [
    "## 4. Validate the model\n",
    "Finally, we can create a difference map between our datasets and calculate its corresponding bias and RMSE."
   ]
  },
  {
   "cell_type": "code",
   "execution_count": null,
   "metadata": {},
   "outputs": [],
   "source": [
    "# Calculate the differene map\n",
    "diff = dset['AVHRR'] - dset['rlds'].sel(time = '2014-12-16T12:00:00')\n",
    "diff = diff[:,:,'member_id' == 'r1i1p1f1']\n",
    "\n",
    "#Calculate the bias and the RMSE \n",
    "bias = diff.mean().values\n",
    "rmse = np.sqrt(np.square(diff).sum()/np.square(diff).size).values\n",
    "\n",
    "# Plot the results\n",
    "fig = plt.figure(figsize = (25, 10))\n",
    "ax = fig.add_subplot(1, 1, 1, projection = ccrs.Mollweide())\n",
    "\n",
    "plt.contourf(diff.lon, diff.lat, diff,\n",
    "            transform = ccrs.PlateCarree(),\n",
    "            cmap = 'coolwarm')\n",
    "ax.coastlines()\n",
    "ax.set_global()\n",
    "\n",
    "# Print the bias and the RMSE in a textbox\n",
    "textstr = '\\n'.join((\n",
    "    r'bias = %.2f' % (bias, ),\n",
    "    r'RMSE = %.2f' % (rmse, )))\n",
    "\n",
    "props = dict(boxstyle = 'round', facecolor = 'wheat', alpha = 0.5)\n",
    "ax.text(0.05, 0.95, textstr, transform = ax.transAxes, fontsize = 17,\n",
    "        verticalalignment = 'top', bbox = props)\n",
    "\n",
    "# Add a color bar and a title\n",
    "plt.colorbar(ax = ax)\n",
    "plt.title('Difference map between CMIP6 and AVHRR-derived Surface Downwelling Longwave Radiation, W m-2', \n",
    "          fontdict = {'fontsize' : '24', 'fontweight' : 'bold'} )\n",
    "plt.show()"
   ]
  },
  {
   "cell_type": "code",
   "execution_count": null,
   "metadata": {},
   "outputs": [],
   "source": []
  }
 ],
 "metadata": {
  "kernelspec": {
   "display_name": "sschool",
   "language": "python",
   "name": "sschool"
  },
  "language_info": {
   "codemirror_mode": {
    "name": "ipython",
    "version": 3
   },
   "file_extension": ".py",
   "mimetype": "text/x-python",
   "name": "python",
   "nbconvert_exporter": "python",
   "pygments_lexer": "ipython3",
   "version": "3.10.5"
  }
 },
 "nbformat": 4,
 "nbformat_minor": 4
}
