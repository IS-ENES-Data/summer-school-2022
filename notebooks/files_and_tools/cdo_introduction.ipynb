{
 "cells": [
  {
   "cell_type": "markdown",
   "metadata": {},
   "source": [
    "# CDO - Climate Data Operators\n",
    "\n",
    "CDO User Guide https://code.mpimet.mpg.de/projects/cdo/embedded/cdo.pdf\n",
    "\n",
    "CDO Python bindings introduction https://code.mpimet.mpg.de/attachments/download/18824/cdo-bindings.pdf\n",
    "\n",
    "### Table of contents\n",
    "\n",
    "- About CDO\n",
    "- Import CDO module\n",
    "- Show CDO version\n",
    "- Set temporary directory\n",
    "- Delete temporay files\n",
    "- List CDO operators\n",
    "- List all operators starting with 'sel'\n",
    "- Show information about an operator\n",
    "- Turn debugging on/off\n",
    "- Display information about the file content\n",
    "- Show information about the variables value range, times, levels in more detail\n",
    "- Copy file\n",
    "- Select variables\n",
    "- Select timesteps\n",
    "- Operator chaining\n",
    "- Select a sub-region\n",
    "- Compute the field mean\n",
    "- Assign data to variable\n",
    "- Remapping\n",
    "- Remap data to grid of another file\n",
    "- Create a land-sea mask\n",
    "- Masking data\n",
    "- Delete temporary files\n",
    "\n",
    "<br>\n"
   ]
  },
  {
   "cell_type": "markdown",
   "metadata": {},
   "source": [
    "## About CDO\n",
    "\n",
    "See also https://code.mpimet.mpg.de/projects/cdo/wiki\n",
    "\n",
    "CDO is a large tool set for working on climate and NWP model data. NetCDF 3/4, GRIB 1/2 including SZIP (or AEC) and JPEG compression, EXTRA, SERVICE and IEG are supported as IO-formats. Apart from that CDO can be used to analyse any kind of gridded data not related to climate science. CDO has very small memory requirements and can process files larger than the physical memory.\n",
    "\n",
    "CDO is open source and released under the terms of the GNU General Public License v2 (GPL)."
   ]
  },
  {
   "cell_type": "markdown",
   "metadata": {},
   "source": [
    "<br>\n",
    "\n",
    "## Import CDO module\n",
    "\n",
    "Import the CDO module and set cdo to Cdo() which makes writing a little easier."
   ]
  },
  {
   "cell_type": "code",
   "execution_count": 1,
   "metadata": {},
   "outputs": [],
   "source": [
    "from cdo import *\n",
    "\n",
    "cdo = Cdo()"
   ]
  },
  {
   "cell_type": "markdown",
   "metadata": {},
   "source": [
    "<br>\n",
    "\n",
    "## Show CDO version\n",
    "\n",
    "python-cdo version:"
   ]
  },
  {
   "cell_type": "code",
   "execution_count": 8,
   "metadata": {},
   "outputs": [
    {
     "name": "stdout",
     "output_type": "stream",
     "text": [
      "1.5.4\n"
     ]
    }
   ],
   "source": [
    "print(cdo.__version__())\n"
   ]
  },
  {
   "cell_type": "markdown",
   "metadata": {},
   "source": [
    "Based on CDO version:"
   ]
  },
  {
   "cell_type": "code",
   "execution_count": 3,
   "metadata": {},
   "outputs": [
    {
     "name": "stdout",
     "output_type": "stream",
     "text": [
      "2.0.3\n"
     ]
    }
   ],
   "source": [
    "print(cdo.version())"
   ]
  },
  {
   "cell_type": "markdown",
   "metadata": {},
   "source": [
    "<br>\n",
    "\n",
    "## Set temporary directory\n",
    "\n",
    "Set another directory for storing tempfiles with a constructor option and remove anything left in there when you experienced a crash or something like this"
   ]
  },
  {
   "cell_type": "code",
   "execution_count": 9,
   "metadata": {},
   "outputs": [],
   "source": [
    "tempPath = './tmp/'\n",
    "cdo = Cdo(tempdir=tempPath)"
   ]
  },
  {
   "cell_type": "markdown",
   "metadata": {},
   "source": [
    "<br>\n",
    "\n",
    "## Delete temporary files"
   ]
  },
  {
   "cell_type": "code",
   "execution_count": null,
   "metadata": {},
   "outputs": [],
   "source": [
    "cdo.cleanTempDir()"
   ]
  },
  {
   "cell_type": "markdown",
   "metadata": {},
   "source": [
    "<br>\n",
    "\n",
    "## List CDO operators\n",
    "\n",
    "More than 800 operators are available."
   ]
  },
  {
   "cell_type": "code",
   "execution_count": 5,
   "metadata": {},
   "outputs": [
    {
     "data": {
      "text/plain": [
       "{'abs': 1,\n",
       " 'acos': 1,\n",
       " 'add': 1,\n",
       " 'addc': 1,\n",
       " 'addtrend': 1,\n",
       " 'adipot': 1,\n",
       " 'adisit': 1,\n",
       " 'aexpr': 1,\n",
       " 'aexprf': 1,\n",
       " 'after': 1,\n",
       " 'afterburner': 1,\n",
       " 'anomaly': 1,\n",
       " 'ap2hl': 1,\n",
       " 'ap2hlx': 1,\n",
       " 'ap2pl': 1,\n",
       " 'ap2pl_lp': 1,\n",
       " 'ap2plx': 1,\n",
       " 'ap2plx_lp': 1,\n",
       " 'apply': 1,\n",
       " 'arg': 1,\n",
       " 'asin': 1,\n",
       " 'atan': 1,\n",
       " 'atan2': 1,\n",
       " 'bandpass': 1,\n",
       " 'bottomvalue': 1,\n",
       " 'boxavg': 1,\n",
       " 'cat': 1,\n",
       " 'cdiread': 0,\n",
       " 'cdiwrite': 1,\n",
       " 'changemulti': 1,\n",
       " 'chcode': 1,\n",
       " 'chlevel': 1,\n",
       " 'chlevelc': 1,\n",
       " 'chlevelv': 1,\n",
       " 'chltype': 1,\n",
       " 'chname': 1,\n",
       " 'chparam': 1,\n",
       " 'chtabnum': 1,\n",
       " 'chunit': 1,\n",
       " 'chvar': 1,\n",
       " 'cloudlayer': 1,\n",
       " 'cmor': 0,\n",
       " 'cmorlite': 1,\n",
       " 'codetab': 0,\n",
       " 'collgrid': 1,\n",
       " 'complextopol': 2,\n",
       " 'complextorect': 2,\n",
       " 'conj': 1,\n",
       " 'consecsum': 1,\n",
       " 'consects': 1,\n",
       " 'const': 1,\n",
       " 'contour': 1,\n",
       " 'conv_cmor_table': 0,\n",
       " 'copy': 1,\n",
       " 'cos': 1,\n",
       " 'coshill': 1,\n",
       " 'dayadd': 1,\n",
       " 'dayavg': 1,\n",
       " 'daycount': 1,\n",
       " 'daydiv': 1,\n",
       " 'daymax': 1,\n",
       " 'daymean': 1,\n",
       " 'daymin': 1,\n",
       " 'daymul': 1,\n",
       " 'daypctl': 1,\n",
       " 'dayrange': 1,\n",
       " 'daystd': 1,\n",
       " 'daystd1': 1,\n",
       " 'daysub': 1,\n",
       " 'daysum': 1,\n",
       " 'dayvar': 1,\n",
       " 'dayvar1': 1,\n",
       " 'dcw': 0,\n",
       " 'del29feb': 1,\n",
       " 'delcode': 1,\n",
       " 'delday': 1,\n",
       " 'delete': 1,\n",
       " 'delgridcell': 1,\n",
       " 'delmulti': 1,\n",
       " 'delname': 1,\n",
       " 'delparam': 1,\n",
       " 'deltap': 1,\n",
       " 'deltap_fl': 1,\n",
       " 'deltat': 1,\n",
       " 'delvar': 1,\n",
       " 'detrend': 1,\n",
       " 'dhouravg': 1,\n",
       " 'dhourmax': 1,\n",
       " 'dhourmean': 1,\n",
       " 'dhourmin': 1,\n",
       " 'dhourrange': 1,\n",
       " 'dhourstd': 1,\n",
       " 'dhourstd1': 1,\n",
       " 'dhoursum': 1,\n",
       " 'dhourvar': 1,\n",
       " 'dhourvar1': 1,\n",
       " 'diff': 0,\n",
       " 'diffc': 0,\n",
       " 'diffn': 0,\n",
       " 'diffp': 0,\n",
       " 'diffv': 0,\n",
       " 'distgrid': -1,\n",
       " 'div': 1,\n",
       " 'divc': 1,\n",
       " 'divcoslat': 1,\n",
       " 'divdpm': 1,\n",
       " 'divdpy': 1,\n",
       " 'dump_cmor_table': 0,\n",
       " 'dumpmap': 0,\n",
       " 'duplicate': 1,\n",
       " 'dv2ps': 1,\n",
       " 'dv2uv': 1,\n",
       " 'dv2uvl': 1,\n",
       " 'eca_cdd': 1,\n",
       " 'eca_cfd': 1,\n",
       " 'eca_csu': 1,\n",
       " 'eca_cwd': 1,\n",
       " 'eca_cwdi': 1,\n",
       " 'eca_cwfi': 1,\n",
       " 'eca_etr': 1,\n",
       " 'eca_fd': 1,\n",
       " 'eca_gsl': 1,\n",
       " 'eca_hd': 1,\n",
       " 'eca_hwdi': 1,\n",
       " 'eca_hwfi': 1,\n",
       " 'eca_id': 1,\n",
       " 'eca_pd': 1,\n",
       " 'eca_r10mm': 1,\n",
       " 'eca_r1mm': 1,\n",
       " 'eca_r20mm': 1,\n",
       " 'eca_r75p': 1,\n",
       " 'eca_r75ptot': 1,\n",
       " 'eca_r90p': 1,\n",
       " 'eca_r90ptot': 1,\n",
       " 'eca_r95p': 1,\n",
       " 'eca_r95ptot': 1,\n",
       " 'eca_r99p': 1,\n",
       " 'eca_r99ptot': 1,\n",
       " 'eca_rr1': 1,\n",
       " 'eca_rx1day': 1,\n",
       " 'eca_rx5day': 1,\n",
       " 'eca_sdii': 1,\n",
       " 'eca_su': 1,\n",
       " 'eca_tg10p': 1,\n",
       " 'eca_tg90p': 1,\n",
       " 'eca_tn10p': 1,\n",
       " 'eca_tn90p': 1,\n",
       " 'eca_tr': 1,\n",
       " 'eca_tx10p': 1,\n",
       " 'eca_tx90p': 1,\n",
       " 'enlarge': 1,\n",
       " 'ensavg': 1,\n",
       " 'ensbrs': -1,\n",
       " 'enscrps': -1,\n",
       " 'enskurt': 1,\n",
       " 'ensmax': 1,\n",
       " 'ensmean': 1,\n",
       " 'ensmedian': 1,\n",
       " 'ensmin': 1,\n",
       " 'enspctl': 1,\n",
       " 'ensrange': 1,\n",
       " 'ensrkhistspace': 1,\n",
       " 'ensrkhisttime': 1,\n",
       " 'ensroc': 1,\n",
       " 'ensskew': 1,\n",
       " 'ensstd': 1,\n",
       " 'ensstd1': 1,\n",
       " 'enssum': 1,\n",
       " 'ensvar': 1,\n",
       " 'ensvar1': 1,\n",
       " 'eof': 2,\n",
       " 'eof3d': 2,\n",
       " 'eof3dspatial': 2,\n",
       " 'eof3dtime': 2,\n",
       " 'eofcoeff': -1,\n",
       " 'eofcoeff3d': -1,\n",
       " 'eofspatial': 2,\n",
       " 'eoftime': 2,\n",
       " 'eq': 1,\n",
       " 'eqc': 1,\n",
       " 'etccdi': 1,\n",
       " 'etccdi_cdd': 1,\n",
       " 'etccdi_csdi': 1,\n",
       " 'etccdi_cwd': 1,\n",
       " 'etccdi_fd': 1,\n",
       " 'etccdi_gsl': 1,\n",
       " 'etccdi_hd': 1,\n",
       " 'etccdi_id': 1,\n",
       " 'etccdi_r10mm': 1,\n",
       " 'etccdi_r1mm': 1,\n",
       " 'etccdi_r20mm': 1,\n",
       " 'etccdi_r95p': 1,\n",
       " 'etccdi_r99p': 1,\n",
       " 'etccdi_rx1day': 1,\n",
       " 'etccdi_rx1daymon': 1,\n",
       " 'etccdi_rx5day': 1,\n",
       " 'etccdi_rx5daymon': 1,\n",
       " 'etccdi_sdii': 1,\n",
       " 'etccdi_su': 1,\n",
       " 'etccdi_tn10p': 1,\n",
       " 'etccdi_tn90p': 1,\n",
       " 'etccdi_tr': 1,\n",
       " 'etccdi_tx10p': 1,\n",
       " 'etccdi_tx90p': 1,\n",
       " 'etccdi_wsdi': 1,\n",
       " 'exp': 1,\n",
       " 'expr': 1,\n",
       " 'exprf': 1,\n",
       " 'fc2gp': 1,\n",
       " 'fc2sp': 1,\n",
       " 'fdns': 1,\n",
       " 'filedes': 0,\n",
       " 'fillmiss': 1,\n",
       " 'fillmiss2': 1,\n",
       " 'fldavg': 1,\n",
       " 'fldcor': 1,\n",
       " 'fldcovar': 1,\n",
       " 'fldint': 1,\n",
       " 'fldkurt': 1,\n",
       " 'fldmax': 1,\n",
       " 'fldmean': 1,\n",
       " 'fldmedian': 1,\n",
       " 'fldmin': 1,\n",
       " 'fldpctl': 1,\n",
       " 'fldrange': 1,\n",
       " 'fldrms': 1,\n",
       " 'fldskew': 1,\n",
       " 'fldstd': 1,\n",
       " 'fldstd1': 1,\n",
       " 'fldsum': 1,\n",
       " 'fldvar': 1,\n",
       " 'fldvar1': 1,\n",
       " 'for': 1,\n",
       " 'fourier': 1,\n",
       " 'fourier2grid': 1,\n",
       " 'fpressure': 1,\n",
       " 'ge': 1,\n",
       " 'gec': 1,\n",
       " 'genbic': 1,\n",
       " 'genbil': 1,\n",
       " 'gencon': 1,\n",
       " 'gencon2': 1,\n",
       " 'gendis': 1,\n",
       " 'gengrid': 1,\n",
       " 'genlaf': 1,\n",
       " 'genlevelbounds': 1,\n",
       " 'gennn': 1,\n",
       " 'genscon': 1,\n",
       " 'genycon': 1,\n",
       " 'genycon2test': 1,\n",
       " 'geopotheight': 1,\n",
       " 'gh2hl': 1,\n",
       " 'gh2hlx': 1,\n",
       " 'gheight': 1,\n",
       " 'globavg': 1,\n",
       " 'gmtcells': 0,\n",
       " 'gmtxyz': 0,\n",
       " 'gp2fc': 1,\n",
       " 'gp2sp': 1,\n",
       " 'gp2spl': 1,\n",
       " 'gradsdes': 0,\n",
       " 'graph': 1,\n",
       " 'grfill': 1,\n",
       " 'grid2fourier': 1,\n",
       " 'gridarea': 1,\n",
       " 'gridboxavg': 1,\n",
       " 'gridboxkurt': 1,\n",
       " 'gridboxmax': 1,\n",
       " 'gridboxmean': 1,\n",
       " 'gridboxmedian': 1,\n",
       " 'gridboxmin': 1,\n",
       " 'gridboxrange': 1,\n",
       " 'gridboxskew': 1,\n",
       " 'gridboxstd': 1,\n",
       " 'gridboxstd1': 1,\n",
       " 'gridboxsum': 1,\n",
       " 'gridboxvar': 1,\n",
       " 'gridboxvar1': 1,\n",
       " 'gridcellidx': 1,\n",
       " 'griddes': 0,\n",
       " 'griddes2': 0,\n",
       " 'griddx': 1,\n",
       " 'griddy': 1,\n",
       " 'gridmask': 1,\n",
       " 'gridweights': 1,\n",
       " 'gt': 1,\n",
       " 'gtc': 1,\n",
       " 'harmonic': 1,\n",
       " 'highpass': 1,\n",
       " 'histcount': 1,\n",
       " 'histfreq': 1,\n",
       " 'histmean': 1,\n",
       " 'histsum': 1,\n",
       " 'houravg': 1,\n",
       " 'hourcount': 1,\n",
       " 'hourmax': 1,\n",
       " 'hourmean': 1,\n",
       " 'hourmin': 1,\n",
       " 'hourpctl': 1,\n",
       " 'hourrange': 1,\n",
       " 'hourstd': 1,\n",
       " 'hourstd1': 1,\n",
       " 'hoursum': 1,\n",
       " 'hourvar': 1,\n",
       " 'hourvar1': 1,\n",
       " 'hpressure': 1,\n",
       " 'hurr': 1,\n",
       " 'ifnotthen': 1,\n",
       " 'ifnotthenc': 1,\n",
       " 'ifthen': 1,\n",
       " 'ifthenc': 1,\n",
       " 'ifthenelse': 1,\n",
       " 'im': 1,\n",
       " 'import_amsr': 1,\n",
       " 'import_binary': 1,\n",
       " 'import_cmsaf': 1,\n",
       " 'import_fv3grid': 1,\n",
       " 'import_grads': 1,\n",
       " 'import_obs': 1,\n",
       " 'imtocomplex': 1,\n",
       " 'info': 0,\n",
       " 'infoc': 0,\n",
       " 'infon': 0,\n",
       " 'infop': 0,\n",
       " 'infos': 0,\n",
       " 'infov': 0,\n",
       " 'input': 1,\n",
       " 'inputext': 1,\n",
       " 'inputsrv': 1,\n",
       " 'int': 1,\n",
       " 'interpolate': 1,\n",
       " 'intgrid': 1,\n",
       " 'intgridbil': 1,\n",
       " 'intgriddis': 1,\n",
       " 'intgridnn': 1,\n",
       " 'intgridtraj': 1,\n",
       " 'intlevel': 1,\n",
       " 'intlevel3d': 1,\n",
       " 'intlevelx': 1,\n",
       " 'intlevelx3d': 1,\n",
       " 'intntime': 1,\n",
       " 'inttime': 1,\n",
       " 'intyear': -1,\n",
       " 'invertlat': 1,\n",
       " 'invertlatdata': 1,\n",
       " 'invertlatdes': 1,\n",
       " 'invertlev': 1,\n",
       " 'invertlon': 1,\n",
       " 'invertlondata': 1,\n",
       " 'invertlondes': 1,\n",
       " 'isosurface': 1,\n",
       " 'le': 1,\n",
       " 'lec': 1,\n",
       " 'lic': 1,\n",
       " 'ln': 1,\n",
       " 'log': 1,\n",
       " 'log10': 1,\n",
       " 'lowpass': 1,\n",
       " 'lt': 1,\n",
       " 'ltc': 1,\n",
       " 'map': 0,\n",
       " 'mask': 1,\n",
       " 'maskindexbox': 1,\n",
       " 'masklonlatbox': 1,\n",
       " 'maskregion': 1,\n",
       " 'mastrfu': 1,\n",
       " 'max': 1,\n",
       " 'maxc': 1,\n",
       " 'meandiff2test': 1,\n",
       " 'meravg': 1,\n",
       " 'merge': 1,\n",
       " 'mergegrid': 1,\n",
       " 'mergetime': 1,\n",
       " 'merkurt': 1,\n",
       " 'mermax': 1,\n",
       " 'mermean': 1,\n",
       " 'mermedian': 1,\n",
       " 'mermin': 1,\n",
       " 'merpctl': 1,\n",
       " 'merrange': 1,\n",
       " 'merskew': 1,\n",
       " 'merstd': 1,\n",
       " 'merstd1': 1,\n",
       " 'mersum': 1,\n",
       " 'mervar': 1,\n",
       " 'mervar1': 1,\n",
       " 'min': 1,\n",
       " 'minc': 1,\n",
       " 'ml2hl': 1,\n",
       " 'ml2hl_lp': 1,\n",
       " 'ml2hlx': 1,\n",
       " 'ml2hlx_lp': 1,\n",
       " 'ml2pl': 1,\n",
       " 'ml2pl_lp': 1,\n",
       " 'ml2plx': 1,\n",
       " 'ml2plx_lp': 1,\n",
       " 'mod': 1,\n",
       " 'monadd': 1,\n",
       " 'monavg': 1,\n",
       " 'moncount': 1,\n",
       " 'mondiv': 1,\n",
       " 'monmax': 1,\n",
       " 'monmean': 1,\n",
       " 'monmin': 1,\n",
       " 'monmul': 1,\n",
       " 'monpctl': 1,\n",
       " 'monrange': 1,\n",
       " 'monstd': 1,\n",
       " 'monstd1': 1,\n",
       " 'monsub': 1,\n",
       " 'monsum': 1,\n",
       " 'monvar': 1,\n",
       " 'monvar1': 1,\n",
       " 'mrotuv': 2,\n",
       " 'mrotuvb': 1,\n",
       " 'mul': 1,\n",
       " 'mulc': 1,\n",
       " 'mulcoslat': 1,\n",
       " 'muldoy': 1,\n",
       " 'muldpm': 1,\n",
       " 'muldpy': 1,\n",
       " 'ncode': 0,\n",
       " 'ncopy': 1,\n",
       " 'ndate': 0,\n",
       " 'ne': 1,\n",
       " 'nec': 1,\n",
       " 'ngridpoints': 0,\n",
       " 'ngrids': 0,\n",
       " 'nint': 1,\n",
       " 'nlevel': 0,\n",
       " 'nmon': 0,\n",
       " 'not': 1,\n",
       " 'npar': 0,\n",
       " 'ntime': 0,\n",
       " 'nvar': 0,\n",
       " 'nyear': 0,\n",
       " 'output': 0,\n",
       " 'outputarr': 0,\n",
       " 'outputbounds': 0,\n",
       " 'outputboundscpt': 0,\n",
       " 'outputcenter': 0,\n",
       " 'outputcenter2': 0,\n",
       " 'outputcentercpt': 0,\n",
       " 'outputext': 0,\n",
       " 'outputf': 0,\n",
       " 'outputfld': 0,\n",
       " 'outputint': 0,\n",
       " 'outputkey': 0,\n",
       " 'outputkml': 0,\n",
       " 'outputsrv': 0,\n",
       " 'outputtab': 0,\n",
       " 'outputtri': 0,\n",
       " 'outputts': 0,\n",
       " 'outputvector': 0,\n",
       " 'outputvrml': 0,\n",
       " 'outputxyz': 0,\n",
       " 'pack': 1,\n",
       " 'pardup': 1,\n",
       " 'parmul': 1,\n",
       " 'partab': 0,\n",
       " 'partab2': 0,\n",
       " 'pinfo': 1,\n",
       " 'pinfov': 1,\n",
       " 'pow': 1,\n",
       " 'pressure_fl': 1,\n",
       " 'pressure_hl': 1,\n",
       " 'projuvLatLon': 1,\n",
       " 'rand': 1,\n",
       " 'random': 1,\n",
       " 're': 1,\n",
       " 'reci': 1,\n",
       " 'recttocomplex': 1,\n",
       " 'reducegrid': 1,\n",
       " 'regres': 1,\n",
       " 'remap': 1,\n",
       " 'remapavg': 1,\n",
       " 'remapavgtest': 1,\n",
       " 'remapbic': 1,\n",
       " 'remapbil': 1,\n",
       " 'remapcon': 1,\n",
       " 'remapcon2': 1,\n",
       " 'remapdis': 1,\n",
       " 'remapeta': 1,\n",
       " 'remapeta_s': 1,\n",
       " 'remapeta_z': 1,\n",
       " 'remapkurt': 1,\n",
       " 'remaplaf': 1,\n",
       " 'remapmax': 1,\n",
       " 'remapmean': 1,\n",
       " 'remapmedian': 1,\n",
       " 'remapmin': 1,\n",
       " 'remapnn': 1,\n",
       " 'remaprange': 1,\n",
       " 'remapscon': 1,\n",
       " 'remapskew': 1,\n",
       " 'remapstd': 1,\n",
       " 'remapstd1': 1,\n",
       " 'remapsum': 1,\n",
       " 'remapvar': 1,\n",
       " 'remapvar1': 1,\n",
       " 'remapycon': 1,\n",
       " 'remapycon2test': 1,\n",
       " 'replace': 1,\n",
       " 'retocomplex': 1,\n",
       " 'rhopot': 1,\n",
       " 'rotuvN': 1,\n",
       " 'rotuvNorth': 1,\n",
       " 'rotuvb': 1,\n",
       " 'runavg': 1,\n",
       " 'runmax': 1,\n",
       " 'runmean': 1,\n",
       " 'runmin': 1,\n",
       " 'runpctl': 1,\n",
       " 'runrange': 1,\n",
       " 'runstd': 1,\n",
       " 'runstd1': 1,\n",
       " 'runsum': 1,\n",
       " 'runvar': 1,\n",
       " 'runvar1': 1,\n",
       " 'samplegrid': 1,\n",
       " 'samplegridicon': 2,\n",
       " 'sealevelpressure': 1,\n",
       " 'seasavg': 1,\n",
       " 'seascount': 1,\n",
       " 'seasmax': 1,\n",
       " 'seasmean': 1,\n",
       " 'seasmin': 1,\n",
       " 'seasmonavg': 1,\n",
       " 'seasmonmean': 1,\n",
       " 'seaspctl': 1,\n",
       " 'seasrange': 1,\n",
       " 'seasstd': 1,\n",
       " 'seasstd1': 1,\n",
       " 'seassum': 1,\n",
       " 'seasvar': 1,\n",
       " 'seasvar1': 1,\n",
       " 'seinfo': 0,\n",
       " 'seinfoc': 0,\n",
       " 'seinfon': 0,\n",
       " 'seinfop': 0,\n",
       " 'selall': 1,\n",
       " 'selcircle': 1,\n",
       " 'selcode': 1,\n",
       " 'seldate': 1,\n",
       " 'selday': 1,\n",
       " 'select': 1,\n",
       " 'selgrid': 1,\n",
       " 'selgridcell': 1,\n",
       " 'selgridname': 1,\n",
       " 'selhour': 1,\n",
       " 'selindex': 1,\n",
       " 'selindexbox': 1,\n",
       " 'sellevel': 1,\n",
       " 'sellevidx': 1,\n",
       " 'sellonlatbox': 1,\n",
       " 'selltype': 1,\n",
       " 'selmon': 1,\n",
       " 'selmonth': 1,\n",
       " 'selmulti': 1,\n",
       " 'selname': 1,\n",
       " 'seloperator': 1,\n",
       " 'selparam': 1,\n",
       " 'selrec': 1,\n",
       " 'selseas': 1,\n",
       " 'selseason': 1,\n",
       " 'selsmon': 1,\n",
       " 'selstdname': 1,\n",
       " 'seltabnum': 1,\n",
       " 'seltime': 1,\n",
       " 'seltimeidx': 1,\n",
       " 'seltimestep': 1,\n",
       " 'selvar': 1,\n",
       " 'selyear': 1,\n",
       " 'selyearidx': 1,\n",
       " 'selzaxis': 1,\n",
       " 'selzaxisname': 1,\n",
       " 'seq': 1,\n",
       " 'setattribute': 1,\n",
       " 'setcalendar': 1,\n",
       " 'setcindexbox': 1,\n",
       " 'setclonlatbox': 1,\n",
       " 'setcode': 1,\n",
       " 'setcodetab': 1,\n",
       " 'setctomiss': 1,\n",
       " 'setdate': 1,\n",
       " 'setday': 1,\n",
       " 'setgrid': 1,\n",
       " 'setgridarea': 1,\n",
       " 'setgridcell': 1,\n",
       " 'setgridmask': 1,\n",
       " 'setgridnumber': 1,\n",
       " 'setgridtype': 1,\n",
       " 'setgriduri': 1,\n",
       " 'sethalo': 1,\n",
       " 'setlevel': 1,\n",
       " 'setltype': 1,\n",
       " 'setmiss': 1,\n",
       " 'setmisstoc': 1,\n",
       " 'setmisstodis': 1,\n",
       " 'setmisstonn': 1,\n",
       " 'setmissval': 1,\n",
       " 'setmon': 1,\n",
       " 'setname': 1,\n",
       " 'setparam': 1,\n",
       " 'setpartab': 1,\n",
       " 'setpartabc': 1,\n",
       " 'setpartabn': 1,\n",
       " 'setpartabp': 1,\n",
       " 'setpartabv': 1,\n",
       " 'setprojparams': 1,\n",
       " 'setrcaname': 1,\n",
       " 'setreftime': 1,\n",
       " 'setrtoc': 1,\n",
       " 'setrtoc2': 1,\n",
       " 'setrtomiss': 1,\n",
       " 'settabnum': 1,\n",
       " 'settaxis': 1,\n",
       " 'settbounds': 1,\n",
       " 'settime': 1,\n",
       " 'settunits': 1,\n",
       " 'setunit': 1,\n",
       " 'setvals': 1,\n",
       " 'setvar': 1,\n",
       " 'setvrange': 1,\n",
       " 'setyear': 1,\n",
       " 'setzaxis': 1,\n",
       " 'shaded': 1,\n",
       " 'shifttime': 1,\n",
       " 'shiftx': 1,\n",
       " 'shifty': 1,\n",
       " 'showattribute': 0,\n",
       " 'showatts': 0,\n",
       " 'showattsglob': 0,\n",
       " 'showattsvar': 0,\n",
       " 'showcode': 0,\n",
       " 'showdate': 0,\n",
       " 'showformat': 0,\n",
       " 'showgrid': 0,\n",
       " 'showlevel': 0,\n",
       " 'showltype': 0,\n",
       " 'showmon': 0,\n",
       " 'showname': 0,\n",
       " 'showparam': 0,\n",
       " 'showstdname': 0,\n",
       " 'showtime': 0,\n",
       " 'showtimestamp': 0,\n",
       " 'showunit': 0,\n",
       " 'showvar': 0,\n",
       " 'showyear': 0,\n",
       " 'sin': 1,\n",
       " 'sincos': 1,\n",
       " 'sinfo': 0,\n",
       " 'sinfoc': 0,\n",
       " 'sinfon': 0,\n",
       " 'sinfop': 0,\n",
       " 'sinfov': 0,\n",
       " 'smooth': 1,\n",
       " 'smooth9': 1,\n",
       " 'sort': 1,\n",
       " 'sortcode': 1,\n",
       " 'sortlevel': 1,\n",
       " 'sortname': 1,\n",
       " 'sortparam': 1,\n",
       " 'sorttaxis': 1,\n",
       " 'sorttimestamp': 1,\n",
       " 'sortvar': 1,\n",
       " 'sp2fc': 1,\n",
       " 'sp2gp': 1,\n",
       " 'sp2gpl': 1,\n",
       " 'sp2sp': 1,\n",
       " 'spartab': 0,\n",
       " 'spcut': 1,\n",
       " 'specinfo': 0,\n",
       " 'spectrum': 1,\n",
       " 'splitcode': -1,\n",
       " 'splitday': -1,\n",
       " 'splitgrid': -1,\n",
       " 'splithour': -1,\n",
       " 'splitlevel': -1,\n",
       " 'splitmon': -1,\n",
       " 'splitname': -1,\n",
       " 'splitparam': -1,\n",
       " 'splitrec': -1,\n",
       " 'splitseas': -1,\n",
       " 'splitsel': -1,\n",
       " 'splittabnum': -1,\n",
       " 'splitvar': -1,\n",
       " 'splityear': -1,\n",
       " 'splityearmon': -1,\n",
       " 'splitzaxis': -1,\n",
       " 'sqr': 1,\n",
       " 'sqrt': 1,\n",
       " 'stdatm': 1,\n",
       " 'strbre': 1,\n",
       " 'strgal': 1,\n",
       " 'strwin': 1,\n",
       " 'sub': 1,\n",
       " 'subc': 1,\n",
       " 'subgrid': 1,\n",
       " 'subtrend': 1,\n",
       " 'szip': 1,\n",
       " 'tan': 1,\n",
       " 'tee': 1,\n",
       " 'temp': 1,\n",
       " 'testcellsearch': 0,\n",
       " 'testfield': 1,\n",
       " 'testpointsearch': 0,\n",
       " 'thinout': 1,\n",
       " 'timavg': 1,\n",
       " 'timcor': 1,\n",
       " 'timcount': 1,\n",
       " 'timcovar': 1,\n",
       " 'timcumsum': 1,\n",
       " 'timederivative': 1,\n",
       " 'timmax': 1,\n",
       " 'timmaxidx': 1,\n",
       " 'timmean': 1,\n",
       " 'timmin': 1,\n",
       " 'timminidx': 1,\n",
       " 'timpctl': 1,\n",
       " 'timrange': 1,\n",
       " 'timrmsd': 1,\n",
       " 'timselavg': 1,\n",
       " 'timselmax': 1,\n",
       " 'timselmean': 1,\n",
       " 'timselmin': 1,\n",
       " 'timselpctl': 1,\n",
       " 'timselrange': 1,\n",
       " 'timselstd': 1,\n",
       " 'timselstd1': 1,\n",
       " 'timselsum': 1,\n",
       " 'timselvar': 1,\n",
       " 'timselvar1': 1,\n",
       " 'timsort': 1,\n",
       " 'timstd': 1,\n",
       " 'timstd1': 1,\n",
       " 'timsum': 1,\n",
       " 'timvar': 1,\n",
       " 'timvar1': 1,\n",
       " 'tinfo': 0,\n",
       " 'topo': 1,\n",
       " 'topvalue': 1,\n",
       " 'tpnhalo': 1,\n",
       " 'transxy': 1,\n",
       " 'trend': 2,\n",
       " 'tstepcount': 1,\n",
       " 'unpack': 1,\n",
       " 'unsetgridmask': 1,\n",
       " 'usegridnumber': 1,\n",
       " 'uv2dv': 1,\n",
       " 'uv2dv_cfd': 1,\n",
       " 'uv2dvl': 1,\n",
       " 'uv2vr_cfd': 1,\n",
       " 'uvDestag': 1,\n",
       " 'vardes': 0,\n",
       " 'varquot2test': 1,\n",
       " 'varrms': 1,\n",
       " 'varsavg': 1,\n",
       " 'varsmax': 1,\n",
       " 'varsmean': 1,\n",
       " 'varsmin': 1,\n",
       " 'varsrange': 1,\n",
       " 'varsstd': 1,\n",
       " 'varsstd1': 1,\n",
       " 'varssum': 1,\n",
       " 'varsvar': 1,\n",
       " 'varsvar1': 1,\n",
       " 'vct': 0,\n",
       " 'vct2': 0,\n",
       " 'vector': 1,\n",
       " 'verifygrid': 0,\n",
       " 'verifyweights': 0,\n",
       " 'vertavg': 1,\n",
       " 'vertcum': 1,\n",
       " 'vertcumhl': 1,\n",
       " 'vertint': 1,\n",
       " 'vertmax': 1,\n",
       " 'vertmean': 1,\n",
       " 'vertmin': 1,\n",
       " 'vertrange': 1,\n",
       " 'vertstd': 1,\n",
       " 'vertstd1': 1,\n",
       " 'vertsum': 1,\n",
       " 'vertvar': 1,\n",
       " 'vertvar1': 1,\n",
       " 'vertwind': 1,\n",
       " 'vinfon': 0,\n",
       " 'vlist': 0,\n",
       " 'wct': 1,\n",
       " 'writegrid': 1,\n",
       " 'writerandom': 1,\n",
       " 'writeremapscrip': 0,\n",
       " 'xinfon': 0,\n",
       " 'xsinfo': 0,\n",
       " 'xsinfoc': 0,\n",
       " 'xsinfon': 0,\n",
       " 'xsinfop': 0,\n",
       " 'ydayadd': 1,\n",
       " 'ydayavg': 1,\n",
       " 'ydaydiv': 1,\n",
       " 'ydaymax': 1,\n",
       " 'ydaymean': 1,\n",
       " 'ydaymin': 1,\n",
       " 'ydaymul': 1,\n",
       " 'ydaypctl': 1,\n",
       " 'ydayrange': 1,\n",
       " 'ydaystd': 1,\n",
       " 'ydaystd1': 1,\n",
       " 'ydaysub': 1,\n",
       " 'ydaysum': 1,\n",
       " 'ydayvar': 1,\n",
       " 'ydayvar1': 1,\n",
       " 'ydrunavg': 1,\n",
       " 'ydrunmax': 1,\n",
       " 'ydrunmean': 1,\n",
       " 'ydrunmin': 1,\n",
       " 'ydrunpctl': 1,\n",
       " 'ydrunstd': 1,\n",
       " 'ydrunstd1': 1,\n",
       " 'ydrunsum': 1,\n",
       " 'ydrunvar': 1,\n",
       " 'ydrunvar1': 1,\n",
       " 'yearadd': 1,\n",
       " 'yearavg': 1,\n",
       " 'yearcount': 1,\n",
       " 'yeardiv': 1,\n",
       " 'yearmax': 1,\n",
       " 'yearmaxidx': 1,\n",
       " 'yearmean': 1,\n",
       " 'yearmin': 1,\n",
       " 'yearminidx': 1,\n",
       " 'yearmonavg': 1,\n",
       " 'yearmonmean': 1,\n",
       " 'yearmul': 1,\n",
       " 'yearpctl': 1,\n",
       " 'yearrange': 1,\n",
       " 'yearstd': 1,\n",
       " 'yearstd1': 1,\n",
       " 'yearsub': 1,\n",
       " 'yearsum': 1,\n",
       " 'yearvar': 1,\n",
       " 'yearvar1': 1,\n",
       " 'yhouradd': 1,\n",
       " 'yhouravg': 1,\n",
       " 'yhourdiv': 1,\n",
       " 'yhourmax': 1,\n",
       " 'yhourmean': 1,\n",
       " 'yhourmin': 1,\n",
       " 'yhourmul': 1,\n",
       " 'yhourrange': 1,\n",
       " 'yhourstd': 1,\n",
       " 'yhourstd1': 1,\n",
       " 'yhoursub': 1,\n",
       " 'yhoursum': 1,\n",
       " 'yhourvar': 1,\n",
       " 'yhourvar1': 1,\n",
       " 'ymonadd': 1,\n",
       " 'ymonavg': 1,\n",
       " 'ymondiv': 1,\n",
       " 'ymonmax': 1,\n",
       " 'ymonmean': 1,\n",
       " 'ymonmin': 1,\n",
       " 'ymonmul': 1,\n",
       " 'ymonpctl': 1,\n",
       " 'ymonrange': 1,\n",
       " 'ymonstd': 1,\n",
       " 'ymonstd1': 1,\n",
       " 'ymonsub': 1,\n",
       " 'ymonsum': 1,\n",
       " 'ymonvar': 1,\n",
       " 'ymonvar1': 1,\n",
       " 'yseasadd': 1,\n",
       " 'yseasavg': 1,\n",
       " 'yseasdiv': 1,\n",
       " 'yseasmax': 1,\n",
       " 'yseasmean': 1,\n",
       " 'yseasmin': 1,\n",
       " 'yseasmul': 1,\n",
       " 'yseaspctl': 1,\n",
       " 'yseasrange': 1,\n",
       " 'yseasstd': 1,\n",
       " 'yseasstd1': 1,\n",
       " 'yseassub': 1,\n",
       " 'yseassum': 1,\n",
       " 'yseasvar': 1,\n",
       " 'yseasvar1': 1,\n",
       " 'zaxisdes': 0,\n",
       " 'zonavg': 1,\n",
       " 'zonkurt': 1,\n",
       " 'zonmax': 1,\n",
       " 'zonmean': 1,\n",
       " 'zonmedian': 1,\n",
       " 'zonmin': 1,\n",
       " 'zonpctl': 1,\n",
       " 'zonrange': 1,\n",
       " 'zonskew': 1,\n",
       " 'zonstd': 1,\n",
       " 'zonstd1': 1,\n",
       " 'zonsum': 1,\n",
       " 'zonvar': 1,\n",
       " 'zonvar1': 1,\n",
       " 'zs2zl': 1,\n",
       " 'zs2zlx': 1,\n",
       " 'zsdepth': 1}"
      ]
     },
     "execution_count": 5,
     "metadata": {},
     "output_type": "execute_result"
    }
   ],
   "source": [
    "# list of operators\n",
    "cdo.operators"
   ]
  },
  {
   "cell_type": "code",
   "execution_count": null,
   "metadata": {},
   "outputs": [],
   "source": [
    "# get the number of existing operators of CDO"
   ]
  },
  {
   "cell_type": "markdown",
   "metadata": {},
   "source": [
    "**Excercise** To get the first 50 operators you can do what?"
   ]
  },
  {
   "cell_type": "code",
   "execution_count": null,
   "metadata": {},
   "outputs": [],
   "source": []
  },
  {
   "cell_type": "markdown",
   "metadata": {},
   "source": [
    "<br>\n",
    "\n",
    "## List all operators starting with 'sel'\n",
    "\n",
    "Use list comprehension\n"
   ]
  },
  {
   "cell_type": "code",
   "execution_count": 10,
   "metadata": {},
   "outputs": [
    {
     "data": {
      "text/plain": [
       "['selall',\n",
       " 'selcircle',\n",
       " 'selcode',\n",
       " 'seldate',\n",
       " 'selday',\n",
       " 'select',\n",
       " 'selgrid',\n",
       " 'selgridcell',\n",
       " 'selgridname',\n",
       " 'selhour',\n",
       " 'selindex',\n",
       " 'selindexbox',\n",
       " 'sellevel',\n",
       " 'sellevidx',\n",
       " 'sellonlatbox',\n",
       " 'selltype',\n",
       " 'selmon',\n",
       " 'selmonth',\n",
       " 'selmulti',\n",
       " 'selname',\n",
       " 'seloperator',\n",
       " 'selparam',\n",
       " 'selrec',\n",
       " 'selseas',\n",
       " 'selseason',\n",
       " 'selsmon',\n",
       " 'selstdname',\n",
       " 'seltabnum',\n",
       " 'seltime',\n",
       " 'seltimeidx',\n",
       " 'seltimestep',\n",
       " 'selvar',\n",
       " 'selyear',\n",
       " 'selyearidx',\n",
       " 'selzaxis',\n",
       " 'selzaxisname']"
      ]
     },
     "execution_count": 10,
     "metadata": {},
     "output_type": "execute_result"
    }
   ],
   "source": [
    "[key for key, value in cdo.operators.items() if key.startswith('sel')]"
   ]
  },
  {
   "cell_type": "markdown",
   "metadata": {},
   "source": [
    "## Turn debugging on/off\n",
    "\n",
    "Use the debug method of CDO to turn on or off debugging.\n"
   ]
  },
  {
   "cell_type": "code",
   "execution_count": null,
   "metadata": {},
   "outputs": [],
   "source": [
    "cdo.debug = True\n",
    "\n",
    "cdo.debug = False"
   ]
  },
  {
   "cell_type": "markdown",
   "metadata": {},
   "source": [
    "<br>\n",
    "\n",
    "## Show information about file content\n"
   ]
  },
  {
   "cell_type": "code",
   "execution_count": 2,
   "metadata": {},
   "outputs": [
    {
     "name": "stdout",
     "output_type": "stream",
     "text": [
      "/home/k/k202015/summer-school-2022/notebooks/files_and_tools\n"
     ]
    }
   ],
   "source": [
    "!pwd"
   ]
  },
  {
   "cell_type": "code",
   "execution_count": 3,
   "metadata": {},
   "outputs": [
    {
     "data": {
      "text/plain": [
       "['File format : NetCDF',\n",
       " '-1 : Institut Source   T Steptype Levels Num    Points Num Dtype : Parameter name',\n",
       " '1 : unknown  unknown  v instant       1   1     18432   1  F32  : tsurf',\n",
       " '2 : unknown  unknown  v instant       1   1     18432   1  F32  : precip',\n",
       " '3 : unknown  unknown  v instant       1   1     18432   1  F32  : u10',\n",
       " '4 : unknown  unknown  v instant       1   1     18432   1  F32  : v10',\n",
       " '5 : unknown  unknown  v instant       1   1     18432   1  F32  : qvi',\n",
       " '6 : unknown  unknown  v instant       1   1     18432   1  F32  : slp',\n",
       " 'Grid coordinates :',\n",
       " '1 : gaussian                 : points=18432 (192x96)',\n",
       " 'lon : -180 to 178.125 by 1.875 degrees_east  circular',\n",
       " 'lat : 88.57217 to -88.57217 degrees_north',\n",
       " 'Vertical coordinates :',\n",
       " '1 : surface                  : levels=1',\n",
       " 'Time coordinate :',\n",
       " 'time : 40 steps',\n",
       " 'RefTime =  2001-01-01 00:00:00  Units = hours  Calendar = standard',\n",
       " 'YYYY-MM-DD hh:mm:ss  YYYY-MM-DD hh:mm:ss  YYYY-MM-DD hh:mm:ss  YYYY-MM-DD hh:mm:ss',\n",
       " '2001-01-01 00:00:00  2001-01-01 06:00:00  2001-01-01 12:00:00  2001-01-01 18:00:00',\n",
       " '2001-01-02 00:00:00  2001-01-02 06:00:00  2001-01-02 12:00:00  2001-01-02 18:00:00',\n",
       " '2001-01-03 00:00:00  2001-01-03 06:00:00  2001-01-03 12:00:00  2001-01-03 18:00:00',\n",
       " '2001-01-04 00:00:00  2001-01-04 06:00:00  2001-01-04 12:00:00  2001-01-04 18:00:00',\n",
       " '2001-01-05 00:00:00  2001-01-05 06:00:00  2001-01-05 12:00:00  2001-01-05 18:00:00',\n",
       " '2001-01-06 00:00:00  2001-01-06 06:00:00  2001-01-06 12:00:00  2001-01-06 18:00:00',\n",
       " '2001-01-07 00:00:00  2001-01-07 06:00:00  2001-01-07 12:00:00  2001-01-07 18:00:00',\n",
       " '2001-01-08 00:00:00  2001-01-08 06:00:00  2001-01-08 12:00:00  2001-01-08 18:00:00',\n",
       " '2001-01-09 00:00:00  2001-01-09 06:00:00  2001-01-09 12:00:00  2001-01-09 18:00:00',\n",
       " '2001-01-10 00:00:00  2001-01-10 06:00:00  2001-01-10 12:00:00  2001-01-10 18:00:00']"
      ]
     },
     "execution_count": 3,
     "metadata": {},
     "output_type": "execute_result"
    }
   ],
   "source": [
    "cdo.sinfon(input='../../data/rectilinear_grid_2D.nc')"
   ]
  },
  {
   "cell_type": "markdown",
   "metadata": {},
   "source": [
    "<br>\n",
    "\n",
    "## Display information about the file content\n"
   ]
  },
  {
   "cell_type": "code",
   "execution_count": null,
   "metadata": {},
   "outputs": [],
   "source": [
    "infile = '../data/rectilinear_grid_2D.nc'\n",
    "\n",
    "#cdo.sinfon(input=infile)"
   ]
  },
  {
   "cell_type": "markdown",
   "metadata": {},
   "source": [
    "In comparison to xarray's dataset information."
   ]
  },
  {
   "cell_type": "code",
   "execution_count": 5,
   "metadata": {},
   "outputs": [
    {
     "name": "stdout",
     "output_type": "stream",
     "text": [
      "xarray.Dataset {\n",
      "dimensions:\n",
      "\tlon = 192 ;\n",
      "\tlat = 96 ;\n",
      "\ttime = 40 ;\n",
      "\n",
      "variables:\n",
      "\tfloat64 lon(lon) ;\n",
      "\t\tlon:standard_name = longitude ;\n",
      "\t\tlon:long_name = longitude ;\n",
      "\t\tlon:units = degrees_east ;\n",
      "\t\tlon:axis = X ;\n",
      "\tfloat64 lat(lat) ;\n",
      "\t\tlat:standard_name = latitude ;\n",
      "\t\tlat:long_name = latitude ;\n",
      "\t\tlat:units = degrees_north ;\n",
      "\t\tlat:axis = Y ;\n",
      "\tdatetime64[ns] time(time) ;\n",
      "\t\ttime:standard_name = time ;\n",
      "\tfloat32 tsurf(time, lat, lon) ;\n",
      "\t\ttsurf:long_name = surface temperature ;\n",
      "\t\ttsurf:units = K ;\n",
      "\t\ttsurf:code = 169 ;\n",
      "\t\ttsurf:table = 128 ;\n",
      "\t\ttsurf:grid_type = gaussian ;\n",
      "\tfloat32 precip(time, lat, lon) ;\n",
      "\t\tprecip:long_name = total precipitation ;\n",
      "\t\tprecip:units = kg/m^2s ;\n",
      "\t\tprecip:code = 4 ;\n",
      "\t\tprecip:table = 128 ;\n",
      "\t\tprecip:grid_type = gaussian ;\n",
      "\tfloat32 u10(time, lat, lon) ;\n",
      "\t\tu10:long_name = 10m u-velocity ;\n",
      "\t\tu10:units = m/s ;\n",
      "\t\tu10:code = 165 ;\n",
      "\t\tu10:table = 128 ;\n",
      "\t\tu10:grid_type = gaussian ;\n",
      "\tfloat32 v10(time, lat, lon) ;\n",
      "\t\tv10:long_name = 10m v-velocity ;\n",
      "\t\tv10:units = m/s ;\n",
      "\t\tv10:code = 166 ;\n",
      "\t\tv10:table = 128 ;\n",
      "\t\tv10:grid_type = gaussian ;\n",
      "\tfloat32 qvi(time, lat, lon) ;\n",
      "\t\tqvi:long_name = vertically integrated water vapor ;\n",
      "\t\tqvi:units = kg/m^2 ;\n",
      "\t\tqvi:code = 230 ;\n",
      "\t\tqvi:table = 128 ;\n",
      "\t\tqvi:grid_type = gaussian ;\n",
      "\tfloat32 slp(time, lat, lon) ;\n",
      "\t\tslp:long_name = mean sea level pressure ;\n",
      "\t\tslp:units = Pa ;\n",
      "\t\tslp:code = 151 ;\n",
      "\t\tslp:table = 128 ;\n",
      "\t\tslp:grid_type = gaussian ;\n",
      "\n",
      "// global attributes:\n",
      "}None\n"
     ]
    }
   ],
   "source": [
    "import xarray as xr\n",
    "\n",
    "ds = xr.open_dataset('../../data/rectilinear_grid_2D.nc')\n",
    "\n",
    "print(ds.info())"
   ]
  },
  {
   "cell_type": "markdown",
   "metadata": {},
   "source": [
    "<br>\n",
    "\n",
    "## Show information about the variables value range, times, levels in more detail"
   ]
  },
  {
   "cell_type": "code",
   "execution_count": 6,
   "metadata": {},
   "outputs": [
    {
     "data": {
      "text/plain": [
       "['-1 :       Date     Time   Level Gridsize    Miss :     Minimum        Mean     Maximum : Parameter name',\n",
       " '1 : 2001-01-01 00:00:00       0    18432       0 :      221.79      276.76      313.94 : tsurf',\n",
       " '2 : 2001-01-01 00:00:00       0    18432       0 :  1.4714e-18  2.7047e-05  0.00098652 : precip',\n",
       " '3 : 2001-01-01 00:00:00       0    18432       0 :     -21.745    -0.19579      26.105 : u10',\n",
       " '4 : 2001-01-01 00:00:00       0    18432       0 :     -25.935    -0.23724      24.625 : v10',\n",
       " '5 : 2001-01-01 00:00:00       0    18432       0 :     0.32495      17.897      66.040 : qvi',\n",
       " '6 : 2001-01-01 00:00:00       0    18432       0 :      96715.  1.0094e+05  1.0536e+05 : slp',\n",
       " '7 : 2001-01-01 06:00:00       0    18432       0 :      221.39      276.85      318.76 : tsurf',\n",
       " '8 : 2001-01-01 06:00:00       0    18432       0 :  1.5052e-18  2.7256e-05   0.0012521 : precip',\n",
       " '9 : 2001-01-01 06:00:00       0    18432       0 :     -21.440   -0.062360      26.679 : u10',\n",
       " '10 : 2001-01-01 06:00:00       0    18432       0 :     -24.305    -0.16694      25.285 : v10',\n",
       " '11 : 2001-01-01 06:00:00       0    18432       0 :     0.31753      17.919      66.581 : qvi',\n",
       " '12 : 2001-01-01 06:00:00       0    18432       0 :      96376.  1.0090e+05  1.0544e+05 : slp',\n",
       " '13 : 2001-01-01 12:00:00       0    18432       0 :      221.05      277.40      316.58 : tsurf',\n",
       " '14 : 2001-01-01 12:00:00       0    18432       0 :  1.5234e-18  2.8733e-05   0.0010871 : precip',\n",
       " '15 : 2001-01-01 12:00:00       0    18432       0 :     -23.603    0.068302      26.566 : u10',\n",
       " '16 : 2001-01-01 12:00:00       0    18432       0 :     -23.059   -0.082429      25.905 : v10',\n",
       " '17 : 2001-01-01 12:00:00       0    18432       0 :     0.31514      17.939      69.633 : qvi',\n",
       " '18 : 2001-01-01 12:00:00       0    18432       0 :      96061.  1.0088e+05  1.0538e+05 : slp',\n",
       " '19 : 2001-01-01 18:00:00       0    18432       0 :      220.71      277.41      312.46 : tsurf',\n",
       " '20 : 2001-01-01 18:00:00       0    18432       0 :  1.5158e-18  2.9737e-05   0.0011589 : precip',\n",
       " '21 : 2001-01-01 18:00:00       0    18432       0 :     -23.862     0.18145      26.574 : u10',\n",
       " '22 : 2001-01-01 18:00:00       0    18432       0 :     -23.325   -0.030930      23.925 : v10',\n",
       " '23 : 2001-01-01 18:00:00       0    18432       0 :     0.31533      17.945      68.102 : qvi',\n",
       " '24 : 2001-01-01 18:00:00       0    18432       0 :      95853.  1.0086e+05  1.0553e+05 : slp',\n",
       " '25 : 2001-01-02 00:00:00       0    18432       0 :      220.74      277.11      312.53 : tsurf',\n",
       " '26 : 2001-01-02 00:00:00       0    18432       0 :  1.6393e-18  2.8701e-05   0.0013230 : precip',\n",
       " '27 : 2001-01-02 00:00:00       0    18432       0 :     -24.517     0.18397      24.502 : u10',\n",
       " '28 : 2001-01-02 00:00:00       0    18432       0 :     -22.741   -0.034993      23.521 : v10',\n",
       " '29 : 2001-01-02 00:00:00       0    18432       0 :     0.30647      17.919      68.467 : qvi',\n",
       " '30 : 2001-01-02 00:00:00       0    18432       0 :      95813.  1.0086e+05  1.0564e+05 : slp',\n",
       " '31 : 2001-01-02 06:00:00       0    18432       0 :      221.42      277.03      318.46 : tsurf',\n",
       " '32 : 2001-01-02 06:00:00       0    18432       0 :  1.5358e-18  2.7611e-05   0.0011396 : precip',\n",
       " '33 : 2001-01-02 06:00:00       0    18432       0 :     -25.338     0.14215      22.303 : u10',\n",
       " '34 : 2001-01-02 06:00:00       0    18432       0 :     -22.122    -0.11770      21.961 : v10',\n",
       " '35 : 2001-01-02 06:00:00       0    18432       0 :     0.29315      17.871      69.653 : qvi',\n",
       " '36 : 2001-01-02 06:00:00       0    18432       0 :      95822.  1.0085e+05  1.0595e+05 : slp',\n",
       " '37 : 2001-01-02 12:00:00       0    18432       0 :      222.06      277.35      316.96 : tsurf',\n",
       " '38 : 2001-01-02 12:00:00       0    18432       0 :  1.5499e-18  2.7573e-05   0.0013801 : precip',\n",
       " '39 : 2001-01-02 12:00:00       0    18432       0 :     -25.674    0.053441      21.922 : u10',\n",
       " '40 : 2001-01-02 12:00:00       0    18432       0 :     -20.965    -0.13196      20.839 : v10',\n",
       " '41 : 2001-01-02 12:00:00       0    18432       0 :     0.28635      17.843      70.808 : qvi',\n",
       " '42 : 2001-01-02 12:00:00       0    18432       0 :      95954.  1.0086e+05  1.0578e+05 : slp',\n",
       " '43 : 2001-01-02 18:00:00       0    18432       0 :      223.14      277.20      313.22 : tsurf',\n",
       " '44 : 2001-01-02 18:00:00       0    18432       0 :  1.7853e-18  2.7119e-05   0.0014641 : precip',\n",
       " '45 : 2001-01-02 18:00:00       0    18432       0 :     -24.807    0.031788      24.348 : u10',\n",
       " '46 : 2001-01-02 18:00:00       0    18432       0 :     -20.576    -0.13089      21.205 : v10',\n",
       " '47 : 2001-01-02 18:00:00       0    18432       0 :     0.28273      17.843      70.509 : qvi',\n",
       " '48 : 2001-01-02 18:00:00       0    18432       0 :      95970.  1.0088e+05  1.0559e+05 : slp',\n",
       " '49 : 2001-01-03 00:00:00       0    18432       0 :      223.49      276.79      310.81 : tsurf',\n",
       " '50 : 2001-01-03 00:00:00       0    18432       0 :  1.6379e-18  2.6688e-05   0.0015447 : precip',\n",
       " '51 : 2001-01-03 00:00:00       0    18432       0 :     -24.009    0.037278      22.986 : u10',\n",
       " '52 : 2001-01-03 00:00:00       0    18432       0 :     -25.509    -0.14792      20.085 : v10',\n",
       " '53 : 2001-01-03 00:00:00       0    18432       0 :     0.27829      17.848      69.728 : qvi',\n",
       " '54 : 2001-01-03 00:00:00       0    18432       0 :      95560.  1.0091e+05  1.0526e+05 : slp',\n",
       " '55 : 2001-01-03 06:00:00       0    18432       0 :      223.22      276.69      316.33 : tsurf',\n",
       " '56 : 2001-01-03 06:00:00       0    18432       0 :  1.7539e-18  2.6560e-05   0.0016081 : precip',\n",
       " '57 : 2001-01-03 06:00:00       0    18432       0 :     -21.388    0.032984      27.909 : u10',\n",
       " '58 : 2001-01-03 06:00:00       0    18432       0 :     -24.129    -0.16281      19.928 : v10',\n",
       " '59 : 2001-01-03 06:00:00       0    18432       0 :     0.27522      17.839      70.994 : qvi',\n",
       " '60 : 2001-01-03 06:00:00       0    18432       0 :      95103.  1.0092e+05  1.0520e+05 : slp',\n",
       " '61 : 2001-01-03 12:00:00       0    18432       0 :      222.96      277.06      317.07 : tsurf',\n",
       " '62 : 2001-01-03 12:00:00       0    18432       0 :  1.7206e-18  2.6935e-05   0.0017018 : precip',\n",
       " '63 : 2001-01-03 12:00:00       0    18432       0 :     -23.429    0.036175      24.439 : u10',\n",
       " '64 : 2001-01-03 12:00:00       0    18432       0 :     -25.055    -0.14070      20.751 : v10',\n",
       " '65 : 2001-01-03 12:00:00       0    18432       0 :     0.27874      17.849      72.128 : qvi',\n",
       " '66 : 2001-01-03 12:00:00       0    18432       0 :      95274.  1.0094e+05  1.0514e+05 : slp',\n",
       " '67 : 2001-01-03 18:00:00       0    18432       0 :      222.34      276.95      311.55 : tsurf',\n",
       " '68 : 2001-01-03 18:00:00       0    18432       0 :  1.7123e-18  2.7693e-05   0.0018699 : precip',\n",
       " '69 : 2001-01-03 18:00:00       0    18432       0 :     -22.834    0.071758      24.510 : u10',\n",
       " '70 : 2001-01-03 18:00:00       0    18432       0 :     -21.271    -0.11462      20.692 : v10',\n",
       " '71 : 2001-01-03 18:00:00       0    18432       0 :     0.28618      17.869      72.069 : qvi',\n",
       " '72 : 2001-01-03 18:00:00       0    18432       0 :      95430.  1.0097e+05  1.0515e+05 : slp',\n",
       " '73 : 2001-01-04 00:00:00       0    18432       0 :      223.50      276.58      310.99 : tsurf',\n",
       " '74 : 2001-01-04 00:00:00       0    18432       0 :  1.5732e-18  2.7074e-05   0.0016856 : precip',\n",
       " '75 : 2001-01-04 00:00:00       0    18432       0 :     -23.263    0.088161      24.637 : u10',\n",
       " '76 : 2001-01-04 00:00:00       0    18432       0 :     -18.849   -0.088080      20.896 : v10',\n",
       " '77 : 2001-01-04 00:00:00       0    18432       0 :     0.28687      17.886      72.760 : qvi',\n",
       " '78 : 2001-01-04 00:00:00       0    18432       0 :      95742.  1.0099e+05  1.0522e+05 : slp',\n",
       " '79 : 2001-01-04 06:00:00       0    18432       0 :      224.83      276.52      318.19 : tsurf',\n",
       " '80 : 2001-01-04 06:00:00       0    18432       0 :  1.5704e-18  2.6966e-05   0.0011746 : precip',\n",
       " '81 : 2001-01-04 06:00:00       0    18432       0 :     -23.879    0.086436      23.237 : u10',\n",
       " '82 : 2001-01-04 06:00:00       0    18432       0 :     -25.157   -0.086377      20.945 : v10',\n",
       " '83 : 2001-01-04 06:00:00       0    18432       0 :     0.26318      17.875      72.546 : qvi',\n",
       " '84 : 2001-01-04 06:00:00       0    18432       0 :      95993.  1.0100e+05  1.0531e+05 : slp',\n",
       " '85 : 2001-01-04 12:00:00       0    18432       0 :      225.30      276.95      316.15 : tsurf',\n",
       " '86 : 2001-01-04 12:00:00       0    18432       0 :  1.5218e-18  2.7277e-05   0.0012928 : precip',\n",
       " '87 : 2001-01-04 12:00:00       0    18432       0 :     -20.982    0.081775      23.332 : u10',\n",
       " '88 : 2001-01-04 12:00:00       0    18432       0 :     -25.479   -0.047348      23.695 : v10',\n",
       " '89 : 2001-01-04 12:00:00       0    18432       0 :     0.28994      17.883      74.286 : qvi',\n",
       " '90 : 2001-01-04 12:00:00       0    18432       0 :      96303.  1.0100e+05  1.0515e+05 : slp',\n",
       " '91 : 2001-01-04 18:00:00       0    18432       0 :      224.38      276.90      312.79 : tsurf',\n",
       " '92 : 2001-01-04 18:00:00       0    18432       0 :  1.5463e-18  2.6541e-05   0.0010982 : precip',\n",
       " '93 : 2001-01-04 18:00:00       0    18432       0 :     -22.321     0.12803      23.318 : u10',\n",
       " '94 : 2001-01-04 18:00:00       0    18432       0 :     -22.915   -0.052900      23.523 : v10',\n",
       " '95 : 2001-01-04 18:00:00       0    18432       0 :     0.29024      17.912      73.722 : qvi',\n",
       " '96 : 2001-01-04 18:00:00       0    18432       0 :      96389.  1.0101e+05  1.0523e+05 : slp',\n",
       " '97 : 2001-01-05 00:00:00       0    18432       0 :      223.51      276.60      311.57 : tsurf',\n",
       " '98 : 2001-01-05 00:00:00       0    18432       0 :  1.5662e-18  2.5348e-05   0.0012362 : precip',\n",
       " '99 : 2001-01-05 00:00:00       0    18432       0 :     -21.590     0.12967      22.844 : u10',\n",
       " '100 : 2001-01-05 00:00:00       0    18432       0 :     -21.705   -0.080258      21.436 : v10',\n",
       " '101 : 2001-01-05 00:00:00       0    18432       0 :     0.24257      17.954      72.616 : qvi',\n",
       " '102 : 2001-01-05 00:00:00       0    18432       0 :      96468.  1.0101e+05  1.0491e+05 : slp',\n",
       " '103 : 2001-01-05 06:00:00       0    18432       0 :      223.22      276.54      318.78 : tsurf',\n",
       " '104 : 2001-01-05 06:00:00       0    18432       0 :  1.5406e-18  2.5937e-05  0.00096740 : precip',\n",
       " '105 : 2001-01-05 06:00:00       0    18432       0 :     -19.067     0.14783      21.855 : u10',\n",
       " '106 : 2001-01-05 06:00:00       0    18432       0 :     -20.435   -0.099114      21.029 : v10',\n",
       " '107 : 2001-01-05 06:00:00       0    18432       0 :     0.28417      17.973      71.858 : qvi',\n",
       " '108 : 2001-01-05 06:00:00       0    18432       0 :      95955.  1.0099e+05  1.0475e+05 : slp',\n",
       " '109 : 2001-01-05 12:00:00       0    18432       0 :      223.45      276.98      314.69 : tsurf',\n",
       " '110 : 2001-01-05 12:00:00       0    18432       0 :  1.4712e-18  2.6988e-05  0.00095891 : precip',\n",
       " '111 : 2001-01-05 12:00:00       0    18432       0 :     -20.410     0.17618      23.429 : u10',\n",
       " '112 : 2001-01-05 12:00:00       0    18432       0 :     -20.179   -0.071380      23.752 : v10',\n",
       " '113 : 2001-01-05 12:00:00       0    18432       0 :     0.28158      17.987      72.715 : qvi',\n",
       " '114 : 2001-01-05 12:00:00       0    18432       0 :      95535.  1.0098e+05  1.0462e+05 : slp',\n",
       " '115 : 2001-01-05 18:00:00       0    18432       0 :      223.24      277.00      314.05 : tsurf',\n",
       " '116 : 2001-01-05 18:00:00       0    18432       0 :  1.4956e-18  2.8155e-05   0.0016925 : precip',\n",
       " '117 : 2001-01-05 18:00:00       0    18432       0 :     -24.969     0.24744      23.549 : u10',\n",
       " '118 : 2001-01-05 18:00:00       0    18432       0 :     -22.476   -0.066732      24.196 : v10',\n",
       " '119 : 2001-01-05 18:00:00       0    18432       0 :     0.28300      18.007      72.150 : qvi',\n",
       " '120 : 2001-01-05 18:00:00       0    18432       0 :      95390.  1.0098e+05  1.0459e+05 : slp',\n",
       " '121 : 2001-01-06 00:00:00       0    18432       0 :      224.53      276.76      311.02 : tsurf',\n",
       " '122 : 2001-01-06 00:00:00       0    18432       0 :  1.4768e-18  2.8558e-05   0.0015137 : precip',\n",
       " '123 : 2001-01-06 00:00:00       0    18432       0 :     -23.143     0.21961      23.753 : u10',\n",
       " '124 : 2001-01-06 00:00:00       0    18432       0 :     -21.001    -0.11243      20.447 : v10',\n",
       " '125 : 2001-01-06 00:00:00       0    18432       0 :     0.28181      18.006      69.981 : qvi',\n",
       " '126 : 2001-01-06 00:00:00       0    18432       0 :      95476.  1.0098e+05  1.0481e+05 : slp',\n",
       " '127 : 2001-01-06 06:00:00       0    18432       0 :      224.76      276.71      320.22 : tsurf',\n",
       " '128 : 2001-01-06 06:00:00       0    18432       0 :  1.5159e-18  2.8367e-05   0.0013979 : precip',\n",
       " '129 : 2001-01-06 06:00:00       0    18432       0 :     -21.883     0.20311      27.394 : u10',\n",
       " '130 : 2001-01-06 06:00:00       0    18432       0 :     -21.357    -0.15809      20.193 : v10',\n",
       " '131 : 2001-01-06 06:00:00       0    18432       0 :     0.28245      17.967      69.070 : qvi',\n",
       " '132 : 2001-01-06 06:00:00       0    18432       0 :      95513.  1.0097e+05  1.0504e+05 : slp',\n",
       " '133 : 2001-01-06 12:00:00       0    18432       0 :      224.66      277.14      313.49 : tsurf',\n",
       " '134 : 2001-01-06 12:00:00       0    18432       0 :  1.5088e-18  2.8081e-05   0.0015039 : precip',\n",
       " '135 : 2001-01-06 12:00:00       0    18432       0 :     -22.475     0.16643      25.247 : u10',\n",
       " '136 : 2001-01-06 12:00:00       0    18432       0 :     -22.996    -0.18444      21.005 : v10',\n",
       " '137 : 2001-01-06 12:00:00       0    18432       0 :     0.28742      17.954      67.397 : qvi',\n",
       " '138 : 2001-01-06 12:00:00       0    18432       0 :      95646.  1.0097e+05  1.0501e+05 : slp',\n",
       " '139 : 2001-01-06 18:00:00       0    18432       0 :      224.18      277.13      313.91 : tsurf',\n",
       " '140 : 2001-01-06 18:00:00       0    18432       0 :  1.5069e-18  2.9109e-05   0.0016315 : precip',\n",
       " '141 : 2001-01-06 18:00:00       0    18432       0 :     -21.142     0.23600      23.688 : u10',\n",
       " '142 : 2001-01-06 18:00:00       0    18432       0 :     -23.726    -0.16888      21.041 : v10',\n",
       " '143 : 2001-01-06 18:00:00       0    18432       0 :     0.29902      17.959      67.139 : qvi',\n",
       " '144 : 2001-01-06 18:00:00       0    18432       0 :      95723.  1.0097e+05  1.0495e+05 : slp',\n",
       " '145 : 2001-01-07 00:00:00       0    18432       0 :      223.44      276.81      314.58 : tsurf',\n",
       " '146 : 2001-01-07 00:00:00       0    18432       0 :  1.5071e-18  2.7830e-05   0.0013965 : precip',\n",
       " '147 : 2001-01-07 00:00:00       0    18432       0 :     -22.086     0.22349      22.193 : u10',\n",
       " '148 : 2001-01-07 00:00:00       0    18432       0 :     -23.838    -0.17445      26.162 : v10',\n",
       " '149 : 2001-01-07 00:00:00       0    18432       0 :     0.29571      17.951      65.749 : qvi',\n",
       " '150 : 2001-01-07 00:00:00       0    18432       0 :      95859.  1.0099e+05  1.0482e+05 : slp',\n",
       " '151 : 2001-01-07 06:00:00       0    18432       0 :      222.18      276.76      319.17 : tsurf',\n",
       " '152 : 2001-01-07 06:00:00       0    18432       0 :  1.5252e-18  2.7843e-05   0.0013394 : precip',\n",
       " '153 : 2001-01-07 06:00:00       0    18432       0 :     -21.086     0.21372      25.268 : u10',\n",
       " '154 : 2001-01-07 06:00:00       0    18432       0 :     -23.295    -0.21006      26.741 : v10',\n",
       " '155 : 2001-01-07 06:00:00       0    18432       0 :     0.26476      17.915      67.112 : qvi',\n",
       " '156 : 2001-01-07 06:00:00       0    18432       0 :      95811.  1.0097e+05  1.0468e+05 : slp',\n",
       " '157 : 2001-01-07 12:00:00       0    18432       0 :      221.57      277.16      313.94 : tsurf',\n",
       " '158 : 2001-01-07 12:00:00       0    18432       0 :  1.4910e-18  2.7170e-05   0.0013499 : precip',\n",
       " '159 : 2001-01-07 12:00:00       0    18432       0 :     -21.785     0.14866      24.703 : u10',\n",
       " '160 : 2001-01-07 12:00:00       0    18432       0 :     -21.747    -0.15830      21.351 : v10',\n",
       " '161 : 2001-01-07 12:00:00       0    18432       0 :     0.30361      17.892      67.458 : qvi',\n",
       " '162 : 2001-01-07 12:00:00       0    18432       0 :      95856.  1.0097e+05  1.0469e+05 : slp',\n",
       " '163 : 2001-01-07 18:00:00       0    18432       0 :      221.38      277.12      315.24 : tsurf',\n",
       " '164 : 2001-01-07 18:00:00       0    18432       0 :  1.5181e-18  2.7595e-05   0.0012127 : precip',\n",
       " '165 : 2001-01-07 18:00:00       0    18432       0 :     -20.209     0.13863      24.295 : u10',\n",
       " '166 : 2001-01-07 18:00:00       0    18432       0 :     -20.668   -0.077436      21.461 : v10',\n",
       " '167 : 2001-01-07 18:00:00       0    18432       0 :     0.34961      17.901      66.539 : qvi',\n",
       " '168 : 2001-01-07 18:00:00       0    18432       0 :      95578.  1.0097e+05  1.0455e+05 : slp',\n",
       " '169 : 2001-01-08 00:00:00       0    18432       0 :      221.13      276.76      311.87 : tsurf',\n",
       " '170 : 2001-01-08 00:00:00       0    18432       0 :  1.5119e-18  2.6613e-05   0.0010611 : precip',\n",
       " '171 : 2001-01-08 00:00:00       0    18432       0 :     -21.855     0.11541      24.200 : u10',\n",
       " '172 : 2001-01-08 00:00:00       0    18432       0 :     -21.517   -0.052627      20.450 : v10',\n",
       " '173 : 2001-01-08 00:00:00       0    18432       0 :     0.35153      17.905      65.799 : qvi',\n",
       " '174 : 2001-01-08 00:00:00       0    18432       0 :      95055.  1.0098e+05  1.0455e+05 : slp',\n",
       " '175 : 2001-01-08 06:00:00       0    18432       0 :      221.36      276.68      320.15 : tsurf',\n",
       " '176 : 2001-01-08 06:00:00       0    18432       0 :  1.5277e-18  2.6094e-05   0.0015536 : precip',\n",
       " '177 : 2001-01-08 06:00:00       0    18432       0 :     -21.572    0.076606      26.490 : u10',\n",
       " '178 : 2001-01-08 06:00:00       0    18432       0 :     -22.041    -0.10481      20.033 : v10',\n",
       " '179 : 2001-01-08 06:00:00       0    18432       0 :     0.35360      17.894      64.908 : qvi',\n",
       " '180 : 2001-01-08 06:00:00       0    18432       0 :      94854.  1.0095e+05  1.0450e+05 : slp',\n",
       " '181 : 2001-01-08 12:00:00       0    18432       0 :      222.18      277.05      315.64 : tsurf',\n",
       " '182 : 2001-01-08 12:00:00       0    18432       0 :  1.4259e-18  2.6693e-05   0.0013704 : precip',\n",
       " '183 : 2001-01-08 12:00:00       0    18432       0 :     -21.016   0.0081468      24.958 : u10',\n",
       " '184 : 2001-01-08 12:00:00       0    18432       0 :     -22.561    -0.11738      22.644 : v10',\n",
       " '185 : 2001-01-08 12:00:00       0    18432       0 :     0.36041      17.898      65.065 : qvi',\n",
       " '186 : 2001-01-08 12:00:00       0    18432       0 :      94953.  1.0095e+05  1.0456e+05 : slp',\n",
       " '187 : 2001-01-08 18:00:00       0    18432       0 :      222.65      276.97      315.02 : tsurf',\n",
       " '188 : 2001-01-08 18:00:00       0    18432       0 :  1.5082e-18  2.8437e-05   0.0010900 : precip',\n",
       " '189 : 2001-01-08 18:00:00       0    18432       0 :     -21.377    0.030919      25.026 : u10',\n",
       " '190 : 2001-01-08 18:00:00       0    18432       0 :     -22.014   -0.090228      23.246 : v10',\n",
       " '191 : 2001-01-08 18:00:00       0    18432       0 :     0.35961      17.907      62.797 : qvi',\n",
       " '192 : 2001-01-08 18:00:00       0    18432       0 :      95199.  1.0094e+05  1.0445e+05 : slp',\n",
       " '193 : 2001-01-09 00:00:00       0    18432       0 :      222.56      276.60      315.03 : tsurf',\n",
       " '194 : 2001-01-09 00:00:00       0    18432       0 :  1.5081e-18  2.6909e-05   0.0012095 : precip',\n",
       " '195 : 2001-01-09 00:00:00       0    18432       0 :     -20.164 -0.00043244      24.892 : u10',\n",
       " '196 : 2001-01-09 00:00:00       0    18432       0 :     -20.136    -0.12053      20.701 : v10',\n",
       " '197 : 2001-01-09 00:00:00       0    18432       0 :     0.35561      17.908      62.986 : qvi',\n",
       " '198 : 2001-01-09 00:00:00       0    18432       0 :      95445.  1.0094e+05  1.0442e+05 : slp',\n",
       " '199 : 2001-01-09 06:00:00       0    18432       0 :      222.21      276.52      319.67 : tsurf',\n",
       " '200 : 2001-01-09 06:00:00       0    18432       0 :  1.5012e-18  2.6066e-05   0.0013371 : precip',\n",
       " '201 : 2001-01-09 06:00:00       0    18432       0 :     -20.937   -0.026654      24.459 : u10',\n",
       " '202 : 2001-01-09 06:00:00       0    18432       0 :     -17.515    -0.20829      23.743 : v10',\n",
       " '203 : 2001-01-09 06:00:00       0    18432       0 :     0.35358      17.907      64.248 : qvi',\n",
       " '204 : 2001-01-09 06:00:00       0    18432       0 :      95084.  1.0091e+05  1.0426e+05 : slp',\n",
       " '205 : 2001-01-09 12:00:00       0    18432       0 :      221.58      276.94      315.98 : tsurf',\n",
       " '206 : 2001-01-09 12:00:00       0    18432       0 :  1.4173e-18  2.6819e-05   0.0013098 : precip',\n",
       " '207 : 2001-01-09 12:00:00       0    18432       0 :     -21.723   -0.020077      26.382 : u10',\n",
       " '208 : 2001-01-09 12:00:00       0    18432       0 :     -17.747    -0.23819      19.763 : v10',\n",
       " '209 : 2001-01-09 12:00:00       0    18432       0 :     0.35714      17.925      63.559 : qvi',\n",
       " '210 : 2001-01-09 12:00:00       0    18432       0 :      94675.  1.0090e+05  1.0426e+05 : slp',\n",
       " '211 : 2001-01-09 18:00:00       0    18432       0 :      221.03      276.91      316.38 : tsurf',\n",
       " '212 : 2001-01-09 18:00:00       0    18432       0 :  1.4774e-18  2.9543e-05   0.0013680 : precip',\n",
       " '213 : 2001-01-09 18:00:00       0    18432       0 :     -22.315    0.062408      25.864 : u10',\n",
       " '214 : 2001-01-09 18:00:00       0    18432       0 :     -19.207    -0.21374      18.493 : v10',\n",
       " '215 : 2001-01-09 18:00:00       0    18432       0 :     0.36391      17.941      63.603 : qvi',\n",
       " '216 : 2001-01-09 18:00:00       0    18432       0 :      94404.  1.0089e+05  1.0427e+05 : slp',\n",
       " '217 : 2001-01-10 00:00:00       0    18432       0 :      220.68      276.60      315.66 : tsurf',\n",
       " '218 : 2001-01-10 00:00:00       0    18432       0 :  1.5231e-18  2.7917e-05   0.0013511 : precip',\n",
       " '219 : 2001-01-10 00:00:00       0    18432       0 :     -21.962    0.074847      24.714 : u10',\n",
       " '220 : 2001-01-10 00:00:00       0    18432       0 :     -20.213    -0.22827      17.894 : v10',\n",
       " '221 : 2001-01-10 00:00:00       0    18432       0 :     0.34996      17.948      63.817 : qvi',\n",
       " '222 : 2001-01-10 00:00:00       0    18432       0 :      94504.  1.0089e+05  1.0461e+05 : slp',\n",
       " '223 : 2001-01-10 06:00:00       0    18432       0 :      220.26      276.60      321.54 : tsurf',\n",
       " '224 : 2001-01-10 06:00:00       0    18432       0 :  1.5105e-18  2.6336e-05   0.0012182 : precip',\n",
       " '225 : 2001-01-10 06:00:00       0    18432       0 :     -22.200    0.079309      24.737 : u10',\n",
       " '226 : 2001-01-10 06:00:00       0    18432       0 :     -20.947    -0.27905      18.856 : v10',\n",
       " '227 : 2001-01-10 06:00:00       0    18432       0 :     0.32603      17.973      64.713 : qvi',\n",
       " '228 : 2001-01-10 06:00:00       0    18432       0 :      94475.  1.0087e+05  1.0422e+05 : slp',\n",
       " '229 : 2001-01-10 12:00:00       0    18432       0 :      219.87      277.11      317.24 : tsurf',\n",
       " '230 : 2001-01-10 12:00:00       0    18432       0 :  1.4026e-18  2.7880e-05   0.0013968 : precip',\n",
       " '231 : 2001-01-10 12:00:00       0    18432       0 :     -22.391    0.025245      22.118 : u10',\n",
       " '232 : 2001-01-10 12:00:00       0    18432       0 :     -21.261    -0.26564      20.798 : v10',\n",
       " '233 : 2001-01-10 12:00:00       0    18432       0 :     0.31440      18.015      64.269 : qvi',\n",
       " '234 : 2001-01-10 12:00:00       0    18432       0 :      94494.  1.0088e+05  1.0431e+05 : slp',\n",
       " '235 : 2001-01-10 18:00:00       0    18432       0 :      219.59      277.13      316.58 : tsurf',\n",
       " '236 : 2001-01-10 18:00:00       0    18432       0 :  1.4819e-18  2.9543e-05   0.0012724 : precip',\n",
       " '237 : 2001-01-10 18:00:00       0    18432       0 :     -24.338    0.035490      22.710 : u10',\n",
       " '238 : 2001-01-10 18:00:00       0    18432       0 :     -21.470    -0.20819      18.623 : v10',\n",
       " '239 : 2001-01-10 18:00:00       0    18432       0 :     0.30045      18.058      63.715 : qvi',\n",
       " '240 : 2001-01-10 18:00:00       0    18432       0 :      94964.  1.0089e+05  1.0421e+05 : slp',\n",
       " ':       Date     Time   Level Gridsize    Miss :     Minimum        Mean     Maximum : Parameter name']"
      ]
     },
     "execution_count": 6,
     "metadata": {},
     "output_type": "execute_result"
    }
   ],
   "source": [
    "cdo.infon(input='../../data/rectilinear_grid_2D.nc')"
   ]
  },
  {
   "cell_type": "markdown",
   "metadata": {},
   "source": [
    "<br>\n",
    "\n",
    "## Copy file\n",
    "\n",
    "Copy the input file to outfile.nc and change the data precision from float32 to float64."
   ]
  },
  {
   "cell_type": "code",
   "execution_count": null,
   "metadata": {},
   "outputs": [],
   "source": [
    "cdo.copy(input='../data/rectilinear_grid_2D.nc', options='-b F64', output='outfile.nc')\n",
    "cdo.sinfon(input='outfile.nc')"
   ]
  },
  {
   "cell_type": "markdown",
   "metadata": {},
   "source": [
    "<br>\n",
    "\n",
    "To make things easier for us, we define the variables infile and outfile for the input and output files.\n"
   ]
  },
  {
   "cell_type": "code",
   "execution_count": 7,
   "metadata": {},
   "outputs": [],
   "source": [
    "infile  = '../../data/rectilinear_grid_2D.nc'\n",
    "outfile = 'outfile.nc'"
   ]
  },
  {
   "cell_type": "markdown",
   "metadata": {},
   "source": [
    "<br>\n",
    "\n",
    "## Select variables\n"
   ]
  },
  {
   "cell_type": "code",
   "execution_count": 8,
   "metadata": {},
   "outputs": [
    {
     "data": {
      "text/plain": [
       "['File format : NetCDF',\n",
       " '-1 : Institut Source   T Steptype Levels Num    Points Num Dtype : Parameter name',\n",
       " '1 : unknown  unknown  v instant       1   1     18432   1  F32  : tsurf',\n",
       " 'Grid coordinates :',\n",
       " '1 : gaussian                 : points=18432 (192x96)',\n",
       " 'lon : -180 to 178.125 by 1.875 degrees_east  circular',\n",
       " 'lat : 88.57217 to -88.57217 degrees_north',\n",
       " 'Vertical coordinates :',\n",
       " '1 : surface                  : levels=1',\n",
       " 'Time coordinate :',\n",
       " 'time : 40 steps',\n",
       " 'RefTime =  2001-01-01 00:00:00  Units = hours  Calendar = standard',\n",
       " 'YYYY-MM-DD hh:mm:ss  YYYY-MM-DD hh:mm:ss  YYYY-MM-DD hh:mm:ss  YYYY-MM-DD hh:mm:ss',\n",
       " '2001-01-01 00:00:00  2001-01-01 06:00:00  2001-01-01 12:00:00  2001-01-01 18:00:00',\n",
       " '2001-01-02 00:00:00  2001-01-02 06:00:00  2001-01-02 12:00:00  2001-01-02 18:00:00',\n",
       " '2001-01-03 00:00:00  2001-01-03 06:00:00  2001-01-03 12:00:00  2001-01-03 18:00:00',\n",
       " '2001-01-04 00:00:00  2001-01-04 06:00:00  2001-01-04 12:00:00  2001-01-04 18:00:00',\n",
       " '2001-01-05 00:00:00  2001-01-05 06:00:00  2001-01-05 12:00:00  2001-01-05 18:00:00',\n",
       " '2001-01-06 00:00:00  2001-01-06 06:00:00  2001-01-06 12:00:00  2001-01-06 18:00:00',\n",
       " '2001-01-07 00:00:00  2001-01-07 06:00:00  2001-01-07 12:00:00  2001-01-07 18:00:00',\n",
       " '2001-01-08 00:00:00  2001-01-08 06:00:00  2001-01-08 12:00:00  2001-01-08 18:00:00',\n",
       " '2001-01-09 00:00:00  2001-01-09 06:00:00  2001-01-09 12:00:00  2001-01-09 18:00:00',\n",
       " '2001-01-10 00:00:00  2001-01-10 06:00:00  2001-01-10 12:00:00  2001-01-10 18:00:00']"
      ]
     },
     "execution_count": 8,
     "metadata": {},
     "output_type": "execute_result"
    }
   ],
   "source": [
    "cdo.selvar('tsurf', input=infile, output=outfile)\n",
    "cdo.sinfon(input=outfile)"
   ]
  },
  {
   "cell_type": "code",
   "execution_count": 9,
   "metadata": {},
   "outputs": [
    {
     "data": {
      "text/plain": [
       "['File format : NetCDF',\n",
       " '-1 : Institut Source   T Steptype Levels Num    Points Num Dtype : Parameter name',\n",
       " '1 : unknown  unknown  v instant       1   1     18432   1  F32  : u10',\n",
       " '2 : unknown  unknown  v instant       1   1     18432   1  F32  : v10',\n",
       " 'Grid coordinates :',\n",
       " '1 : gaussian                 : points=18432 (192x96)',\n",
       " 'lon : -180 to 178.125 by 1.875 degrees_east  circular',\n",
       " 'lat : 88.57217 to -88.57217 degrees_north',\n",
       " 'Vertical coordinates :',\n",
       " '1 : surface                  : levels=1',\n",
       " 'Time coordinate :',\n",
       " 'time : 40 steps',\n",
       " 'RefTime =  2001-01-01 00:00:00  Units = hours  Calendar = standard',\n",
       " 'YYYY-MM-DD hh:mm:ss  YYYY-MM-DD hh:mm:ss  YYYY-MM-DD hh:mm:ss  YYYY-MM-DD hh:mm:ss',\n",
       " '2001-01-01 00:00:00  2001-01-01 06:00:00  2001-01-01 12:00:00  2001-01-01 18:00:00',\n",
       " '2001-01-02 00:00:00  2001-01-02 06:00:00  2001-01-02 12:00:00  2001-01-02 18:00:00',\n",
       " '2001-01-03 00:00:00  2001-01-03 06:00:00  2001-01-03 12:00:00  2001-01-03 18:00:00',\n",
       " '2001-01-04 00:00:00  2001-01-04 06:00:00  2001-01-04 12:00:00  2001-01-04 18:00:00',\n",
       " '2001-01-05 00:00:00  2001-01-05 06:00:00  2001-01-05 12:00:00  2001-01-05 18:00:00',\n",
       " '2001-01-06 00:00:00  2001-01-06 06:00:00  2001-01-06 12:00:00  2001-01-06 18:00:00',\n",
       " '2001-01-07 00:00:00  2001-01-07 06:00:00  2001-01-07 12:00:00  2001-01-07 18:00:00',\n",
       " '2001-01-08 00:00:00  2001-01-08 06:00:00  2001-01-08 12:00:00  2001-01-08 18:00:00',\n",
       " '2001-01-09 00:00:00  2001-01-09 06:00:00  2001-01-09 12:00:00  2001-01-09 18:00:00',\n",
       " '2001-01-10 00:00:00  2001-01-10 06:00:00  2001-01-10 12:00:00  2001-01-10 18:00:00']"
      ]
     },
     "execution_count": 9,
     "metadata": {},
     "output_type": "execute_result"
    }
   ],
   "source": [
    "cdo.selvar('u10,v10', input=infile, output=outfile)\n",
    "cdo.sinfon(input=outfile)"
   ]
  },
  {
   "cell_type": "markdown",
   "metadata": {},
   "source": [
    "<br>\n",
    "\n",
    "## Select timesteps\n",
    "\n",
    "Select timestep 1 and 10:"
   ]
  },
  {
   "cell_type": "code",
   "execution_count": 10,
   "metadata": {},
   "outputs": [
    {
     "data": {
      "text/plain": [
       "['File format : NetCDF',\n",
       " '-1 : Institut Source   T Steptype Levels Num    Points Num Dtype : Parameter name',\n",
       " '1 : unknown  unknown  v instant       1   1     18432   1  F32  : tsurf',\n",
       " '2 : unknown  unknown  v instant       1   1     18432   1  F32  : precip',\n",
       " '3 : unknown  unknown  v instant       1   1     18432   1  F32  : u10',\n",
       " '4 : unknown  unknown  v instant       1   1     18432   1  F32  : v10',\n",
       " '5 : unknown  unknown  v instant       1   1     18432   1  F32  : qvi',\n",
       " '6 : unknown  unknown  v instant       1   1     18432   1  F32  : slp',\n",
       " 'Grid coordinates :',\n",
       " '1 : gaussian                 : points=18432 (192x96)',\n",
       " 'lon : -180 to 178.125 by 1.875 degrees_east  circular',\n",
       " 'lat : 88.57217 to -88.57217 degrees_north',\n",
       " 'Vertical coordinates :',\n",
       " '1 : surface                  : levels=1',\n",
       " 'Time coordinate :',\n",
       " 'time : 2 steps',\n",
       " 'RefTime =  2001-01-01 00:00:00  Units = hours  Calendar = standard',\n",
       " 'YYYY-MM-DD hh:mm:ss  YYYY-MM-DD hh:mm:ss  YYYY-MM-DD hh:mm:ss  YYYY-MM-DD hh:mm:ss',\n",
       " '2001-01-01 00:00:00  2001-01-03 06:00:00']"
      ]
     },
     "execution_count": 10,
     "metadata": {},
     "output_type": "execute_result"
    }
   ],
   "source": [
    "cdo.seltimestep('1,10', input=infile, output=outfile)\n",
    "cdo.sinfon(input=outfile)"
   ]
  },
  {
   "cell_type": "markdown",
   "metadata": {},
   "source": [
    "Select timestep 1 to 10:"
   ]
  },
  {
   "cell_type": "code",
   "execution_count": 11,
   "metadata": {},
   "outputs": [
    {
     "data": {
      "text/plain": [
       "['File format : NetCDF',\n",
       " '-1 : Institut Source   T Steptype Levels Num    Points Num Dtype : Parameter name',\n",
       " '1 : unknown  unknown  v instant       1   1     18432   1  F32  : tsurf',\n",
       " '2 : unknown  unknown  v instant       1   1     18432   1  F32  : precip',\n",
       " '3 : unknown  unknown  v instant       1   1     18432   1  F32  : u10',\n",
       " '4 : unknown  unknown  v instant       1   1     18432   1  F32  : v10',\n",
       " '5 : unknown  unknown  v instant       1   1     18432   1  F32  : qvi',\n",
       " '6 : unknown  unknown  v instant       1   1     18432   1  F32  : slp',\n",
       " 'Grid coordinates :',\n",
       " '1 : gaussian                 : points=18432 (192x96)',\n",
       " 'lon : -180 to 178.125 by 1.875 degrees_east  circular',\n",
       " 'lat : 88.57217 to -88.57217 degrees_north',\n",
       " 'Vertical coordinates :',\n",
       " '1 : surface                  : levels=1',\n",
       " 'Time coordinate :',\n",
       " 'time : 10 steps',\n",
       " 'RefTime =  2001-01-01 00:00:00  Units = hours  Calendar = standard',\n",
       " 'YYYY-MM-DD hh:mm:ss  YYYY-MM-DD hh:mm:ss  YYYY-MM-DD hh:mm:ss  YYYY-MM-DD hh:mm:ss',\n",
       " '2001-01-01 00:00:00  2001-01-01 06:00:00  2001-01-01 12:00:00  2001-01-01 18:00:00',\n",
       " '2001-01-02 00:00:00  2001-01-02 06:00:00  2001-01-02 12:00:00  2001-01-02 18:00:00',\n",
       " '2001-01-03 00:00:00  2001-01-03 06:00:00']"
      ]
     },
     "execution_count": 11,
     "metadata": {},
     "output_type": "execute_result"
    }
   ],
   "source": [
    "cdo.seltimestep('1/10', input=infile, output=outfile)\n",
    "cdo.sinfon(input=outfile)"
   ]
  },
  {
   "cell_type": "markdown",
   "metadata": {},
   "source": [
    "<br>\n",
    "\n",
    "## Operator chaining\n",
    "\n",
    "Operators with a fixed number of input files (streams) and only one output file can be combined. The input parameters must begin with an '-' and they will be executed from right to left.\n",
    "\n",
    "Select the variables u10 and v10 and then select the first 10 timesteps:"
   ]
  },
  {
   "cell_type": "code",
   "execution_count": 12,
   "metadata": {},
   "outputs": [
    {
     "data": {
      "text/plain": [
       "['File format : NetCDF',\n",
       " '-1 : Institut Source   T Steptype Levels Num    Points Num Dtype : Parameter name',\n",
       " '1 : unknown  unknown  v instant       1   1     18432   1  F32  : u10',\n",
       " '2 : unknown  unknown  v instant       1   1     18432   1  F32  : v10',\n",
       " 'Grid coordinates :',\n",
       " '1 : gaussian                 : points=18432 (192x96)',\n",
       " 'lon : -180 to 178.125 by 1.875 degrees_east  circular',\n",
       " 'lat : 88.57217 to -88.57217 degrees_north',\n",
       " 'Vertical coordinates :',\n",
       " '1 : surface                  : levels=1',\n",
       " 'Time coordinate :',\n",
       " 'time : 10 steps',\n",
       " 'RefTime =  2001-01-01 00:00:00  Units = hours  Calendar = standard',\n",
       " 'YYYY-MM-DD hh:mm:ss  YYYY-MM-DD hh:mm:ss  YYYY-MM-DD hh:mm:ss  YYYY-MM-DD hh:mm:ss',\n",
       " '2001-01-01 00:00:00  2001-01-01 06:00:00  2001-01-01 12:00:00  2001-01-01 18:00:00',\n",
       " '2001-01-02 00:00:00  2001-01-02 06:00:00  2001-01-02 12:00:00  2001-01-02 18:00:00',\n",
       " '2001-01-03 00:00:00  2001-01-03 06:00:00']"
      ]
     },
     "execution_count": 12,
     "metadata": {},
     "output_type": "execute_result"
    }
   ],
   "source": [
    "cdo.seltimestep('1/10', input='-selvar,u10,v10 '+infile, output=outfile)\n",
    "cdo.sinfon(input=outfile)"
   ]
  },
  {
   "cell_type": "markdown",
   "metadata": {},
   "source": [
    "Use operators and options at once to do the above sections and change the output precision:"
   ]
  },
  {
   "cell_type": "code",
   "execution_count": 13,
   "metadata": {},
   "outputs": [
    {
     "data": {
      "text/plain": [
       "['File format : NetCDF',\n",
       " '-1 : Institut Source   T Steptype Levels Num    Points Num Dtype : Parameter name',\n",
       " '1 : unknown  unknown  v instant       1   1     18432   1  F64  : u10',\n",
       " '2 : unknown  unknown  v instant       1   1     18432   1  F64  : v10',\n",
       " 'Grid coordinates :',\n",
       " '1 : gaussian                 : points=18432 (192x96)',\n",
       " 'lon : -180 to 178.125 by 1.875 degrees_east  circular',\n",
       " 'lat : 88.57217 to -88.57217 degrees_north',\n",
       " 'Vertical coordinates :',\n",
       " '1 : surface                  : levels=1',\n",
       " 'Time coordinate :',\n",
       " 'time : 10 steps',\n",
       " 'RefTime =  2001-01-01 00:00:00  Units = hours  Calendar = standard',\n",
       " 'YYYY-MM-DD hh:mm:ss  YYYY-MM-DD hh:mm:ss  YYYY-MM-DD hh:mm:ss  YYYY-MM-DD hh:mm:ss',\n",
       " '2001-01-01 00:00:00  2001-01-01 06:00:00  2001-01-01 12:00:00  2001-01-01 18:00:00',\n",
       " '2001-01-02 00:00:00  2001-01-02 06:00:00  2001-01-02 12:00:00  2001-01-02 18:00:00',\n",
       " '2001-01-03 00:00:00  2001-01-03 06:00:00']"
      ]
     },
     "execution_count": 13,
     "metadata": {},
     "output_type": "execute_result"
    }
   ],
   "source": [
    "cdo.seltimestep('1/10', input='-selvar,u10,v10 '+infile, options='-b F64', output=outfile)\n",
    "cdo.sinfon(input=outfile)"
   ]
  },
  {
   "cell_type": "markdown",
   "metadata": {},
   "source": [
    "<br>\n",
    "\n",
    "## Select a sub-region"
   ]
  },
  {
   "cell_type": "code",
   "execution_count": 14,
   "metadata": {},
   "outputs": [
    {
     "data": {
      "text/plain": [
       "['File format : NetCDF',\n",
       " '-1 : Institut Source   T Steptype Levels Num    Points Num Dtype : Parameter name',\n",
       " '1 : unknown  unknown  v instant       1   1        30   1  F32  : tsurf',\n",
       " '2 : unknown  unknown  v instant       1   1        30   1  F32  : precip',\n",
       " '3 : unknown  unknown  v instant       1   1        30   1  F32  : u10',\n",
       " '4 : unknown  unknown  v instant       1   1        30   1  F32  : v10',\n",
       " '5 : unknown  unknown  v instant       1   1        30   1  F32  : qvi',\n",
       " '6 : unknown  unknown  v instant       1   1        30   1  F32  : slp',\n",
       " 'Grid coordinates :',\n",
       " '1 : gaussian                 : points=30 (6x5)',\n",
       " 'lon : 20.625 to 30 by 1.875 degrees_east',\n",
       " 'lat : 79.27056 to 71.81113 degrees_north',\n",
       " 'Vertical coordinates :',\n",
       " '1 : surface                  : levels=1',\n",
       " 'Time coordinate :',\n",
       " 'time : 1 step',\n",
       " 'RefTime =  2001-01-01 00:00:00  Units = hours  Calendar = standard',\n",
       " 'YYYY-MM-DD hh:mm:ss  YYYY-MM-DD hh:mm:ss  YYYY-MM-DD hh:mm:ss  YYYY-MM-DD hh:mm:ss',\n",
       " '2001-01-01 00:00:00']"
      ]
     },
     "execution_count": 14,
     "metadata": {},
     "output_type": "execute_result"
    }
   ],
   "source": [
    "cdo.sellonlatbox('20,30,70,80', input='-seltimestep,1 '+infile, output=outfile)\n",
    "cdo.sinfon(input=outfile)"
   ]
  },
  {
   "cell_type": "markdown",
   "metadata": {},
   "source": [
    "<br>\n",
    "\n",
    "## Compute the field mean\n",
    "\n",
    "Compute the mean of the horizontal field for each timestep (-> time series)."
   ]
  },
  {
   "cell_type": "code",
   "execution_count": 15,
   "metadata": {},
   "outputs": [
    {
     "data": {
      "text/plain": [
       "['File format : NetCDF',\n",
       " '-1 : Institut Source   T Steptype Levels Num    Points Num Dtype : Parameter name',\n",
       " '1 : unknown  unknown  v instant       1   1         1   1  F32  : tsurf',\n",
       " 'Grid coordinates :',\n",
       " '1 : lonlat                   : points=1 (1x1)',\n",
       " 'lon : 0 degrees_east',\n",
       " 'lat : 0 degrees_north',\n",
       " 'Vertical coordinates :',\n",
       " '1 : surface                  : levels=1',\n",
       " 'Time coordinate :',\n",
       " 'time : 40 steps',\n",
       " 'RefTime =  2001-01-01 00:00:00  Units = hours  Calendar = standard',\n",
       " 'YYYY-MM-DD hh:mm:ss  YYYY-MM-DD hh:mm:ss  YYYY-MM-DD hh:mm:ss  YYYY-MM-DD hh:mm:ss',\n",
       " '2001-01-01 00:00:00  2001-01-01 06:00:00  2001-01-01 12:00:00  2001-01-01 18:00:00',\n",
       " '2001-01-02 00:00:00  2001-01-02 06:00:00  2001-01-02 12:00:00  2001-01-02 18:00:00',\n",
       " '2001-01-03 00:00:00  2001-01-03 06:00:00  2001-01-03 12:00:00  2001-01-03 18:00:00',\n",
       " '2001-01-04 00:00:00  2001-01-04 06:00:00  2001-01-04 12:00:00  2001-01-04 18:00:00',\n",
       " '2001-01-05 00:00:00  2001-01-05 06:00:00  2001-01-05 12:00:00  2001-01-05 18:00:00',\n",
       " '2001-01-06 00:00:00  2001-01-06 06:00:00  2001-01-06 12:00:00  2001-01-06 18:00:00',\n",
       " '2001-01-07 00:00:00  2001-01-07 06:00:00  2001-01-07 12:00:00  2001-01-07 18:00:00',\n",
       " '2001-01-08 00:00:00  2001-01-08 06:00:00  2001-01-08 12:00:00  2001-01-08 18:00:00',\n",
       " '2001-01-09 00:00:00  2001-01-09 06:00:00  2001-01-09 12:00:00  2001-01-09 18:00:00',\n",
       " '2001-01-10 00:00:00  2001-01-10 06:00:00  2001-01-10 12:00:00  2001-01-10 18:00:00']"
      ]
     },
     "execution_count": 15,
     "metadata": {},
     "output_type": "execute_result"
    }
   ],
   "source": [
    "cdo.fldmean(input=\"-selname,tsurf \"+infile, output='outfile.nc')\n",
    "cdo.sinfon(input=outfile)"
   ]
  },
  {
   "cell_type": "markdown",
   "metadata": {},
   "source": [
    "Plot the fieldmean data:"
   ]
  },
  {
   "cell_type": "code",
   "execution_count": 16,
   "metadata": {},
   "outputs": [
    {
     "data": {
      "text/plain": [
       "[<matplotlib.lines.Line2D at 0x7fff51c15fd0>]"
      ]
     },
     "execution_count": 16,
     "metadata": {},
     "output_type": "execute_result"
    },
    {
     "data": {
      "image/png": "[encoded data removed]",
      "text/plain": [
       "<Figure size 432x288 with 1 Axes>"
      ]
     },
     "metadata": {
      "needs_background": "light"
     },
     "output_type": "display_data"
    }
   ],
   "source": [
    "cdo.fldmean(input=\"-selname,tsurf \"+infile, returnXArray='tsurf').plot()"
   ]
  },
  {
   "cell_type": "markdown",
   "metadata": {},
   "source": [
    "<br>\n",
    "\n",
    "## Assign data to variable\n",
    "\n",
    "Assign the file variable precip to the python variable precipitation:"
   ]
  },
  {
   "cell_type": "code",
   "execution_count": 17,
   "metadata": {},
   "outputs": [
    {
     "name": "stdout",
     "output_type": "stream",
     "text": [
      "<xarray.DataArray 'precip' (time: 40, lat: 96, lon: 192)>\n",
      "[737280 values with dtype=float32]\n",
      "Coordinates:\n",
      "  * time     (time) datetime64[ns] 2001-01-01 ... 2001-01-10T18:00:00\n",
      "  * lon      (lon) float64 -180.0 -178.1 -176.2 -174.4 ... 174.4 176.2 178.1\n",
      "  * lat      (lat) float64 88.57 86.72 84.86 83.0 ... -83.0 -84.86 -86.72 -88.57\n",
      "Attributes:\n",
      "    long_name:      total precipitation\n",
      "    units:          kg/m^2s\n",
      "    code:           4\n",
      "    table:          128\n",
      "    CDI_grid_type:  gaussian\n"
     ]
    }
   ],
   "source": [
    "precipitation = cdo.selvar('precip', input=infile, returnXArray='precip')\n",
    "print(precipitation)"
   ]
  },
  {
   "cell_type": "markdown",
   "metadata": {},
   "source": [
    "Print the value of the first timestep, first latitude, first longitude:"
   ]
  },
  {
   "cell_type": "code",
   "execution_count": 18,
   "metadata": {},
   "outputs": [
    {
     "name": "stdout",
     "output_type": "stream",
     "text": [
      "1.8439023e-06\n"
     ]
    }
   ],
   "source": [
    "print(precipitation.values[0,0,0])"
   ]
  },
  {
   "cell_type": "markdown",
   "metadata": {},
   "source": [
    "Compute the fieldmean:"
   ]
  },
  {
   "cell_type": "code",
   "execution_count": 19,
   "metadata": {},
   "outputs": [
    {
     "name": "stdout",
     "output_type": "stream",
     "text": [
      "[285.91788 285.8857  286.46826 286.4037  285.9395  285.8711  286.40665\n",
      " 286.34302 285.84647 285.7593 ]\n"
     ]
    }
   ],
   "source": [
    "tsurf_fldmean = cdo.fldmean(input=infile, returnXArray='tsurf')\n",
    "print(tsurf_fldmean.values[0:10,0,0])"
   ]
  },
  {
   "cell_type": "markdown",
   "metadata": {},
   "source": [
    "<br>\n",
    "\n",
    "## Remapping\n",
    "\n",
    "Interpolate the data of input file to a new grid using the bilinear interpolation method.\n",
    "\n",
    "For the ease of use, we select the variable tsurf and only the first timestep to interpolate the data to a longitude 1 deg x latitude 1 deg (r360x180) grid."
   ]
  },
  {
   "cell_type": "code",
   "execution_count": 20,
   "metadata": {},
   "outputs": [
    {
     "data": {
      "text/plain": [
       "'outfile.nc'"
      ]
     },
     "execution_count": 20,
     "metadata": {},
     "output_type": "execute_result"
    }
   ],
   "source": [
    "cdo.remapbil('r360x180', input='-seltimestep,1 -selvar,tsurf '+infile, output=outfile)"
   ]
  },
  {
   "cell_type": "markdown",
   "metadata": {},
   "source": [
    "To demonstrate the functionality we increase the resolution of the input data to a 0.5 deg grid and plot the original and the interpolated data.\n",
    "\n",
    "Original input data:"
   ]
  },
  {
   "cell_type": "code",
   "execution_count": 21,
   "metadata": {},
   "outputs": [
    {
     "data": {
      "text/plain": [
       "<cartopy.mpl.feature_artist.FeatureArtist at 0x7fff46188dc0>"
      ]
     },
     "execution_count": 21,
     "metadata": {},
     "output_type": "execute_result"
    },
    {
     "data": {
      "image/png": "[encoded data removed]",
      "text/plain": [
       "<Figure size 432x288 with 2 Axes>"
      ]
     },
     "metadata": {
      "needs_background": "light"
     },
     "output_type": "display_data"
    }
   ],
   "source": [
    "import cartopy.crs as ccrs\n",
    "import xarray as xr\n",
    "tsurf_orig = xr.open_dataset(infile).tsurf[0,:,:]\n",
    "\n",
    "data = tsurf_orig.plot(subplot_kws=dict(projection=ccrs.PlateCarree(), facecolor='gray'), transform=ccrs.PlateCarree(),)\n",
    "\n",
    "data.axes.set_extent([-10.,20.,30.,60.])\n",
    "data.axes.coastlines()"
   ]
  },
  {
   "cell_type": "code",
   "execution_count": 22,
   "metadata": {},
   "outputs": [
    {
     "data": {
      "text/plain": [
       "<cartopy.mpl.feature_artist.FeatureArtist at 0x7fff461041f0>"
      ]
     },
     "execution_count": 22,
     "metadata": {},
     "output_type": "execute_result"
    },
    {
     "data": {
      "image/png": "[encoded data removed]",
      "text/plain": [
       "<Figure size 432x288 with 2 Axes>"
      ]
     },
     "metadata": {
      "needs_background": "light"
     },
     "output_type": "display_data"
    }
   ],
   "source": [
    "tsurf = cdo.remapbil('r720x360', input='-seltimestep,1 '+infile, returnXArray='tsurf')\n",
    "\n",
    "data = tsurf.plot(subplot_kws=dict(projection=ccrs.PlateCarree(), facecolor='gray'), transform=ccrs.PlateCarree(),)\n",
    "\n",
    "data.axes.set_extent([-10.,20.,30.,60.])\n",
    "data.axes.coastlines()"
   ]
  },
  {
   "cell_type": "markdown",
   "metadata": {},
   "source": [
    "<br>\n",
    "\n",
    "## Remap data to a grid of another file"
   ]
  },
  {
   "cell_type": "code",
   "execution_count": 23,
   "metadata": {},
   "outputs": [],
   "source": [
    "cdo.topo(options='-f nc', output='topo.nc')\n",
    "\n",
    "tsurf_2 = cdo.remapbil('topo.nc', input=\"-seltimestep,1 \"+infile, returnXArray='tsurf')"
   ]
  },
  {
   "cell_type": "markdown",
   "metadata": {},
   "source": [
    "<br>\n",
    "\n",
    "## Create a land-sea mask\n",
    "\n",
    "CDO provides a global 0.5 degree topography dataset that can be used to generate a land sea mask. First, we interpolate the topography data to the same grid as the data file. With the operator `gtc` we set all values greater than 0.5 m to 1 and all other values to 0."
   ]
  },
  {
   "cell_type": "code",
   "execution_count": 24,
   "metadata": {},
   "outputs": [
    {
     "name": "stdout",
     "output_type": "stream",
     "text": [
      "<xarray.DataArray 'topo' (lat: 96, lon: 192)>\n",
      "array([[0., 0., 0., ..., 0., 0., 0.],\n",
      "       [0., 0., 0., ..., 0., 0., 0.],\n",
      "       [0., 0., 0., ..., 0., 0., 0.],\n",
      "       ...,\n",
      "       [1., 1., 1., ..., 1., 1., 1.],\n",
      "       [1., 1., 1., ..., 1., 1., 1.],\n",
      "       [1., 1., 1., ..., 1., 1., 1.]], dtype=float32)\n",
      "Coordinates:\n",
      "  * lon      (lon) float64 -180.0 -178.1 -176.2 -174.4 ... 174.4 176.2 178.1\n",
      "  * lat      (lat) float64 88.57 86.72 84.86 83.0 ... -83.0 -84.86 -86.72 -88.57\n",
      "Attributes:\n",
      "    units:          m\n",
      "    CDI_grid_type:  gaussian\n"
     ]
    }
   ],
   "source": [
    "lsm = cdo.gtc(0.5, input='-remapbil,'+infile+' -topo', returnXArray='topo')\n",
    "print(lsm)"
   ]
  },
  {
   "cell_type": "code",
   "execution_count": 25,
   "metadata": {},
   "outputs": [
    {
     "data": {
      "text/plain": [
       "<cartopy.mpl.feature_artist.FeatureArtist at 0x7fff3f36b8b0>"
      ]
     },
     "execution_count": 25,
     "metadata": {},
     "output_type": "execute_result"
    },
    {
     "data": {
      "image/png": "[encoded data removed]",
      "text/plain": [
       "<Figure size 432x288 with 2 Axes>"
      ]
     },
     "metadata": {
      "needs_background": "light"
     },
     "output_type": "display_data"
    }
   ],
   "source": [
    "p = lsm.plot(subplot_kws=dict(projection=ccrs.PlateCarree(), facecolor='gray'), transform=ccrs.PlateCarree(),)\n",
    "p.axes.set_extent([-20.,20.,30.,60.])\n",
    "p.axes.coastlines()"
   ]
  },
  {
   "cell_type": "markdown",
   "metadata": {},
   "source": [
    "<br>\n",
    "\n",
    "## Masking data\n",
    "\n",
    "Before we can use a mask on a data variable we need to create a mask file using the same grid as the data variable."
   ]
  },
  {
   "cell_type": "code",
   "execution_count": 26,
   "metadata": {},
   "outputs": [
    {
     "data": {
      "text/plain": [
       "'lsm.nc'"
      ]
     },
     "execution_count": 26,
     "metadata": {},
     "output_type": "execute_result"
    }
   ],
   "source": [
    "cdo.setname('lsm', input='-gtc,0.5 -remapbil,'+infile+' -topo', options='-f nc', output='lsm.nc')"
   ]
  },
  {
   "cell_type": "markdown",
   "metadata": {},
   "source": [
    "Now, we want to get only tsurf values over land for timestep 1."
   ]
  },
  {
   "cell_type": "code",
   "execution_count": 27,
   "metadata": {},
   "outputs": [],
   "source": [
    "masked = cdo.setctomiss(0, input='-mul lsm.nc -seltimestep,1 '+infile, returnXArray='tsurf')"
   ]
  },
  {
   "cell_type": "markdown",
   "metadata": {},
   "source": [
    "Let's see how it looks like."
   ]
  },
  {
   "cell_type": "code",
   "execution_count": 28,
   "metadata": {},
   "outputs": [
    {
     "data": {
      "text/plain": [
       "<cartopy.mpl.feature_artist.FeatureArtist at 0x7fff3f1d6370>"
      ]
     },
     "execution_count": 28,
     "metadata": {},
     "output_type": "execute_result"
    },
    {
     "data": {
      "image/png": "[encoded data removed]",
      "text/plain": [
       "<Figure size 432x288 with 2 Axes>"
      ]
     },
     "metadata": {
      "needs_background": "light"
     },
     "output_type": "display_data"
    }
   ],
   "source": [
    "p = masked.plot(subplot_kws=dict(projection=ccrs.PlateCarree(), facecolor='gray'), transform=ccrs.PlateCarree(),)\n",
    "p.axes.set_extent([-20.,20.,30.,60.])\n",
    "p.axes.coastlines()"
   ]
  },
  {
   "cell_type": "markdown",
   "metadata": {},
   "source": [
    "Use a variables instead of output files."
   ]
  },
  {
   "cell_type": "code",
   "execution_count": 29,
   "metadata": {},
   "outputs": [],
   "source": [
    "lsm = cdo.setname('lsm', input='-gtc,0.5 -remapbil,'+infile+' -topo', options='-f nc', returnXArray='lsm')"
   ]
  },
  {
   "cell_type": "code",
   "execution_count": 30,
   "metadata": {},
   "outputs": [],
   "source": [
    "tsurf = cdo.seltimestep(1, input='-selvar,tsurf '+infile, returnXArray='tsurf')"
   ]
  },
  {
   "cell_type": "code",
   "execution_count": 31,
   "metadata": {},
   "outputs": [
    {
     "name": "stdout",
     "output_type": "stream",
     "text": [
      "<xarray.DataArray (time: 1, lat: 96, lon: 192)>\n",
      "array([[[  0.     ,   0.     ,   0.     , ...,   0.     ,   0.     ,\n",
      "           0.     ],\n",
      "        [  0.     ,   0.     ,   0.     , ...,   0.     ,   0.     ,\n",
      "           0.     ],\n",
      "        [  0.     ,   0.     ,   0.     , ...,   0.     ,   0.     ,\n",
      "           0.     ],\n",
      "        ...,\n",
      "        [256.27307, 256.78674, 257.43127, ..., 254.5895 , 255.06606,\n",
      "         255.69496],\n",
      "        [242.54457, 242.53676, 242.91371, ..., 241.52113, 241.91566,\n",
      "         242.33168],\n",
      "        [236.11879, 235.98012, 235.96059, ..., 236.11488, 236.09145,\n",
      "         236.07191]]], dtype=float32)\n",
      "Coordinates:\n",
      "  * time     (time) datetime64[ns] 2001-01-01\n",
      "  * lon      (lon) float64 -180.0 -178.1 -176.2 -174.4 ... 174.4 176.2 178.1\n",
      "  * lat      (lat) float64 88.57 86.72 84.86 83.0 ... -83.0 -84.86 -86.72 -88.57\n"
     ]
    }
   ],
   "source": [
    "masked = tsurf * lsm\n",
    "print(masked)"
   ]
  },
  {
   "cell_type": "markdown",
   "metadata": {},
   "source": [
    "Plot the masked data."
   ]
  },
  {
   "cell_type": "code",
   "execution_count": 32,
   "metadata": {},
   "outputs": [
    {
     "data": {
      "text/plain": [
       "<cartopy.mpl.feature_artist.FeatureArtist at 0x7fff5019ba60>"
      ]
     },
     "execution_count": 32,
     "metadata": {},
     "output_type": "execute_result"
    },
    {
     "data": {
      "image/png": "[encoded data removed]",
      "text/plain": [
       "<Figure size 432x288 with 2 Axes>"
      ]
     },
     "metadata": {
      "needs_background": "light"
     },
     "output_type": "display_data"
    }
   ],
   "source": [
    "masked.plot(subplot_kws=dict(projection=ccrs.PlateCarree(), facecolor='gray'), transform=ccrs.PlateCarree(),\n",
    "           cbar_kwargs={'orientation': 'horizontal'})\n",
    "p.axes.set_extent([-20.,20.,30.,60.])\n",
    "p.axes.coastlines()  "
   ]
  },
  {
   "cell_type": "markdown",
   "metadata": {},
   "source": [
    "And now we want to mask the land part of the data. The easiest way is to set all zeros to one and all ones to NaN. Matplotlib will automatically use the color _grey_ for the missing values."
   ]
  },
  {
   "cell_type": "code",
   "execution_count": 33,
   "metadata": {},
   "outputs": [
    {
     "data": {
      "text/plain": [
       "<cartopy.mpl.feature_artist.FeatureArtist at 0x7fff3f2de9a0>"
      ]
     },
     "execution_count": 33,
     "metadata": {},
     "output_type": "execute_result"
    },
    {
     "data": {
      "image/png": "[encoded data removed]",
      "text/plain": [
       "<Figure size 432x288 with 2 Axes>"
      ]
     },
     "metadata": {
      "needs_background": "light"
     },
     "output_type": "display_data"
    }
   ],
   "source": [
    "import numpy as np\n",
    "import matplotlib as mpl\n",
    "import copy\n",
    "\n",
    "lsm = np.where(lsm==0, 1, np.nan)\n",
    "\n",
    "masked = tsurf * lsm\n",
    "\n",
    "masked.plot(subplot_kws=dict(projection=ccrs.PlateCarree(), facecolor='gray'), transform=ccrs.PlateCarree(),\n",
    "           cbar_kwargs={'orientation': 'horizontal'})\n",
    "p.axes.set_extent([-20.,20.,30.,60.])\n",
    "p.axes.coastlines()"
   ]
  },
  {
   "cell_type": "markdown",
   "metadata": {},
   "source": [
    "<br>\n",
    "\n",
    "## Delete temporary files"
   ]
  },
  {
   "cell_type": "code",
   "execution_count": null,
   "metadata": {},
   "outputs": [],
   "source": [
    "cdo.cleanTempDir()"
   ]
  },
  {
   "cell_type": "markdown",
   "metadata": {},
   "source": [
    "More data analysis packages:\n",
    "* iris: https://scitools-iris.readthedocs.io/en/stable [example gallery](https://scitools-iris.readthedocs.io/en/stable/generated/gallery/index.html#sphx-glr-generated-gallery)\n",
    "* SciPy: https://www.scipy.org/docs.html\n",
    "* geocat: https://geocat.ucar.edu [example gallery](https://geocat-examples.readthedocs.io/en/latest/gallery/index.html)\n",
    "* seaborn: https://seaborn.pydata.org [example gallery](https://seaborn.pydata.org/examples/index.html)\n"
   ]
  }
 ],
 "metadata": {
  "kernelspec": {
   "display_name": "Python 3 (based on the module python3/2022.01)",
   "language": "python",
   "name": "python3_2022_01"
  },
  "language_info": {
   "codemirror_mode": {
    "name": "ipython",
    "version": 3
   },
   "file_extension": ".py",
   "mimetype": "text/x-python",
   "name": "python",
   "nbconvert_exporter": "python",
   "pygments_lexer": "ipython3",
   "version": "3.9.9"
  }
 },
 "nbformat": 4,
 "nbformat_minor": 4
}
