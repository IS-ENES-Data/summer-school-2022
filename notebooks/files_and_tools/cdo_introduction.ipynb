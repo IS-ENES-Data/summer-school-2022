{
 "cells": [
  {
   "cell_type": "markdown",
   "metadata": {},
   "source": [
    "# CDO - Climate Data Operators\n",
    "\n",
    "CDO User Guide https://code.mpimet.mpg.de/projects/cdo/embedded/cdo.pdf\n",
    "\n",
    "CDO Python bindings introduction https://code.mpimet.mpg.de/attachments/download/18824/cdo-bindings.pdf\n",
    "\n",
    "### Table of contents\n",
    "\n",
    "- About CDO\n",
    "- Import CDO module\n",
    "- Show CDO version\n",
    "- Set temporary directory\n",
    "- Delete temporay files\n",
    "- List CDO operators\n",
    "- List all operators starting with 'sel'\n",
    "- Show information about an operator\n",
    "- Turn debugging on/off\n",
    "- Display information about the file content\n",
    "- Show information about the variables value range, times, levels in more detail\n",
    "- Copy file\n",
    "- Select variables\n",
    "- Select timesteps\n",
    "- Operator chaining\n",
    "- Select a sub-region\n",
    "- Compute the field mean\n",
    "- Assign data to variable\n",
    "- Remapping\n",
    "- Remap data to grid of another file\n",
    "- Create a land-sea mask\n",
    "- Masking data\n",
    "- Delete temporary files\n",
    "\n",
    "<br>\n"
   ]
  },
  {
   "cell_type": "markdown",
   "metadata": {},
   "source": [
    "## About CDO\n",
    "\n",
    "See also https://code.mpimet.mpg.de/projects/cdo/wiki\n",
    "\n",
    "CDO is a large tool set for working on climate and NWP model data. NetCDF 3/4, GRIB 1/2 including SZIP (or AEC) and JPEG compression, EXTRA, SERVICE and IEG are supported as IO-formats. Apart from that CDO can be used to analyse any kind of gridded data not related to climate science. CDO has very small memory requirements and can process files larger than the physical memory.\n",
    "\n",
    "CDO is open source and released under the terms of the GNU General Public License v2 (GPL)."
   ]
  },
  {
   "cell_type": "markdown",
   "metadata": {},
   "source": [
    "<br>\n",
    "\n",
    "## Import CDO module\n",
    "\n",
    "Import the CDO module and set cdo to Cdo() which makes writing a little easier."
   ]
  },
  {
   "cell_type": "code",
   "execution_count": null,
   "metadata": {},
   "outputs": [],
   "source": [
    "from cdo import *\n",
    "\n",
    "cdo = Cdo()"
   ]
  },
  {
   "cell_type": "markdown",
   "metadata": {},
   "source": [
    "<br>\n",
    "\n",
    "## Show CDO version\n",
    "\n",
    "python-cdo version:"
   ]
  },
  {
   "cell_type": "code",
   "execution_count": null,
   "metadata": {},
   "outputs": [],
   "source": [
    "print(cdo.__version__())\n"
   ]
  },
  {
   "cell_type": "markdown",
   "metadata": {},
   "source": [
    "Based on CDO version:"
   ]
  },
  {
   "cell_type": "code",
   "execution_count": null,
   "metadata": {},
   "outputs": [],
   "source": [
    "print(cdo.version())"
   ]
  },
  {
   "cell_type": "markdown",
   "metadata": {},
   "source": [
    "<br>\n",
    "\n",
    "## Set temporary directory\n",
    "\n",
    "Set another directory for storing tempfiles with a constructor option and remove anything left in there when you experienced a crash or something like this"
   ]
  },
  {
   "cell_type": "code",
   "execution_count": null,
   "metadata": {},
   "outputs": [],
   "source": [
    "tempPath = './tmp/'\n",
    "cdo = Cdo(tempdir=tempPath)"
   ]
  },
  {
   "cell_type": "markdown",
   "metadata": {},
   "source": [
    "<br>\n",
    "\n",
    "## Delete temporary files"
   ]
  },
  {
   "cell_type": "code",
   "execution_count": null,
   "metadata": {},
   "outputs": [],
   "source": [
    "cdo.cleanTempDir()"
   ]
  },
  {
   "cell_type": "markdown",
   "metadata": {},
   "source": [
    "<br>\n",
    "\n",
    "## List CDO operators\n",
    "\n",
    "More than 800 operators are available."
   ]
  },
  {
   "cell_type": "code",
   "execution_count": null,
   "metadata": {},
   "outputs": [],
   "source": [
    "# list of operators\n",
    "cdo.operators"
   ]
  },
  {
   "cell_type": "code",
   "execution_count": null,
   "metadata": {},
   "outputs": [],
   "source": [
    "# get the number of existing operators of CDO"
   ]
  },
  {
   "cell_type": "markdown",
   "metadata": {},
   "source": [
    "**Excercise** To get the first 50 operators you can do what?"
   ]
  },
  {
   "cell_type": "code",
   "execution_count": null,
   "metadata": {},
   "outputs": [],
   "source": []
  },
  {
   "cell_type": "markdown",
   "metadata": {},
   "source": [
    "<br>\n",
    "\n",
    "## List all operators starting with 'sel'\n",
    "\n",
    "Use list comprehension\n"
   ]
  },
  {
   "cell_type": "code",
   "execution_count": null,
   "metadata": {},
   "outputs": [],
   "source": [
    "[key for key, value in cdo.operators.items() if key.startswith('sel')]"
   ]
  },
  {
   "cell_type": "markdown",
   "metadata": {},
   "source": [
    "## Turn debugging on/off\n",
    "\n",
    "Use the debug method of CDO to turn on or off debugging.\n"
   ]
  },
  {
   "cell_type": "code",
   "execution_count": null,
   "metadata": {},
   "outputs": [],
   "source": [
    "cdo.debug = True\n",
    "\n",
    "cdo.debug = False"
   ]
  },
  {
   "cell_type": "markdown",
   "metadata": {},
   "source": [
    "<br>\n",
    "\n",
    "## Show information about file content\n"
   ]
  },
  {
   "cell_type": "code",
   "execution_count": null,
   "metadata": {},
   "outputs": [],
   "source": [
    "!pwd"
   ]
  },
  {
   "cell_type": "code",
   "execution_count": null,
   "metadata": {},
   "outputs": [],
   "source": [
    "cdo.sinfon(input='../../data/rectilinear_grid_2D.nc')"
   ]
  },
  {
   "cell_type": "markdown",
   "metadata": {},
   "source": [
    "<br>\n",
    "\n",
    "## Display information about the file content\n"
   ]
  },
  {
   "cell_type": "code",
   "execution_count": null,
   "metadata": {},
   "outputs": [],
   "source": [
    "infile = '../data/rectilinear_grid_2D.nc'\n",
    "\n",
    "#cdo.sinfon(input=infile)"
   ]
  },
  {
   "cell_type": "markdown",
   "metadata": {},
   "source": [
    "In comparison to xarray's dataset information."
   ]
  },
  {
   "cell_type": "code",
   "execution_count": null,
   "metadata": {},
   "outputs": [],
   "source": [
    "import xarray as xr\n",
    "\n",
    "ds = xr.open_dataset('../../data/rectilinear_grid_2D.nc')\n",
    "\n",
    "print(ds.info())"
   ]
  },
  {
   "cell_type": "markdown",
   "metadata": {},
   "source": [
    "<br>\n",
    "\n",
    "## Show information about the variables value range, times, levels in more detail"
   ]
  },
  {
   "cell_type": "code",
   "execution_count": null,
   "metadata": {},
   "outputs": [],
   "source": [
    "cdo.infon(input='../../data/rectilinear_grid_2D.nc')"
   ]
  },
  {
   "cell_type": "markdown",
   "metadata": {},
   "source": [
    "<br>\n",
    "\n",
    "## Copy file\n",
    "\n",
    "Copy the input file to outfile.nc and change the data precision from float32 to float64."
   ]
  },
  {
   "cell_type": "code",
   "execution_count": null,
   "metadata": {},
   "outputs": [],
   "source": [
    "cdo.copy(input='../../data/rectilinear_grid_2D.nc', options='-b F64', output='outfile.nc')\n",
    "cdo.sinfon(input='outfile.nc')"
   ]
  },
  {
   "cell_type": "markdown",
   "metadata": {},
   "source": [
    "<br>\n",
    "\n",
    "To make things easier for us, we define the variables infile and outfile for the input and output files.\n"
   ]
  },
  {
   "cell_type": "code",
   "execution_count": null,
   "metadata": {},
   "outputs": [],
   "source": [
    "infile  = '../../data/rectilinear_grid_2D.nc'\n",
    "outfile = 'outfile.nc'"
   ]
  },
  {
   "cell_type": "markdown",
   "metadata": {},
   "source": [
    "<br>\n",
    "\n",
    "## Select variables\n"
   ]
  },
  {
   "cell_type": "code",
   "execution_count": null,
   "metadata": {},
   "outputs": [],
   "source": [
    "cdo.selvar('tsurf', input=infile, output=outfile)\n",
    "cdo.sinfon(input=outfile)"
   ]
  },
  {
   "cell_type": "code",
   "execution_count": null,
   "metadata": {},
   "outputs": [],
   "source": [
    "cdo.selvar('u10,v10', input=infile, output=outfile)\n",
    "cdo.sinfon(input=outfile)"
   ]
  },
  {
   "cell_type": "markdown",
   "metadata": {},
   "source": [
    "<br>\n",
    "\n",
    "## Select timesteps\n",
    "\n",
    "Select timestep 1 and 10:"
   ]
  },
  {
   "cell_type": "code",
   "execution_count": null,
   "metadata": {},
   "outputs": [],
   "source": [
    "cdo.seltimestep('1,10', input=infile, output=outfile)\n",
    "cdo.sinfon(input=outfile)"
   ]
  },
  {
   "cell_type": "markdown",
   "metadata": {},
   "source": [
    "Select timestep 1 to 10:"
   ]
  },
  {
   "cell_type": "code",
   "execution_count": null,
   "metadata": {},
   "outputs": [],
   "source": [
    "cdo.seltimestep('1/10', input=infile, output=outfile)\n",
    "cdo.sinfon(input=outfile)"
   ]
  },
  {
   "cell_type": "markdown",
   "metadata": {},
   "source": [
    "<br>\n",
    "\n",
    "## Operator chaining\n",
    "\n",
    "Operators with a fixed number of input files (streams) and only one output file can be combined. The input parameters must begin with an '-' and they will be executed from right to left.\n",
    "\n",
    "Select the variables u10 and v10 and then select the first 10 timesteps:"
   ]
  },
  {
   "cell_type": "code",
   "execution_count": null,
   "metadata": {},
   "outputs": [],
   "source": [
    "cdo.seltimestep('1/10', input='-selvar,u10,v10 '+infile, output=outfile)\n",
    "cdo.sinfon(input=outfile)"
   ]
  },
  {
   "cell_type": "markdown",
   "metadata": {},
   "source": [
    "Use operators and options at once to do the above sections and change the output precision:"
   ]
  },
  {
   "cell_type": "code",
   "execution_count": null,
   "metadata": {},
   "outputs": [],
   "source": [
    "cdo.seltimestep('1/10', input='-selvar,u10,v10 '+infile, options='-b F64', output=outfile)\n",
    "cdo.sinfon(input=outfile)"
   ]
  },
  {
   "cell_type": "markdown",
   "metadata": {},
   "source": [
    "<br>\n",
    "\n",
    "## Select a sub-region"
   ]
  },
  {
   "cell_type": "code",
   "execution_count": null,
   "metadata": {},
   "outputs": [],
   "source": [
    "cdo.sellonlatbox('20,30,70,80', input='-seltimestep,1 '+infile, output=outfile)\n",
    "cdo.sinfon(input=outfile)"
   ]
  },
  {
   "cell_type": "markdown",
   "metadata": {},
   "source": [
    "<br>\n",
    "\n",
    "## Compute the field mean\n",
    "\n",
    "Compute the mean of the horizontal field for each timestep (-> time series)."
   ]
  },
  {
   "cell_type": "code",
   "execution_count": null,
   "metadata": {},
   "outputs": [],
   "source": [
    "cdo.fldmean(input=\"-selname,tsurf \"+infile, output='outfile.nc')\n",
    "cdo.sinfon(input=outfile)"
   ]
  },
  {
   "cell_type": "markdown",
   "metadata": {},
   "source": [
    "Plot the fieldmean data:"
   ]
  },
  {
   "cell_type": "code",
   "execution_count": null,
   "metadata": {},
   "outputs": [],
   "source": [
    "cdo.fldmean(input=\"-selname,tsurf \"+infile, returnXArray='tsurf').plot()"
   ]
  },
  {
   "cell_type": "markdown",
   "metadata": {},
   "source": [
    "<br>\n",
    "\n",
    "## Assign data to variable\n",
    "\n",
    "Assign the file variable precip to the python variable precipitation:"
   ]
  },
  {
   "cell_type": "code",
   "execution_count": null,
   "metadata": {},
   "outputs": [],
   "source": [
    "precipitation = cdo.selvar('precip', input=infile, returnXArray='precip')\n",
    "print(precipitation)"
   ]
  },
  {
   "cell_type": "markdown",
   "metadata": {},
   "source": [
    "Print the value of the first timestep, first latitude, first longitude:"
   ]
  },
  {
   "cell_type": "code",
   "execution_count": null,
   "metadata": {},
   "outputs": [],
   "source": [
    "print(precipitation.values[0,0,0])"
   ]
  },
  {
   "cell_type": "markdown",
   "metadata": {},
   "source": [
    "Compute the fieldmean:"
   ]
  },
  {
   "cell_type": "code",
   "execution_count": null,
   "metadata": {},
   "outputs": [],
   "source": [
    "tsurf_fldmean = cdo.fldmean(input=infile, returnXArray='tsurf')\n",
    "print(tsurf_fldmean.values[0:10,0,0])"
   ]
  },
  {
   "cell_type": "markdown",
   "metadata": {},
   "source": [
    "<br>\n",
    "\n",
    "## Remapping\n",
    "\n",
    "Interpolate the data of input file to a new grid using the bilinear interpolation method.\n",
    "\n",
    "For the ease of use, we select the variable tsurf and only the first timestep to interpolate the data to a longitude 1 deg x latitude 1 deg (r360x180) grid."
   ]
  },
  {
   "cell_type": "code",
   "execution_count": null,
   "metadata": {},
   "outputs": [],
   "source": [
    "cdo.remapbil('r360x180', input='-seltimestep,1 -selvar,tsurf '+infile, output=outfile)"
   ]
  },
  {
   "cell_type": "markdown",
   "metadata": {},
   "source": [
    "To demonstrate the functionality we increase the resolution of the input data to a 0.5 deg grid and plot the original and the interpolated data.\n",
    "\n",
    "Original input data:"
   ]
  },
  {
   "cell_type": "code",
   "execution_count": null,
   "metadata": {},
   "outputs": [],
   "source": [
    "import cartopy.crs as ccrs\n",
    "import xarray as xr\n",
    "tsurf_orig = xr.open_dataset(infile).tsurf[0,:,:]\n",
    "\n",
    "data = tsurf_orig.plot(subplot_kws=dict(projection=ccrs.PlateCarree(), facecolor='gray'), transform=ccrs.PlateCarree(),)\n",
    "\n",
    "data.axes.set_extent([-10.,20.,30.,60.])\n",
    "data.axes.coastlines()"
   ]
  },
  {
   "cell_type": "code",
   "execution_count": null,
   "metadata": {},
   "outputs": [],
   "source": [
    "tsurf = cdo.remapbil('r720x360', input='-seltimestep,1 '+infile, returnXArray='tsurf')\n",
    "\n",
    "data = tsurf.plot(subplot_kws=dict(projection=ccrs.PlateCarree(), facecolor='gray'), transform=ccrs.PlateCarree(),)\n",
    "\n",
    "data.axes.set_extent([-10.,20.,30.,60.])\n",
    "data.axes.coastlines()"
   ]
  },
  {
   "cell_type": "markdown",
   "metadata": {},
   "source": [
    "<br>\n",
    "\n",
    "## Remap data to a grid of another file"
   ]
  },
  {
   "cell_type": "code",
   "execution_count": null,
   "metadata": {},
   "outputs": [],
   "source": [
    "cdo.topo(options='-f nc', output='topo.nc')\n",
    "\n",
    "tsurf_2 = cdo.remapbil('topo.nc', input=\"-seltimestep,1 \"+infile, returnXArray='tsurf')"
   ]
  },
  {
   "cell_type": "markdown",
   "metadata": {},
   "source": [
    "<br>\n",
    "\n",
    "## Create a land-sea mask\n",
    "\n",
    "CDO provides a global 0.5 degree topography dataset that can be used to generate a land sea mask. First, we interpolate the topography data to the same grid as the data file. With the operator `gtc` we set all values greater than 0.5 m to 1 and all other values to 0."
   ]
  },
  {
   "cell_type": "code",
   "execution_count": null,
   "metadata": {},
   "outputs": [],
   "source": [
    "lsm = cdo.gtc(0.5, input='-remapbil,'+infile+' -topo', returnXArray='topo')\n",
    "print(lsm)"
   ]
  },
  {
   "cell_type": "code",
   "execution_count": null,
   "metadata": {},
   "outputs": [],
   "source": [
    "p = lsm.plot(subplot_kws=dict(projection=ccrs.PlateCarree(), facecolor='gray'), transform=ccrs.PlateCarree(),)\n",
    "p.axes.set_extent([-20.,20.,30.,60.])\n",
    "p.axes.coastlines()"
   ]
  },
  {
   "cell_type": "markdown",
   "metadata": {},
   "source": [
    "<br>\n",
    "\n",
    "## Masking data\n",
    "\n",
    "Before we can use a mask on a data variable we need to create a mask file using the same grid as the data variable."
   ]
  },
  {
   "cell_type": "code",
   "execution_count": null,
   "metadata": {},
   "outputs": [],
   "source": [
    "cdo.setname('lsm', input='-gtc,0.5 -remapbil,'+infile+' -topo', options='-f nc', output='lsm.nc')"
   ]
  },
  {
   "cell_type": "markdown",
   "metadata": {},
   "source": [
    "Now, we want to get only tsurf values over land for timestep 1."
   ]
  },
  {
   "cell_type": "code",
   "execution_count": null,
   "metadata": {},
   "outputs": [],
   "source": [
    "masked = cdo.setctomiss(0, input='-mul lsm.nc -seltimestep,1 '+infile, returnXArray='tsurf')"
   ]
  },
  {
   "cell_type": "markdown",
   "metadata": {},
   "source": [
    "Let's see how it looks like."
   ]
  },
  {
   "cell_type": "code",
   "execution_count": null,
   "metadata": {},
   "outputs": [],
   "source": [
    "p = masked.plot(subplot_kws=dict(projection=ccrs.PlateCarree(), facecolor='gray'), transform=ccrs.PlateCarree(),)\n",
    "p.axes.set_extent([-20.,20.,30.,60.])\n",
    "p.axes.coastlines()"
   ]
  },
  {
   "cell_type": "markdown",
   "metadata": {},
   "source": [
    "Use a variables instead of output files."
   ]
  },
  {
   "cell_type": "code",
   "execution_count": null,
   "metadata": {},
   "outputs": [],
   "source": [
    "lsm = cdo.setname('lsm', input='-gtc,0.5 -remapbil,'+infile+' -topo', options='-f nc', returnXArray='lsm')"
   ]
  },
  {
   "cell_type": "code",
   "execution_count": null,
   "metadata": {},
   "outputs": [],
   "source": [
    "tsurf = cdo.seltimestep(1, input='-selvar,tsurf '+infile, returnXArray='tsurf')"
   ]
  },
  {
   "cell_type": "code",
   "execution_count": null,
   "metadata": {},
   "outputs": [],
   "source": [
    "masked = tsurf * lsm\n",
    "print(masked)"
   ]
  },
  {
   "cell_type": "markdown",
   "metadata": {},
   "source": [
    "Plot the masked data."
   ]
  },
  {
   "cell_type": "code",
   "execution_count": null,
   "metadata": {},
   "outputs": [],
   "source": [
    "masked.plot(subplot_kws=dict(projection=ccrs.PlateCarree(), facecolor='gray'), transform=ccrs.PlateCarree(),\n",
    "           cbar_kwargs={'orientation': 'horizontal'})\n",
    "p.axes.set_extent([-20.,20.,30.,60.])\n",
    "p.axes.coastlines()  "
   ]
  },
  {
   "cell_type": "markdown",
   "metadata": {},
   "source": [
    "And now we want to mask the land part of the data. The easiest way is to set all zeros to one and all ones to NaN. Matplotlib will automatically use the color _grey_ for the missing values."
   ]
  },
  {
   "cell_type": "code",
   "execution_count": null,
   "metadata": {},
   "outputs": [],
   "source": [
    "import numpy as np\n",
    "import matplotlib as mpl\n",
    "import copy\n",
    "\n",
    "lsm = np.where(lsm==0, 1, np.nan)\n",
    "\n",
    "masked = tsurf * lsm\n",
    "\n",
    "masked.plot(subplot_kws=dict(projection=ccrs.PlateCarree(), facecolor='gray'), transform=ccrs.PlateCarree(),\n",
    "           cbar_kwargs={'orientation': 'horizontal'})\n",
    "p.axes.set_extent([-20.,20.,30.,60.])\n",
    "p.axes.coastlines()"
   ]
  },
  {
   "cell_type": "markdown",
   "metadata": {},
   "source": [
    "<br>\n",
    "\n",
    "## Delete temporary files"
   ]
  },
  {
   "cell_type": "code",
   "execution_count": null,
   "metadata": {},
   "outputs": [],
   "source": [
    "cdo.cleanTempDir()"
   ]
  },
  {
   "cell_type": "markdown",
   "metadata": {},
   "source": [
    "More data analysis packages:\n",
    "* iris: https://scitools-iris.readthedocs.io/en/stable [example gallery](https://scitools-iris.readthedocs.io/en/stable/generated/gallery/index.html#sphx-glr-generated-gallery)\n",
    "* SciPy: https://www.scipy.org/docs.html\n",
    "* geocat: https://geocat.ucar.edu [example gallery](https://geocat-examples.readthedocs.io/en/latest/gallery/index.html)\n",
    "* seaborn: https://seaborn.pydata.org [example gallery](https://seaborn.pydata.org/examples/index.html)\n"
   ]
  }
 ],
 "metadata": {
  "kernelspec": {
   "display_name": "Python 3 (based on the module python3/2022.01)",
   "language": "python",
   "name": "python3_2022_01"
  },
  "language_info": {
   "codemirror_mode": {
    "name": "ipython",
    "version": 3
   },
   "file_extension": ".py",
   "mimetype": "text/x-python",
   "name": "python",
   "nbconvert_exporter": "python",
   "pygments_lexer": "ipython3",
   "version": "3.9.9"
  }
 },
 "nbformat": 4,
 "nbformat_minor": 4
}
