{
 "cells": [
  {
   "cell_type": "markdown",
   "metadata": {
    "tags": []
   },
   "source": [
    "# Calculate Monthly Anomaly and Nino34 Index Using CDO\n",
    "\n",
    "\n",
    "In this notebook we demonstrate how to calculate monthly anomoly and Nino34 index using CDO:\n",
    "\n",
    "- Look at the information contained in our example file\n",
    "- Visualise the data using ncview \n",
    "- Calculate monthly anomaly\n",
    "- Calculate Nino34 Climate Index\n",
    "\n",
    "This example uses the Coupled Model Intercomparison Project (CMIP6) collections. \n",
    "\n",
    "---\n",
    "inspired by the notebook in https://github.com/NCI-data-analysis-platform/climate-cmip.git\n",
    "- Original Authors: NCI Virtual Research Environment Team\n",
    "- Keywords: CMIP, CDO, monthly anomaly, Nino34 Index\n",
    "- Create Date: 2019-Oct; Update Date: 2021-Feb\n",
    "---\n",
    "- Adapted to DKRZ env: S. Kindermann: 2022-Aug\n",
    "\n",
    "This notebook is licenced under the [Creative Commons Attribution 4.0 International license](https://creativecommons.org/licenses/by/4.0/)"
   ]
  },
  {
   "cell_type": "markdown",
   "metadata": {},
   "source": [
    "## What is CDO?\n",
    "\n",
    "CDO stands for \"Climate Data Operators\". CDO is a collection of command line operators to manipulate and analyse Climate and NWP model Data. It support the following data formats: GRIB 1/2, netCDF 3/4, SERVICE, EXTRA and IEG. There are more than 600 operators available. See [CDO's homepage](https://code.mpimet.mpg.de/projects/cdo) for more information about this library.\n",
    "\n",
    "To load the CDO module on the interactive shell at DKRZ, run:\n",
    "\n",
    "``` $ module load cdo```"
   ]
  },
  {
   "cell_type": "code",
   "execution_count": null,
   "metadata": {},
   "outputs": [],
   "source": [
    "#!module load cdo"
   ]
  },
  {
   "cell_type": "markdown",
   "metadata": {},
   "source": [
    "### List the path of the CMIP6 data"
   ]
  },
  {
   "cell_type": "markdown",
   "metadata": {},
   "source": [
    "Here we will be using an example CMIP6 file that includes the near surface temperature from the 20th century all-forcing historical simulation based on the CESM2.0 model of NCAR. "
   ]
  },
  {
   "cell_type": "code",
   "execution_count": null,
   "metadata": {},
   "outputs": [],
   "source": [
    "! ls /pool/data/CMIP6/data/CMIP/NCAR/CESM2/historical/r1i1p1f1/Amon/tas/gn/v20190308/tas_Amon_CESM2_historical_r1i1p1f1_gn_185001-201412.nc"
   ]
  },
  {
   "cell_type": "markdown",
   "metadata": {},
   "source": [
    "### Have a look at the data "
   ]
  },
  {
   "cell_type": "markdown",
   "metadata": {},
   "source": [
    "**CDO Basic usage:** \n",
    "`$ cdo sinfo filename | head -xx`\n",
    "\n",
    "**head** displays only onely the first lines in the termial."
   ]
  },
  {
   "cell_type": "code",
   "execution_count": null,
   "metadata": {},
   "outputs": [],
   "source": [
    "!cdo sinfo /pool/data/CMIP6/data/CMIP/NCAR/CESM2/historical/r1i1p1f1/Amon/tas/gn/v20190308/tas_Amon_CESM2_historical_r1i1p1f1_gn_185001-201412.nc | head -15"
   ]
  },
  {
   "cell_type": "markdown",
   "metadata": {},
   "source": [
    "### Let's see which years this file includes"
   ]
  },
  {
   "cell_type": "markdown",
   "metadata": {},
   "source": [
    "We can use the function **showyear** to display all the years in this file\n",
    "\n",
    "**Basic usage:**\n",
    "\n",
    "```\n",
    "$ cdo showyear <file>\n",
    "```\n"
   ]
  },
  {
   "cell_type": "code",
   "execution_count": null,
   "metadata": {},
   "outputs": [],
   "source": [
    "!cdo showyear /pool/data/CMIP6/data/CMIP/NCAR/CESM2/historical/r1i1p1f1/Amon/tas/gn/v20190308/tas_Amon_CESM2_historical_r1i1p1f1_gn_185001-201412.nc"
   ]
  },
  {
   "cell_type": "markdown",
   "metadata": {},
   "source": [
    "### Calculate monthly anomaly "
   ]
  },
  {
   "cell_type": "markdown",
   "metadata": {},
   "source": [
    "In this exercise, we are going to calculate the monthly anomaly between 1971 and 2000. We will:\n",
    "\n",
    "1. Choose climatology years 1971-2000 \n",
    "2. Calculate the monthly average during 1971-2000\n",
    "3. Subtract the monthly average from the original file to obtain the difference, i.e., anomaly.\n",
    "\n",
    "We need three functions to implement this procedure:\n",
    "\n",
    " \n",
    "```\n",
    "$ cdo selyear, year_lower, year_upper <input.nc> <output.nc> \n",
    "\n",
    "```\n",
    "\n",
    "``selyear`` selects the years of interest and generates a new file.\n",
    "\n",
    "\n",
    "```\n",
    "$ cdo ymonmean <input.nc> <output.nc> \n",
    "\n",
    "```\n",
    "\n",
    "`ymonmean` calculates the mean monthly values from a multi-year monthly timeseries.\n",
    "\n",
    "\n",
    "```\n",
    "$ cdo ymonsub <input1.nc> <input2.nc> <output.nc> \n",
    "\n",
    "```\n",
    "\n",
    "`ymonsub` calculates the difference between two input files and saves this difference as an output file.\n",
    "\n",
    "However, if we do the three steps above we will generate unnecessary intermediate files. CDO allows for the piping of multiple commands so we can chain together the commands above:\n",
    "\n",
    "```\n",
    "$ cdo ymonsub <input.nc> -ymonmean -selyear,1971,2000 <input2.nc> output.nc\n",
    "\n",
    "```\n"
   ]
  },
  {
   "cell_type": "code",
   "execution_count": null,
   "metadata": {},
   "outputs": [],
   "source": [
    "### create output directory if it doesn't already exist\n",
    "import os\n",
    "outdir = './output'\n",
    "if not os.path.exists(outdir):\n",
    "    os.mkdir(outdir)\n",
    "    \n",
    "### run our cdo command\n",
    "!cdo ymonsub /pool/data/CMIP6/data/CMIP/NCAR/CESM2/historical/r1i1p1f1/Amon/tas/gn/v20190308/tas_Amon_CESM2_historical_r1i1p1f1_gn_185001-201412.nc -ymonmean -selyear,1971/2000 /pool/data/CMIP6/data/CMIP/NCAR/CESM2/historical/r1i1p1f1/Amon/tas/gn/v20190308/tas_Amon_CESM2_historical_r1i1p1f1_gn_185001-201412.nc ./output/tas_Amon_CESM2_historical_r1i1p1f1_gn_197101-200012_anomaly.nc"
   ]
  },
  {
   "cell_type": "markdown",
   "metadata": {},
   "source": [
    "### Let's have a look at the monthly anomaly"
   ]
  },
  {
   "cell_type": "code",
   "execution_count": null,
   "metadata": {},
   "outputs": [],
   "source": [
    "!ncdump -h ./output/tas_Amon_CESM2_historical_r1i1p1f1_gn_197101-200012_anomaly.nc"
   ]
  },
  {
   "cell_type": "markdown",
   "metadata": {},
   "source": [
    "### Calculate Nino34 Index using monthly anomaly\n",
    "\n",
    "There are several indices used to monitor the tropical Pacific, all of which are based on SST anomalies averaged across a given region.  Usually the anomalies are computed relative to a base period of 30 years.  The Niño 3.4 index and the Oceanic Niño Index (ONI) are the most commonly used indices to define El Niño and La Niña events. See more about [sea surface tempreture indices](https://climatedataguide.ucar.edu/climate-data/nino-sst-indices-nino-12-3-34-4-oni-and-tni)."
   ]
  },
  {
   "cell_type": "markdown",
   "metadata": {},
   "source": [
    "To calcuate Nino34 Index, we need to choose the Nino34 region with lat/lon bbox = (-170,-120,-5,5)"
   ]
  },
  {
   "cell_type": "code",
   "execution_count": null,
   "metadata": {},
   "outputs": [],
   "source": [
    "!cdo sellonlatbox,-170,-120,-5,5 ./output/tas_Amon_CESM2_historical_r1i1p1f1_gn_197101-200012_anomaly.nc ./output/Nino34Region.nc"
   ]
  },
  {
   "cell_type": "markdown",
   "metadata": {},
   "source": [
    "Then use function **fldavg** to calculate the field average and save the result as the Nino34 index."
   ]
  },
  {
   "cell_type": "code",
   "execution_count": null,
   "metadata": {},
   "outputs": [],
   "source": [
    "!cdo fldavg ./output/Nino34Region.nc ./output/Nino34Idx.nc"
   ]
  },
  {
   "cell_type": "markdown",
   "metadata": {},
   "source": [
    "### Summary\n",
    "\n",
    "In this example, we show how to use CDO command line operators to calculate monthly anomaly and Nino34 Climate Index."
   ]
  },
  {
   "cell_type": "markdown",
   "metadata": {},
   "source": [
    "## Reference\n",
    "\n",
    "\n",
    "https://code.mpimet.mpg.de/projects/cdo/embedded/cdo.pdf"
   ]
  }
 ],
 "metadata": {
  "kernelspec": {
   "display_name": "Python 3 (based on the module python3/2022.01)",
   "language": "python",
   "name": "python3_2022_01"
  },
  "language_info": {
   "codemirror_mode": {
    "name": "ipython",
    "version": 3
   },
   "file_extension": ".py",
   "mimetype": "text/x-python",
   "name": "python",
   "nbconvert_exporter": "python",
   "pygments_lexer": "ipython3",
   "version": "3.9.9"
  }
 },
 "nbformat": 4,
 "nbformat_minor": 4
}
