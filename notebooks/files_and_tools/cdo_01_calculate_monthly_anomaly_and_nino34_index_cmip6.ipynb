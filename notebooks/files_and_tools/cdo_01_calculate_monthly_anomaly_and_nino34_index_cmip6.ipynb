{
 "cells": [
  {
   "cell_type": "markdown",
   "metadata": {
    "tags": []
   },
   "source": [
    "# Calculate Monthly Anomaly and Nino34 Index Using CDO\n",
    "\n",
    "\n",
    "In this notebook we demonstrate how to calculate monthly anomoly and Nino34 index using CDO:\n",
    "\n",
    "- Look at the information contained in our example file\n",
    "- Visualise the data using ncview \n",
    "- Calculate monthly anomaly\n",
    "- Calculate Nino34 Climate Index\n",
    "\n",
    "This example uses the Coupled Model Intercomparison Project (CMIP6) collections. \n",
    "\n",
    "---\n",
    "inspired by the notebook in https://github.com/NCI-data-analysis-platform/climate-cmip.git\n",
    "- Original Authors: NCI Virtual Research Environment Team\n",
    "- Keywords: CMIP, CDO, monthly anomaly, Nino34 Index\n",
    "- Create Date: 2019-Oct; Update Date: 2021-Feb\n",
    "---\n",
    "- Adapted to DKRZ env: S. Kindermann: 2022-Aug\n",
    "\n",
    "This notebook is licenced under the [Creative Commons Attribution 4.0 International license](https://creativecommons.org/licenses/by/4.0/)"
   ]
  },
  {
   "cell_type": "markdown",
   "metadata": {},
   "source": [
    "## What is CDO?\n",
    "\n",
    "CDO stands for \"Climate Data Operators\". CDO is a collection of command line operators to manipulate and analyse Climate and NWP model Data. It support the following data formats: GRIB 1/2, netCDF 3/4, SERVICE, EXTRA and IEG. There are more than 600 operators available. See [CDO's homepage](https://code.mpimet.mpg.de/projects/cdo) for more information about this library.\n",
    "\n",
    "To load the CDO module on the interactive shell at DKRZ, run:\n",
    "\n",
    "``` $ module load cdo```"
   ]
  },
  {
   "cell_type": "code",
   "execution_count": 1,
   "metadata": {},
   "outputs": [],
   "source": [
    "#!module load cdo"
   ]
  },
  {
   "cell_type": "markdown",
   "metadata": {},
   "source": [
    "### List the path of the CMIP6 data"
   ]
  },
  {
   "cell_type": "markdown",
   "metadata": {},
   "source": [
    "Here we will be using an example CMIP6 file that includes the near surface temperature from the 20th century all-forcing historical simulation based on the CESM2.0 model of NCAR. "
   ]
  },
  {
   "cell_type": "code",
   "execution_count": 2,
   "metadata": {},
   "outputs": [
    {
     "name": "stdout",
     "output_type": "stream",
     "text": [
      "/pool/data/CMIP6/data/CMIP/NCAR/CESM2/historical/r1i1p1f1/Amon/tas/gn/v20190308/tas_Amon_CESM2_historical_r1i1p1f1_gn_185001-201412.nc\n"
     ]
    }
   ],
   "source": [
    "! ls /pool/data/CMIP6/data/CMIP/NCAR/CESM2/historical/r1i1p1f1/Amon/tas/gn/v20190308/tas_Amon_CESM2_historical_r1i1p1f1_gn_185001-201412.nc"
   ]
  },
  {
   "cell_type": "markdown",
   "metadata": {},
   "source": [
    "### Have a look at the data "
   ]
  },
  {
   "cell_type": "markdown",
   "metadata": {},
   "source": [
    "**CDO Basic usage:** \n",
    "`$ cdo sinfo filename | head -xx`\n",
    "\n",
    "**head** displays only onely the first lines in the termial."
   ]
  },
  {
   "cell_type": "code",
   "execution_count": 1,
   "metadata": {},
   "outputs": [
    {
     "name": "stdout",
     "output_type": "stream",
     "text": [
      "   File format : NetCDF4 zip\n",
      "    -1 : Institut Source   T Steptype Levels Num    Points Num Dtype : Parameter ID\n",
      "     1 : unknown  CESM2    v instant       1   1     55296   1  F32z : -1            \n",
      "   Grid coordinates :\n",
      "     1 : lonlat                   : points=55296 (288x192)\n",
      "                              lon : 0 to 358.75 by 1.25 degrees_east  circular\n",
      "                              lat : -90 to 90 by 0.9424084 degrees_north\n",
      "                        available : cellbounds\n",
      "   Vertical coordinates :\n",
      "     1 : surface                  : levels=1\n",
      "   Time coordinate :\n",
      "                             time : 1980 steps\n",
      "     RefTime =  0001-01-01 00:00:00  Units = days  Calendar = 365_day  Bounds = true\n",
      "  YYYY-MM-DD hh:mm:ss  YYYY-MM-DD hh:mm:ss  YYYY-MM-DD hh:mm:ss  YYYY-MM-DD hh:mm:ss\n",
      "  1850-01-15 12:00:00  1850-02-14 00:00:00  1850-03-15 12:00:00  1850-04-15 00:00:00\n"
     ]
    }
   ],
   "source": [
    "!cdo sinfo /pool/data/CMIP6/data/CMIP/NCAR/CESM2/historical/r1i1p1f1/Amon/tas/gn/v20190308/tas_Amon_CESM2_historical_r1i1p1f1_gn_185001-201412.nc | head -15"
   ]
  },
  {
   "cell_type": "markdown",
   "metadata": {},
   "source": [
    "### Let's see which years this file includes"
   ]
  },
  {
   "cell_type": "markdown",
   "metadata": {},
   "source": [
    "We can use the function **showyear** to display all the years in this file\n",
    "\n",
    "**Basic usage:**\n",
    "\n",
    "```\n",
    "$ cdo showyear <file>\n",
    "```\n"
   ]
  },
  {
   "cell_type": "code",
   "execution_count": 2,
   "metadata": {},
   "outputs": [
    {
     "name": "stdout",
     "output_type": "stream",
     "text": [
      " 1850 1851 1852 1853 1854 1855 1856 1857 1858 1859 1860 1861 1862 1863 1864 1865 1866 1867 1868 1869\n",
      " 1870 1871 1872 1873 1874 1875 1876 1877 1878 1879 1880 1881 1882 1883 1884 1885 1886 1887 1888 1889\n",
      " 1890 1891 1892 1893 1894 1895 1896 1897 1898 1899 1900 1901 1902 1903 1904 1905 1906 1907 1908 1909\n",
      " 1910 1911 1912 1913 1914 1915 1916 1917 1918 1919 1920 1921 1922 1923 1924 1925 1926 1927 1928 1929\n",
      " 1930 1931 1932 1933 1934 1935 1936 1937 1938 1939 1940 1941 1942 1943 1944 1945 1946 1947 1948 1949\n",
      " 1950 1951 1952 1953 1954 1955 1956 1957 1958 1959 1960 1961 1962 1963 1964 1965 1966 1967 1968 1969\n",
      " 1970 1971 1972 1973 1974 1975 1976 1977 1978 1979 1980 1981 1982 1983 1984 1985 1986 1987 1988 1989\n",
      " 1990 1991 1992 1993 1994 1995 1996 1997 1998 1999 2000 2001 2002 2003 2004 2005 2006 2007 2008 2009\n",
      " 2010 2011 2012 2013 2014\n",
      "\u001b[32mcdo    showyear: \u001b[0mProcessed 1 variable over 1980 timesteps [0.17s 50MB].\n"
     ]
    }
   ],
   "source": [
    "!cdo showyear /pool/data/CMIP6/data/CMIP/NCAR/CESM2/historical/r1i1p1f1/Amon/tas/gn/v20190308/tas_Amon_CESM2_historical_r1i1p1f1_gn_185001-201412.nc"
   ]
  },
  {
   "cell_type": "markdown",
   "metadata": {},
   "source": [
    "### Calculate monthly anomaly "
   ]
  },
  {
   "cell_type": "markdown",
   "metadata": {},
   "source": [
    "In this exercise, we are going to calculate the monthly anomaly between 1971 and 2000. We will:\n",
    "\n",
    "1. Choose climatology years 1971-2000 \n",
    "2. Calculate the monthly average during 1971-2000\n",
    "3. Subtract the monthly average from the original file to obtain the difference, i.e., anomaly.\n",
    "\n",
    "We need three functions to implement this procedure:\n",
    "\n",
    " \n",
    "```\n",
    "$ cdo selyear, year_lower, year_upper <input.nc> <output.nc> \n",
    "\n",
    "```\n",
    "\n",
    "``selyear`` selects the years of interest and generates a new file.\n",
    "\n",
    "\n",
    "```\n",
    "$ cdo ymonmean <input.nc> <output.nc> \n",
    "\n",
    "```\n",
    "\n",
    "`ymonmean` calculates the mean monthly values from a multi-year monthly timeseries.\n",
    "\n",
    "\n",
    "```\n",
    "$ cdo ymonsub <input1.nc> <input2.nc> <output.nc> \n",
    "\n",
    "```\n",
    "\n",
    "`ymonsub` calculates the difference between two input files and saves this difference as an output file.\n",
    "\n",
    "However, if we do the three steps above we will generate unnecessary intermediate files. CDO allows for the piping of multiple commands so we can chain together the commands above:\n",
    "\n",
    "```\n",
    "$ cdo ymonsub <input.nc> -ymonmean -selyear,1971,2000 <input2.nc> output.nc\n",
    "\n",
    "```\n"
   ]
  },
  {
   "cell_type": "code",
   "execution_count": 3,
   "metadata": {},
   "outputs": [
    {
     "name": "stdout",
     "output_type": "stream",
     "text": [
      "\u001b[32mcdo(1) ymonmean: \u001b[0mProcess started\n",
      "\u001b[32mcdo(2) selyear: \u001b[0mProcess started\n",
      "\u001b[32mcdo(2) selyear: \u001b[0mProcessed 19906560 values from 1 variable over 1980 timesteps.\n",
      "\u001b[32mcdo(1) ymonmean: \u001b[0mProcessed 19906560 values from 1 variable over 360 timesteps.\n",
      "\u001b[32mcdo    ymonsub: \u001b[0mProcessed 110149632 values from 2 variables over 1992 timesteps [2.30s 88MB].\n"
     ]
    }
   ],
   "source": [
    "### create output directory if it doesn't already exist\n",
    "import os\n",
    "outdir = './output'\n",
    "if not os.path.exists(outdir):\n",
    "    os.mkdir(outdir)\n",
    "    \n",
    "### run our cdo command\n",
    "!cdo ymonsub /pool/data/CMIP6/data/CMIP/NCAR/CESM2/historical/r1i1p1f1/Amon/tas/gn/v20190308/tas_Amon_CESM2_historical_r1i1p1f1_gn_185001-201412.nc -ymonmean -selyear,1971/2000 /pool/data/CMIP6/data/CMIP/NCAR/CESM2/historical/r1i1p1f1/Amon/tas/gn/v20190308/tas_Amon_CESM2_historical_r1i1p1f1_gn_185001-201412.nc ./output/tas_Amon_CESM2_historical_r1i1p1f1_gn_197101-200012_anomaly.nc"
   ]
  },
  {
   "cell_type": "markdown",
   "metadata": {},
   "source": [
    "### Let's have a look at the monthly anomaly"
   ]
  },
  {
   "cell_type": "code",
   "execution_count": 4,
   "metadata": {},
   "outputs": [
    {
     "name": "stdout",
     "output_type": "stream",
     "text": [
      "netcdf tas_Amon_CESM2_historical_r1i1p1f1_gn_197101-200012_anomaly {\n",
      "dimensions:\n",
      "\ttime = UNLIMITED ; // (1980 currently)\n",
      "\tbnds = 2 ;\n",
      "\tlon = 288 ;\n",
      "\tlat = 192 ;\n",
      "variables:\n",
      "\tdouble time(time) ;\n",
      "\t\ttime:standard_name = \"time\" ;\n",
      "\t\ttime:bounds = \"time_bnds\" ;\n",
      "\t\ttime:units = \"days since 0001-01-01 00:00:00\" ;\n",
      "\t\ttime:calendar = \"365_day\" ;\n",
      "\t\ttime:axis = \"T\" ;\n",
      "\tdouble time_bnds(time, bnds) ;\n",
      "\tdouble lon(lon) ;\n",
      "\t\tlon:standard_name = \"longitude\" ;\n",
      "\t\tlon:long_name = \"longitude\" ;\n",
      "\t\tlon:units = \"degrees_east\" ;\n",
      "\t\tlon:axis = \"X\" ;\n",
      "\t\tlon:bounds = \"lon_bnds\" ;\n",
      "\tdouble lon_bnds(lon, bnds) ;\n",
      "\tdouble lat(lat) ;\n",
      "\t\tlat:standard_name = \"latitude\" ;\n",
      "\t\tlat:long_name = \"latitude\" ;\n",
      "\t\tlat:units = \"degrees_north\" ;\n",
      "\t\tlat:axis = \"Y\" ;\n",
      "\t\tlat:bounds = \"lat_bnds\" ;\n",
      "\tdouble lat_bnds(lat, bnds) ;\n",
      "\tfloat tas(time, lat, lon) ;\n",
      "\t\ttas:standard_name = \"air_temperature\" ;\n",
      "\t\ttas:long_name = \"Near-Surface Air Temperature\" ;\n",
      "\t\ttas:units = \"K\" ;\n",
      "\t\ttas:_FillValue = 1.e+20f ;\n",
      "\t\ttas:missing_value = 1.e+20f ;\n",
      "\t\ttas:cell_measures = \"area: areacella\" ;\n",
      "\t\ttas:cell_methods = \"area: time: mean\" ;\n",
      "\t\ttas:comment = \"near-surface (usually, 2 meter) air temperature\" ;\n",
      "\t\ttas:description = \"near-surface (usually, 2 meter) air temperature\" ;\n",
      "\t\ttas:frequency = \"mon\" ;\n",
      "\t\ttas:id = \"tas\" ;\n",
      "\t\ttas:mipTable = \"Amon\" ;\n",
      "\t\ttas:out_name = \"tas\" ;\n",
      "\t\ttas:prov = \"Amon ((isd.003))\" ;\n",
      "\t\ttas:realm = \"atmos\" ;\n",
      "\t\ttas:time = \"time\" ;\n",
      "\t\ttas:time_label = \"time-mean\" ;\n",
      "\t\ttas:time_title = \"Temporal mean\" ;\n",
      "\t\ttas:title = \"Near-Surface Air Temperature\" ;\n",
      "\t\ttas:type = \"real\" ;\n",
      "\t\ttas:variable_id = \"tas\" ;\n",
      "\n",
      "// global attributes:\n",
      "\t\t:CDI = \"Climate Data Interface version 2.0.5 (https://mpimet.mpg.de/cdi)\" ;\n",
      "\t\t:source = \"CESM2 (2017): atmosphere: CAM6 (0.9x1.25 finite volume grid; 288 x 192 longitude/latitude; 32 levels; top level 2.25 mb); ocean: POP2 (320x384 longitude/latitude; 60 levels; top grid cell 0-10 m); sea_ice: CICE5.1 (same grid as ocean); land: CLM5 0.9x1.25 finite volume grid; 288 x 192 longitude/latitude; 32 levels; top level 2.25 mb); aerosol: MAM4 (0.9x1.25 finite volume grid; 288 x 192 longitude/latitude; 32 levels; top level 2.25 mb); atmoschem: MAM4 (0.9x1.25 finite volume grid; 288 x 192 longitude/latitude; 32 levels; top level 2.25 mb); landIce: CISM2.1; ocnBgchem: MARBL (320x384 longitude/latitude; 60 levels; top grid cell 0-10 m)\" ;\n",
      "\t\t:institution = \"National Center for Atmospheric Research, Climate and Global Dynamics Laboratory, 1850 Table Mesa Drive, Boulder, CO 80305, USA\" ;\n",
      "\t\t:Conventions = \"CF-1.7 CMIP-6.2\" ;\n",
      "\t\t:activity_id = \"CMIP\" ;\n",
      "\t\t:case_id = \"15\" ;\n",
      "\t\t:cesm_casename = \"b.e21.BHIST.f09_g17.CMIP6-historical.001\" ;\n",
      "\t\t:contact = \"cesm_cmip6@ucar.edu\" ;\n",
      "\t\t:creation_date = \"2019-01-16T23:34:05Z\" ;\n",
      "\t\t:data_specs_version = \"01.00.29\" ;\n",
      "\t\t:experiment = \"all-forcing simulation of the recent past\" ;\n",
      "\t\t:experiment_id = \"historical\" ;\n",
      "\t\t:external_variables = \"areacella\" ;\n",
      "\t\t:frequency = \"mon\" ;\n",
      "\t\t:grid = \"native 0.9x1.25 finite volume grid (192x288 latxlon)\" ;\n",
      "\t\t:grid_label = \"gn\" ;\n",
      "\t\t:institution_id = \"NCAR\" ;\n",
      "\t\t:license = \"CMIP6 model data produced by <The National Center for Atmospheric Research> is licensed under a Creative Commons Attribution-[]ShareAlike 4.0 International License (https://creativecommons.org/licenses/). Consult https://pcmdi.llnl.gov/CMIP6/TermsOfUse for terms of use governing CMIP6 output, including citation requirements and proper acknowledgment. Further information about this data, including some limitations, can be found via the further_info_url (recorded as a global attribute in this file)[]. The data producers and data providers make no warranty, either express or implied, including, but not limited to, warranties of merchantability and fitness for a particular purpose. All liabilities arising from the supply of the information (including any liability arising in negligence) are excluded to the fullest extent permitted by law.\" ;\n",
      "\t\t:mip_era = \"CMIP6\" ;\n",
      "\t\t:model_doi_url = \"https://doi.org/10.5065/D67H1H0V\" ;\n",
      "\t\t:nominal_resolution = \"100 km\" ;\n",
      "\t\t:parent_activity_id = \"CMIP\" ;\n",
      "\t\t:parent_experiment_id = \"piControl\" ;\n",
      "\t\t:parent_mip_era = \"CMIP6\" ;\n",
      "\t\t:parent_source_id = \"CESM2\" ;\n",
      "\t\t:parent_time_units = \"days since 0001-01-01 00:00:00\" ;\n",
      "\t\t:parent_variant_label = \"r1i1p1f1\" ;\n",
      "\t\t:product = \"model-output\" ;\n",
      "\t\t:realm = \"atmos\" ;\n",
      "\t\t:source_id = \"CESM2\" ;\n",
      "\t\t:source_type = \"AOGCM BGC\" ;\n",
      "\t\t:table_id = \"Amon\" ;\n",
      "\t\t:tracking_id = \"hdl:21.14100/d9a7225a-49c3-4470-b7ab-a8180926f839\" ;\n",
      "\t\t:variable_id = \"tas\" ;\n",
      "\t\t:variant_info = \"CMIP6 20th century experiments (1850-2014) with CAM6, interactive land (CLM5), coupled ocean (POP2) with biogeochemistry (MARBL), interactive sea ice (CICE5.1), and non-evolving land ice (CISM2.1)\\r\\n\" ;\n",
      "\t\t:variant_label = \"r1i1p1f1\" ;\n",
      "\t\t:sub_experiment = \"none\" ;\n",
      "\t\t:sub_experiment_id = \"none\" ;\n",
      "\t\t:branch_time_in_parent = 219000. ;\n",
      "\t\t:branch_time_in_child = 674885. ;\n",
      "\t\t:branch_method = \"standard\" ;\n",
      "\t\t:further_info_url = \"https://furtherinfo.es-doc.org/CMIP6.NCAR.CESM2.historical.none.r1i1p1f1\" ;\n",
      "\t\t:history = \"Thu Aug 11 16:57:16 2022: cdo ymonsub /pool/data/CMIP6/data/CMIP/NCAR/CESM2/historical/r1i1p1f1/Amon/tas/gn/v20190308/tas_Amon_CESM2_historical_r1i1p1f1_gn_185001-201412.nc -ymonmean -selyear,1971/2000 /pool/data/CMIP6/data/CMIP/NCAR/CESM2/historical/r1i1p1f1/Amon/tas/gn/v20190308/tas_Amon_CESM2_historical_r1i1p1f1_gn_185001-201412.nc ./output/tas_Amon_CESM2_historical_r1i1p1f1_gn_197101-200012_anomaly.nc\" ;\n",
      "\t\t:CDO = \"Climate Data Operators version 2.0.5 (https://mpimet.mpg.de/cdo)\" ;\n",
      "}\n"
     ]
    }
   ],
   "source": [
    "!ncdump -h ./output/tas_Amon_CESM2_historical_r1i1p1f1_gn_197101-200012_anomaly.nc"
   ]
  },
  {
   "cell_type": "markdown",
   "metadata": {},
   "source": [
    "### Calculate Nino34 Index using monthly anomaly\n",
    "\n",
    "There are several indices used to monitor the tropical Pacific, all of which are based on SST anomalies averaged across a given region.  Usually the anomalies are computed relative to a base period of 30 years.  The Niño 3.4 index and the Oceanic Niño Index (ONI) are the most commonly used indices to define El Niño and La Niña events. See more about [sea surface tempreture indices](https://climatedataguide.ucar.edu/climate-data/nino-sst-indices-nino-12-3-34-4-oni-and-tni)."
   ]
  },
  {
   "cell_type": "markdown",
   "metadata": {},
   "source": [
    "To calcuate Nino34 Index, we need to choose the Nino34 region with lat/lon bbox = (-170,-120,-5,5)"
   ]
  },
  {
   "cell_type": "code",
   "execution_count": 5,
   "metadata": {},
   "outputs": [
    {
     "name": "stdout",
     "output_type": "stream",
     "text": [
      "\u001b[32mcdo    sellonlatbox: \u001b[0mProcessed 109486080 values from 1 variable over 1980 timesteps [0.34s 50MB].\n"
     ]
    }
   ],
   "source": [
    "!cdo sellonlatbox,-170,-120,-5,5 ./output/tas_Amon_CESM2_historical_r1i1p1f1_gn_197101-200012_anomaly.nc ./output/Nino34Region.nc"
   ]
  },
  {
   "cell_type": "markdown",
   "metadata": {},
   "source": [
    "Then use function **fldavg** to calculate the field average and save the result as the Nino34 index."
   ]
  },
  {
   "cell_type": "code",
   "execution_count": 6,
   "metadata": {},
   "outputs": [
    {
     "name": "stdout",
     "output_type": "stream",
     "text": [
      "cdo    fldavg:                        1 1 1 1 1 1 1 1 1 1 2 2 2 2 2 2 2 2 2 2 3 3 3 3 3 3 3 3 3 3 4 4 4 4 4 4 4 4 4 4 5 5 5 5 5 5 5 5 5 5 6 6 6 6 6 6 6 6 6 6 7 7 7 7 7 7 7 7 7 7 8 8 8 8 8 8 8 8 8 8 9 9 9 9 9 9 9 9 9 91\u001b[32mcdo    fldavg: \u001b[0mProcessed 811800 values from 1 variable over 1980 timesteps [0.19s 50MB].\n"
     ]
    }
   ],
   "source": [
    "!cdo fldavg ./output/Nino34Region.nc ./output/Nino34Idx.nc"
   ]
  },
  {
   "cell_type": "markdown",
   "metadata": {},
   "source": [
    "### Summary\n",
    "\n",
    "In this example, we show how to use CDO command line operators to calculate monthly anomaly and Nino34 Climate Index."
   ]
  },
  {
   "cell_type": "markdown",
   "metadata": {},
   "source": [
    "## Reference\n",
    "\n",
    "\n",
    "https://code.mpimet.mpg.de/projects/cdo/embedded/cdo.pdf"
   ]
  }
 ],
 "metadata": {
  "kernelspec": {
   "display_name": "Python 3 (based on the module python3/2022.01)",
   "language": "python",
   "name": "python3_2022_01"
  },
  "language_info": {
   "codemirror_mode": {
    "name": "ipython",
    "version": 3
   },
   "file_extension": ".py",
   "mimetype": "text/x-python",
   "name": "python",
   "nbconvert_exporter": "python",
   "pygments_lexer": "ipython3",
   "version": "3.9.9"
  }
 },
 "nbformat": 4,
 "nbformat_minor": 4
}
