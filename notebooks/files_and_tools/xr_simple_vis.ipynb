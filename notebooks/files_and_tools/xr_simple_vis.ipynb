{
 "cells": [
  {
   "cell_type": "markdown",
   "id": "de467705-6d3f-4ca7-a172-2bba95c34e6b",
   "metadata": {},
   "source": [
    "# Simple CMIP6 file metadata and naming conventions example\n",
    "- locate data in large data collection based on naming conventions\n",
    "- show data file attributes\n",
    "- access example 3D / 4D data (e.g. for ploting)\n",
    "- (inspired by https://metos-uio.github.io/GEO4962/04-Simple_plot/index.html )\n"
   ]
  },
  {
   "cell_type": "code",
   "execution_count": null,
   "id": "66d92daa-02c4-4021-8cd7-2b20af72e7e3",
   "metadata": {},
   "outputs": [],
   "source": [
    "import xarray as xr"
   ]
  },
  {
   "cell_type": "markdown",
   "id": "809083fc-1601-47da-b9a2-49ebe40c8549",
   "metadata": {},
   "source": [
    "## naming conventions\n",
    "- use directory naming convention to navigate to directory\n",
    "- use file naming convention to select a specific file"
   ]
  },
  {
   "cell_type": "code",
   "execution_count": null,
   "id": "fb215a67-5d12-44a4-94cd-7cc4c71a0987",
   "metadata": {},
   "outputs": [],
   "source": [
    "path = \"/pool/data/CMIP6/data/CMIP/NCAR/CESM2/historical/r1i1p1f1/Amon/tas/gn/v20190308/\"\n",
    "filename = path+\"tas_Amon_CESM2_historical_r1i1p1f1_gn_185001-201412.nc\"\n",
    "print(filename)"
   ]
  },
  {
   "cell_type": "code",
   "execution_count": null,
   "id": "c30d50a4-1884-40b7-bb6a-1c2c10b809da",
   "metadata": {},
   "outputs": [],
   "source": [
    "ds = xr.open_dataset(filename)"
   ]
  },
  {
   "cell_type": "code",
   "execution_count": null,
   "id": "5ab5af9f-e69b-4e7b-8d4e-b426a33f2f02",
   "metadata": {},
   "outputs": [],
   "source": [
    "ds"
   ]
  },
  {
   "cell_type": "code",
   "execution_count": null,
   "id": "2caeb370-8a97-4a8d-8d78-05c2b02c7f58",
   "metadata": {},
   "outputs": [],
   "source": [
    "#To plot the first time step\n",
    "ds.tas.isel(time=0).plot()"
   ]
  },
  {
   "cell_type": "code",
   "execution_count": null,
   "id": "3a70ef48-b204-4f56-8668-379e61839f7c",
   "metadata": {},
   "outputs": [],
   "source": [
    "# To plot May 1929\n",
    "ds.tas.sel(time='1929-05').plot()"
   ]
  },
  {
   "cell_type": "code",
   "execution_count": null,
   "id": "c1671399-c08b-40f2-98c7-9279c3631888",
   "metadata": {},
   "outputs": [],
   "source": [
    "#import python package to scale image\n",
    "import matplotlib as mpl\n",
    "\n",
    "#adjust figure size\n",
    "mpl.rcParams['figure.figsize'] = [10., 8.]\n",
    "ds.tas.isel(time=0).plot()"
   ]
  },
  {
   "cell_type": "markdown",
   "id": "ee4aee0d-8aaf-4bc2-bfd1-efc6f676ce65",
   "metadata": {},
   "source": [
    "### Exercise: Plot 4D-fields such as Temperature\n",
    "\n",
    "Add another cell below the plot and display, in the same way, the temperature ta instead of the near-surface air temperature (tas)."
   ]
  },
  {
   "cell_type": "code",
   "execution_count": null,
   "id": "9b36fa2e-9131-449b-aa13-470192492efc",
   "metadata": {},
   "outputs": [],
   "source": [
    "# Open data file and read data\n",
    "path = \"/pool/data/CMIP6/data/CMIP/NCAR/CESM2/historical/r1i1p1f1/Amon/ta/gn/v20190308/\"\n",
    "filename = path+\"ta_Amon_CESM2_historical_r1i1p1f1_gn_185001-201412.nc\"\n",
    "print(filename)\n",
    "ds = xr.open_dataset(filename)\n",
    "ds "
   ]
  },
  {
   "cell_type": "markdown",
   "id": "c0f4c1aa-af09-4521-b1a4-107e2eb674ff",
   "metadata": {},
   "source": [
    "Contrary to tas, which depends only on two spatial dimensions (namely latitude and longitude) plus time, ta has an additional vertical dimension (plev)."
   ]
  },
  {
   "cell_type": "code",
   "execution_count": null,
   "id": "1fad58bb-4e98-4141-890b-55161bfad0da",
   "metadata": {},
   "outputs": [],
   "source": [
    "# Plot the first time step at the 850 hPa pressure level\n",
    "ds.ta.isel(time=0, plev=2).plot()"
   ]
  },
  {
   "cell_type": "markdown",
   "id": "4e824fdb-2f5c-4a67-b01b-c3e9945d74ce",
   "metadata": {},
   "source": [
    "### Exercise:\n",
    "    \n",
    "Now, add another cell below the plot and try to display the zonal wind (ua) instead of the near-surface air temperature (tas). Since ta and ua have an additional dimension (along the vertical), we also have to specify a vertical level (between 0 and 18) to make our plot.\n",
    "\n"
   ]
  },
  {
   "cell_type": "code",
   "execution_count": null,
   "id": "80df6fc7-971f-47b8-b37c-5aef4bc82ebe",
   "metadata": {},
   "outputs": [],
   "source": [
    "# Open data file and read data\n",
    "path = \"/pool/data/CMIP6/data/CMIP/NCAR/CESM2/historical/r1i1p1f1/Amon/ua/gn/v20190308/\"\n",
    "filename = path + 'ua_Amon_CESM2_historical_r1i1p1f1_gn_185001-201412.nc'\n",
    "print(filename)\n",
    "ds = xr.open_dataset(filename)\n",
    "\n",
    "# Plot the first time step at higgest pressure level\n",
    "ds.ua.isel(plev=-1,time=0).plot()"
   ]
  },
  {
   "cell_type": "markdown",
   "id": "55298412-5688-40a3-8157-0fbbcb663a54",
   "metadata": {},
   "source": [
    "### Change map projection\n",
    "We can use the Python package Cartopy to produce maps and do other geospatial data analyses. We will also use pyplot, a collection of functions that make plotting simpler."
   ]
  },
  {
   "cell_type": "code",
   "execution_count": null,
   "id": "c1bfe580-edab-4364-9801-f053539ffe8c",
   "metadata": {},
   "outputs": [],
   "source": [
    "import cartopy.crs as ccrs\n",
    "import matplotlib.pyplot as plt\n",
    "\n",
    "fig = plt.figure()\n",
    "ax = plt.axes(projection=ccrs.Miller())\n",
    "\n",
    "ds.ua.isel(plev=-1,time=0).plot(ax=ax, \n",
    "           transform=ccrs.PlateCarree()\n",
    "          )\n",
    "\n",
    "ax.coastlines()"
   ]
  }
 ],
 "metadata": {
  "kernelspec": {
   "display_name": "sschool",
   "language": "python",
   "name": "sschool"
  },
  "language_info": {
   "codemirror_mode": {
    "name": "ipython",
    "version": 3
   },
   "file_extension": ".py",
   "mimetype": "text/x-python",
   "name": "python",
   "nbconvert_exporter": "python",
   "pygments_lexer": "ipython3",
   "version": "3.10.5"
  }
 },
 "nbformat": 4,
 "nbformat_minor": 5
}
