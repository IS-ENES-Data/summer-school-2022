{
 "cells": [
  {
   "cell_type": "markdown",
   "metadata": {},
   "source": [
    "# CDO Ocean/Land Mask\n",
    "\n",
    "\n",
    "In this notebook we demonstrate how to mask ocean or land:\n",
    "\n",
    "- Look at the data information\n",
    "- Create land and ocean masks to limit the field to land/ocean values \n",
    "- Visualise data using xarray and hvplot\n",
    "\n",
    "\n",
    "This example uses the Coupled Model Intercomparison Project (CMIP6) collections. \n",
    "\n",
    "---\n",
    "inspired by the notebook in  https://github.com/NCI-data-analysis-platform/climate-cmip.git\n",
    "- Original Authors: NCI Virtual Research Environment Team\n",
    "- Keywords: CMIP, CDO, land mask, ocean mask\n",
    "- Create Date: 2019-Dec; Update Date: 2021-Feb\n",
    "---\n",
    "Adapted to work on the DKRZ jupyterhub environment: S. Kindermann August 2022\n",
    "\n",
    "This notebook is licenced under the [Creative Commons Attribution 4.0 International license](https://creativecommons.org/licenses/by/4.0/)"
   ]
  },
  {
   "cell_type": "markdown",
   "metadata": {},
   "source": [
    "### Load CDO module\n",
    "\n",
    "To load the CDO module on the VDI, run:\n",
    "\n",
    "``` $ module load cdo```"
   ]
  },
  {
   "cell_type": "markdown",
   "metadata": {},
   "source": [
    "### CMIP6 data"
   ]
  },
  {
   "cell_type": "markdown",
   "metadata": {},
   "source": [
    "The following example file includes the near surface temperature from the 20th century all-forcing historical simulation based on the CESM2.0 model of NCAR. "
   ]
  },
  {
   "cell_type": "code",
   "execution_count": null,
   "metadata": {},
   "outputs": [],
   "source": [
    "!ls /pool/data/CMIP6/data/CMIP/NCAR/CESM2/historical/r1i1p1f1/Amon/tas/gn/v20190308/tas_Amon_CESM2_historical_r1i1p1f1_gn_185001-201412.nc"
   ]
  },
  {
   "cell_type": "markdown",
   "metadata": {},
   "source": [
    "### Have a look at the data file using cdo info"
   ]
  },
  {
   "cell_type": "markdown",
   "metadata": {},
   "source": [
    "Basic usage: **cdo info filename | head -xx**\n",
    "\n",
    "**head** displays only the first lines of the output (in this case xx lines)"
   ]
  },
  {
   "cell_type": "code",
   "execution_count": null,
   "metadata": {},
   "outputs": [],
   "source": [
    " !cdo info /pool/data/CMIP6/data/CMIP/NCAR/CESM2/historical/r1i1p1f1/Amon/tas/gn/v20190308/tas_Amon_CESM2_historical_r1i1p1f1_gn_185001-201412.nc| head -15"
   ]
  },
  {
   "cell_type": "markdown",
   "metadata": {},
   "source": [
    "### Let's see which years this file includes"
   ]
  },
  {
   "cell_type": "markdown",
   "metadata": {},
   "source": [
    "We use the function **showyear** to display all the years in this file.\n",
    "\n",
    "**Basic usage**: **cdo showyear file**"
   ]
  },
  {
   "cell_type": "code",
   "execution_count": null,
   "metadata": {},
   "outputs": [],
   "source": [
    "!cdo showyear /pool/data/CMIP6/data/CMIP/NCAR/CESM2/historical/r1i1p1f1/Amon/tas/gn/v20190308/tas_Amon_CESM2_historical_r1i1p1f1_gn_185001-201412.nc"
   ]
  },
  {
   "cell_type": "markdown",
   "metadata": {},
   "source": [
    "### Create topography data "
   ]
  },
  {
   "cell_type": "markdown",
   "metadata": {},
   "source": [
    "```\n",
    "$ cdo -f <format of the output file (e.g. nc/grb/srv/ext/ieg)> topo topo.nc\n",
    "```\n",
    "The operator topo creates a half degree regular grid with heights and depths. This can be very useful for generating masks to a certain height/depth."
   ]
  },
  {
   "cell_type": "code",
   "execution_count": null,
   "metadata": {},
   "outputs": [],
   "source": [
    "### create output directory if it doesn't already exist\n",
    "import os\n",
    "outdir = './output'\n",
    "if not os.path.exists(outdir):\n",
    "    os.mkdir(outdir)\n",
    "\n",
    "!cdo -f nc topo ./output/topo.nc "
   ]
  },
  {
   "cell_type": "markdown",
   "metadata": {},
   "source": [
    "Let's visualise our topo.nc file in xarray"
   ]
  },
  {
   "cell_type": "code",
   "execution_count": null,
   "metadata": {},
   "outputs": [],
   "source": [
    "import xarray as xr \n",
    "topo= xr.open_dataset(\"./output/topo.nc\")\n",
    "topo.topo.plot()              "
   ]
  },
  {
   "cell_type": "markdown",
   "metadata": {},
   "source": [
    "From our topo.nc file we can observe that the topography values over land areas are greater than 0 whereas over ocean areas the topography are less than 0."
   ]
  },
  {
   "cell_type": "markdown",
   "metadata": {},
   "source": [
    "### Create ocean mask file"
   ]
  },
  {
   "cell_type": "markdown",
   "metadata": {},
   "source": [
    "**Basic usage**: \n",
    "\n",
    "```cdo gtc, 0 -remapcon, input.nc topo.nc output.nc```\n",
    "\n",
    "\n",
    "There are several steps involved in here:\n",
    "\n",
    "First, remapping the topo.nc file to change its resolution so that it is consistent with the input data that we use: \n",
    "\n",
    "```\n",
    "$ cdo -remapcon,/pool/data/CMIP6/data/CMIP/NCAR/CESM2/historical/r1i1p1f1/Amon/tas/gn/v20190308/tas_Amon_CESM2_historical_r1i1p1f1_gn_185001-201412.nc ./output/topo.nc ./output/topo_adjusted.nc\n",
    "```\n",
    "\n",
    "Second, create a mask containing 1 if the topography element is greater than 0: \n",
    "```\n",
    "$ cdo gtc,0 topo_adjusted.nc seamask.nc\n",
    "```"
   ]
  },
  {
   "cell_type": "markdown",
   "metadata": {},
   "source": [
    "### Now we will try to chain all the commands together"
   ]
  },
  {
   "cell_type": "markdown",
   "metadata": {},
   "source": [
    "**Basic Usage:** \n",
    "\n",
    "```cdo -f <file_type> -gtc,0 -remapcon,<input.nc> -topo <output.nc>```\n"
   ]
  },
  {
   "cell_type": "code",
   "execution_count": null,
   "metadata": {},
   "outputs": [],
   "source": [
    "!cdo -f nc -gtc,0 -remapcon,/pool/data/CMIP6/data/CMIP/NCAR/CESM2/historical/r1i1p1f1/Amon/tas/gn/v20190308/tas_Amon_CESM2_historical_r1i1p1f1_gn_185001-201412.nc -topo ./output/seamask.nc"
   ]
  },
  {
   "cell_type": "markdown",
   "metadata": {},
   "source": [
    "**Similarly, we can get land mask using the following command:**\n",
    "\n",
    "```cdo -f <file_type> -lec,0 -remapcon,<input.nc> -topo <output.nc>```"
   ]
  },
  {
   "cell_type": "code",
   "execution_count": null,
   "metadata": {},
   "outputs": [],
   "source": [
    "!cdo -f nc -lec,0 -remapcon,/pool/data/CMIP6/data/CMIP/NCAR/CESM2/historical/r1i1p1f1/Amon/tas/gn/v20190308/tas_Amon_CESM2_historical_r1i1p1f1_gn_185001-201412.nc -topo ./output/landmask.nc"
   ]
  },
  {
   "cell_type": "markdown",
   "metadata": {},
   "source": [
    "### Let's have a look at what the generated seamask.nc looks like"
   ]
  },
  {
   "cell_type": "code",
   "execution_count": null,
   "metadata": {},
   "outputs": [],
   "source": [
    "sea = xr.open_dataset(\"./output/seamask.nc\")\n",
    "sea.topo.plot()"
   ]
  },
  {
   "cell_type": "markdown",
   "metadata": {},
   "source": [
    "From our topography file, we can see that all ocean values are 0 and all land values are 1."
   ]
  },
  {
   "cell_type": "markdown",
   "metadata": {},
   "source": [
    "### Now we can apply the seamask to the original data to mask out ocean data"
   ]
  },
  {
   "cell_type": "markdown",
   "metadata": {},
   "source": [
    "Multiply input.nc and seamask, and the ocean values in output.nc all become zero.\n",
    "\n",
    "```cdo mul <input.nc> <seamask.nc> <output.nc>```\n",
    "\n",
    "Set zero as the missing value in the data:\n",
    "\n",
    "```cdo setmissval,0 <input.nc> <output.nc>```\n",
    "\n",
    "\n",
    "To combine these two commands together:\n",
    "\n",
    "```cdo setmissval,0 -mul <input.nc> <seamask.nc> <output.nc>**```\n",
    "``` \n",
    "\n",
    "Warning: Be cautious when using zero as the missing value in case zero has already been used as a reasonable element in the original data. In this example, the data use Kelvin(K) as the unit of temperature and therefore using zero as the missing value is not an issue as 0deg K cannot be interpreted as a reasonable Earth near surface temperature."
   ]
  },
  {
   "cell_type": "code",
   "execution_count": null,
   "metadata": {},
   "outputs": [],
   "source": [
    "!cdo setmissval,0 -mul /pool/data/CMIP6/data/CMIP/NCAR/CESM2/historical/r1i1p1f1/Amon/tas/gn/v20190308/tas_Amon_CESM2_historical_r1i1p1f1_gn_185001-201412.nc ./output/seamask.nc ./output/tas_Amon_CESM2_historical_r1i1p1f1_gn_185001-201412_land.nc"
   ]
  },
  {
   "cell_type": "markdown",
   "metadata": {},
   "source": [
    "### Let's have a look at the new land data file"
   ]
  },
  {
   "cell_type": "code",
   "execution_count": null,
   "metadata": {},
   "outputs": [],
   "source": [
    "# to do: ncview shows nice plot .. :-)\n",
    "import xarray as xr\n",
    "import hvplot.xarray\n",
    "land = xr.open_dataset(\"./output/tas_Amon_CESM2_historical_r1i1p1f1_gn_185001-201412_land.nc\")\n",
    "\n",
    "#land.tas.isel(time=0).plot()\n",
    "land.tas.hvplot.quadmesh(width=600)"
   ]
  },
  {
   "cell_type": "markdown",
   "metadata": {},
   "source": [
    "### Summary\n",
    "\n",
    "In this example, we show how to use CDO to create land/ocean masks when we only need to visualize the ocean/land data.\n",
    "\n",
    "## Reference\n",
    "\n",
    "https://code.zmaw.de/projects/cdo/embedded/cdo.pdf\n"
   ]
  }
 ],
 "metadata": {
  "kernelspec": {
   "display_name": "Python 3 (based on the module python3/2022.01)",
   "language": "python",
   "name": "python3_2022_01"
  },
  "language_info": {
   "codemirror_mode": {
    "name": "ipython",
    "version": 3
   },
   "file_extension": ".py",
   "mimetype": "text/x-python",
   "name": "python",
   "nbconvert_exporter": "python",
   "pygments_lexer": "ipython3",
   "version": "3.9.9"
  }
 },
 "nbformat": 4,
 "nbformat_minor": 4
}
